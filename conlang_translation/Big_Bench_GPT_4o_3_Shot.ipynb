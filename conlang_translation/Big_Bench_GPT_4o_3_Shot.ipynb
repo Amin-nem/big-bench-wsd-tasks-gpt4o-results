{
  "cells": [
    {
      "cell_type": "markdown",
      "metadata": {
        "id": "DZDG0GdGD0v9"
      },
      "source": [
        "# Big Bench"
      ]
    },
    {
      "cell_type": "code",
      "execution_count": null,
      "metadata": {
        "id": "vV0Uy2SFbMTL"
      },
      "outputs": [],
      "source": [
        "!pip install \"bigbench @ https://storage.googleapis.com/public_research_data/bigbench/bigbench-0.0.1.tar.gz\" -q"
      ]
    },
    {
      "cell_type": "code",
      "execution_count": null,
      "metadata": {
        "id": "Lg-fT6-UN42_"
      },
      "outputs": [],
      "source": [
        "!pip install dspy datasets python-Levenshtein -q"
      ]
    },
    {
      "cell_type": "code",
      "execution_count": 98,
      "metadata": {
        "id": "CAK829NqNIAn"
      },
      "outputs": [],
      "source": [
        "import os\n",
        "import pandas as pd\n",
        "from datasets import load_dataset\n",
        "import dspy\n",
        "import Levenshtein\n",
        "import random\n",
        "from openai import OpenAI\n",
        "client = OpenAI()"
      ]
    },
    {
      "cell_type": "code",
      "execution_count": 381,
      "metadata": {
        "colab": {
          "base_uri": "https://localhost:8080/"
        },
        "id": "PdNcxlQQN2iw",
        "outputId": "8332ee88-cc26-4a93-c96b-a873edcd6994"
      },
      "outputs": [
        {
          "name": "stdout",
          "output_type": "stream",
          "text": [
            "There are 164 examples.\n"
          ]
        }
      ],
      "source": [
        "ds = load_dataset(\"google/bigbench\", \"conlang_translation\")[\"default\"]\n",
        "examples = [dspy.Example({\"question\": r[\"inputs\"], \"options\": r[\"multiple_choice_targets\"], \"answer\":r['targets']}).with_inputs(\"question\",\"options\") for r in ds]\n",
        "print(f\"There are {len(examples)} examples.\")\n",
        "trainset = random.sample(examples, 3)\n",
        "valset = [i for i in examples if i not in trainset]"
      ]
    },
    {
      "cell_type": "code",
      "execution_count": 382,
      "metadata": {
        "colab": {
          "base_uri": "https://localhost:8080/"
        },
        "id": "t4x2Rc3DZ9tv",
        "outputId": "428a3abf-9598-4920-a1e6-6b853e1c63a6"
      },
      "outputs": [
        {
          "data": {
            "text/plain": [
              "Example({'question': 'The following are sentences in Adna and their English translations:\\n\\nADNA: Ndengi ngase.\\nENGLISH TRANSLATION: He drinks water.\\nADNA: Ngoru ndatab ndengi ngase.\\nENGLISH TRANSLATION: The child keeps drinking water.\\nADNA: Ngoru ndabgu.\\nENGLISH TRANSLATION: The child grows.\\nADNA: Ngoru ndatab ndangalan.\\nENGLISH TRANSLATION: The child keeps crawling.\\nADNA: Ndimbi ndamba.\\nENGLISH TRANSLATION: He runs here.\\nADNA: Ndavera Ambandate ndisbo.\\nENGLISH TRANSLATION: He pulls Ambandate down.\\nADNA: Ambandate ndisbo.\\nENGLISH TRANSLATION: Ambandate goes down.\\nADNA: Ndekaselib luta ndaksay.\\nENGLISH TRANSLATION: He carries the axe up.\\nADNA: Ndalbande ngase ndamba.\\nENGLISH TRANSLATION: He brings water.\\nADNA: Kansasres ndimbi ndaksay.\\nENGLISH TRANSLATION: The teacher runs up.\\nADNA: Ngase ndimbi.\\nENGLISH TRANSLATION: The water runs.\\nADNA: Ambandate ndokami.\\nENGLISH TRANSLATION: Ambandate eats.\\nADNA: Ndekaselib tebu.\\nENGLISH TRANSLATION: He carries taro.\\nADNA: Ndahadal.\\nENGLISH TRANSLATION: He walks.\\nADNA: Ndalbande kubutsu.\\nENGLISH TRANSLATION: He brings the palm tree.\\n\\n\\nNow, translate the following from Adna to English: \\nADNA: Ngase ndimbi ndisbo.\\nENGLISH TRANSLATION:', 'options': [], 'answer': ['The water runs down.']}) (input_keys={'question', 'options'})"
            ]
          },
          "execution_count": 382,
          "metadata": {},
          "output_type": "execute_result"
        }
      ],
      "source": [
        "examples[1]"
      ]
    },
    {
      "cell_type": "code",
      "execution_count": 383,
      "metadata": {
        "id": "xaiERTcWOd4A"
      },
      "outputs": [],
      "source": [
        "lm = dspy.OpenAI(model=\"gpt-4o-2024-05-13\")\n",
        "dspy.settings.configure(lm=lm)"
      ]
    },
    {
      "cell_type": "code",
      "execution_count": 384,
      "metadata": {
        "id": "fSxGY8NCRtPA"
      },
      "outputs": [],
      "source": [
        "def custom_format_handler(value):\n",
        "    if isinstance(value, list):\n",
        "        return ' | '.join(map(str, value))\n",
        "        #return value[-1]\n",
        "    return value"
      ]
    },
    {
      "cell_type": "code",
      "execution_count": 386,
      "metadata": {
        "id": "rUZCKnIgPjdW"
      },
      "outputs": [],
      "source": [
        "class CoTSignature(dspy.Signature):\n",
        "    \"\"\"You are a translator. Only produce the required translation answer.\"\"\"\n",
        "    question = dspy.InputField()\n",
        "    #options = dspy.InputField(format=custom_format_handler)\n",
        "    answer = dspy.OutputField(format=custom_format_handler)"
      ]
    },
    {
      "cell_type": "code",
      "execution_count": 387,
      "metadata": {
        "id": "qcS1FZ4f6zX5"
      },
      "outputs": [],
      "source": [
        "simple_predict = dspy.Predict(CoTSignature)"
      ]
    },
    {
      "cell_type": "code",
      "execution_count": 388,
      "metadata": {
        "id": "z28WUE-JQM7D"
      },
      "outputs": [],
      "source": [
        "class CoT(dspy.Module):\n",
        "    def __init__(self):\n",
        "        super().__init__()\n",
        "        self.signature = CoTSignature\n",
        "        self.predictor = dspy.ChainOfThought(self.signature)\n",
        "    def forward(self, question, options):\n",
        "      result = self.predictor(lm=lm,question=question, options=options)\n",
        "      return dspy.Prediction(answer=result.answer)"
      ]
    },
    {
      "cell_type": "code",
      "execution_count": 389,
      "metadata": {
        "colab": {
          "base_uri": "https://localhost:8080/"
        },
        "id": "wGPRr5b9QvPq",
        "outputId": "13cc567f-e443-4141-dfaf-9311507fcda8"
      },
      "outputs": [
        {
          "name": "stdout",
          "output_type": "stream",
          "text": [
            "Sense: Question: Now, translate the following from English to Holuan: ENGLISH: nineteen people\n",
            "Reasoning: Let's think step by step in order to produce the answer. We need to identify the Holuan words for \"nineteen\" and \"people.\" From the given sentences, we know that \"three people\" is \"bame ęg jog\" and \"nine\n"
          ]
        }
      ],
      "source": [
        "cot_module = CoT()\n",
        "test_q = examples[74]\n",
        "prediction = cot_module.forward(question=test_q.question, options=test_q.options)\n",
        "print(f\"Sense: {prediction.answer}\")"
      ]
    },
    {
      "cell_type": "code",
      "execution_count": 390,
      "metadata": {
        "colab": {
          "base_uri": "https://localhost:8080/"
        },
        "id": "76NYq151KQ63",
        "outputId": "ce876731-5748-49b9-fd28-ad82967eabe0"
      },
      "outputs": [
        {
          "data": {
            "text/plain": [
              "Prediction(\n",
              "    answer='mlsea ęg jog'\n",
              ")"
            ]
          },
          "execution_count": 390,
          "metadata": {},
          "output_type": "execute_result"
        }
      ],
      "source": [
        "simple_predict(question=test_q.question, options=test_q.options)"
      ]
    },
    {
      "cell_type": "code",
      "execution_count": 391,
      "metadata": {
        "id": "z5HfYBewQ_YN"
      },
      "outputs": [],
      "source": [
        "def wsd_metric(example, pred, trace=None, threshold=0.90):\n",
        "    \"\"\"Metric function for word sense disambiguation with Levenshtein distance.\"\"\"\n",
        "    gold_sense = example.answer[0]\n",
        "    predicted_sense = pred.answer\n",
        "\n",
        "    # Calculate Levenshtein similarity\n",
        "    similarity = Levenshtein.ratio(gold_sense.lower(), predicted_sense.lower())\n",
        "\n",
        "    # Check if similarity exceeds the threshold\n",
        "    return int(similarity >= threshold)\n"
      ]
    },
    {
      "cell_type": "code",
      "execution_count": 392,
      "metadata": {
        "colab": {
          "base_uri": "https://localhost:8080/"
        },
        "id": "LLsLpt9kT2wa",
        "outputId": "9361c53d-5641-4ef9-907d-b034a4176793"
      },
      "outputs": [
        {
          "name": "stderr",
          "output_type": "stream",
          "text": [
            "  0%|          | 0/3 [00:00<?, ?it/s]"
          ]
        },
        {
          "name": "stdout",
          "output_type": "stream",
          "text": [
            "Bootstrapped 0 full traces after 1 examples in round 0.\n"
          ]
        },
        {
          "name": "stderr",
          "output_type": "stream",
          "text": [
            "\n"
          ]
        }
      ],
      "source": [
        "from dspy.teleprompt import BootstrapFewShot\n",
        "\n",
        "# Set up the optimizer: we want to \"bootstrap\" (i.e., self-generate) 4-shot examples of our CoT program.\n",
        "config = dict(max_bootstrapped_demos=0, max_labeled_demos=3)\n",
        "\n",
        "# Optimize! Use the `gsm8k_metric` here. In general, the metric is going to tell the optimizer how well it's doing.\n",
        "teleprompter = BootstrapFewShot(metric=wsd_metric, **config)\n",
        "optimized_cot = teleprompter.compile(CoT(), trainset=trainset)"
      ]
    },
    {
      "cell_type": "code",
      "execution_count": 393,
      "metadata": {
        "colab": {
          "base_uri": "https://localhost:8080/"
        },
        "id": "uxd0UMPiY6GP",
        "outputId": "537f88e7-a69b-4908-c7eb-cb02e189cb94"
      },
      "outputs": [
        {
          "data": {
            "text/plain": [
              "Prediction(\n",
              "    answer='mlsea ęg jog'\n",
              ")"
            ]
          },
          "execution_count": 393,
          "metadata": {},
          "output_type": "execute_result"
        }
      ],
      "source": [
        "optimized_cot.forward(question=test_q.question, options=test_q.options)"
      ]
    },
    {
      "cell_type": "code",
      "execution_count": 394,
      "metadata": {
        "colab": {
          "base_uri": "https://localhost:8080/"
        },
        "id": "PWKWBap1YIzG",
        "outputId": "93a9f8a5-b437-4732-c365-06f1e1baa3ee"
      },
      "outputs": [
        {
          "name": "stdout",
          "output_type": "stream",
          "text": [
            "\n",
            "\n",
            "\n",
            "\n",
            "You are a translator. Only produce the required translation answer.\n",
            "\n",
            "---\n",
            "\n",
            "Follow the following format.\n",
            "\n",
            "Question: ${question}\n",
            "Reasoning: Let's think step by step in order to ${produce the answer}. We ...\n",
            "Answer: ${answer}\n",
            "\n",
            "---\n",
            "\n",
            "Question: The following are sentences in Adna and their English translations: ADNA: Ndengi ngase. ENGLISH TRANSLATION: He drinks water. ADNA: Ngoru ndatab ndengi ngase. ENGLISH TRANSLATION: The child keeps drinking water. ADNA: Ngoru ndabgu. ENGLISH TRANSLATION: The child grows. ADNA: Ngoru ndatab ndangalan. ENGLISH TRANSLATION: The child keeps crawling. ADNA: Ndimbi ndamba. ENGLISH TRANSLATION: He runs here. ADNA: Ndavera Ambandate ndisbo. ENGLISH TRANSLATION: He pulls Ambandate down. ADNA: Ambandate ndisbo. ENGLISH TRANSLATION: Ambandate goes down. ADNA: Ndekaselib luta ndaksay. ENGLISH TRANSLATION: He carries the axe up. ADNA: Ndalbande ngase ndamba. ENGLISH TRANSLATION: He brings water. ADNA: Kansasres ndimbi ndaksay. ENGLISH TRANSLATION: The teacher runs up. ADNA: Ngase ndimbi. ENGLISH TRANSLATION: The water runs. ADNA: Ambandate ndokami. ENGLISH TRANSLATION: Ambandate eats. ADNA: Ndekaselib tebu. ENGLISH TRANSLATION: He carries taro. ADNA: Ndahadal. ENGLISH TRANSLATION: He walks. ADNA: Ndalbande kubutsu. ENGLISH TRANSLATION: He brings the palm tree. Now, translate the following from Adna to English: ADNA: Ngase ndimbi ndisbo. ENGLISH TRANSLATION:\n",
            "Answer: The water runs down.\n",
            "\n",
            "Question: The following are sentences in Holuan and their English translations: HOLUAN: asi ęg piog ENGLISH TRANSLATION: two months HOLUAN: ame ęg tomt ENGLISH TRANSLATION: three days HOLUAN: bame ęg jog ENGLISH TRANSLATION: three people HOLUAN: mlrolam ęg lamk ENGLISH TRANSLATION: six pigs HOLUAN: baom ęg sensei ENGLISH TRANSLATION: five teachers HOLUAN: aom ęg neb ENGLISH TRANSLATION: five years HOLUAN: asea ęg mlębęto ENGLISH TRANSLATION: nine afternoons HOLUAN: mlsea ęg heb ENGLISH TRANSLATION: nine scrolls HOLUAN: mlrolam ęg giot ENGLISH TRANSLATION: six papayas HOLUAN: baeo ęg mtolęb ENGLISH TRANSLATION: eight children HOLUAN: tęmoaj na o bame ęg piok ENGLISH TRANSLATION: thirteen boys HOLUAN: tęmoaj na o aiot ęg tilang ENGLISH TRANSLATION: seventeen hours HOLUAN: udesi ęg piog ENGLISH TRANSLATION: February HOLUAN: udeme ęg oboer ENGLISH TRANSLATION: Wednesday Now, translate the following from Holuan to English: HOLUAN: mlsi ęg giot ENGLISH TRANSLATION:\n",
            "Answer: two papayas\n",
            "\n",
            "Question: The following are sentences in Vaomi and their English translations: VAOMI: Hehkan er byhsa. ENGLISH TRANSLATION: They have a cat. VAOMI: Kaova er vantama. ENGLISH TRANSLATION: The dog is white. VAOMI: Selahka er sydna. ENGLISH TRANSLATION: You (sg.) are cold. VAOMI: Mela eran vaomas. ENGLISH TRANSLATION: I am beautiful. VAOMI: Satka byhsa er vihkin. ENGLISH TRANSLATION: The funny cat is a viking. VAOMI: Hao ehkat satka. ENGLISH TRANSLATION: They are funny. VAOMI: Vantama vahlo er maikav. ENGLISH TRANSLATION: The white wizard is kind. VAOMI: Mehkan er ymao. ENGLISH TRANSLATION: We are thirsty. VAOMI: Mao erme vihya. ENGLISH TRANSLATION: We are green. VAOMI: Sehkan er setima kaova. ENGLISH TRANSLATION: You (pl.) have a blue dog. VAOMI: Hehkan er tuhva. ENGLISH TRANSLATION: They are hot. VAOMI: Sela erat vahlo. ENGLISH TRANSLATION: You (sg.) are a wizard. VAOMI: Tao erte setima. ENGLISH TRANSLATION: You (pl.) are blue. VAOMI: Sehkan er nerta. ENGLISH TRANSLATION: You (pl.) are hungry. Now, translate the following from Vaomi to English: VAOMI: Mao erme vaomas. ENGLISH TRANSLATION:\n",
            "Answer: We are beautiful.\n",
            "\n",
            "Question: The following are sentences in Holuan and their English translations: HOLUAN: asi ęg piog ENGLISH TRANSLATION: two months HOLUAN: ame ęg tomt ENGLISH TRANSLATION: three days HOLUAN: bame ęg jog ENGLISH TRANSLATION: three people HOLUAN: mlrolam ęg lamk ENGLISH TRANSLATION: six pigs HOLUAN: baom ęg sensei ENGLISH TRANSLATION: five teachers HOLUAN: aom ęg neb ENGLISH TRANSLATION: five years HOLUAN: asea ęg mlębęto ENGLISH TRANSLATION: nine afternoons HOLUAN: mlsea ęg heb ENGLISH TRANSLATION: nine scrolls HOLUAN: mlrolam ęg giot ENGLISH TRANSLATION: six papayas HOLUAN: baeo ęg mtolęb ENGLISH TRANSLATION: eight children HOLUAN: tęmoaj na o bame ęg piok ENGLISH TRANSLATION: thirteen boys HOLUAN: tęmoaj na o aiot ęg tilang ENGLISH TRANSLATION: seventeen hours HOLUAN: udesi ęg piog ENGLISH TRANSLATION: February HOLUAN: udeme ęg oboer ENGLISH TRANSLATION: Wednesday Now, translate the following from English to Holuan: ENGLISH: nineteen people HOLUAN TRANSLATION:\n",
            "Reasoning: Let's think step by step in order to Answer: mlsea ęg jog\n",
            "Answer:\u001b[32m mlsea ęg jog\u001b[0m\n",
            "\n",
            "\n",
            "\n"
          ]
        }
      ],
      "source": [
        "lm.inspect_history(1)"
      ]
    },
    {
      "cell_type": "code",
      "execution_count": 395,
      "metadata": {
        "colab": {
          "base_uri": "https://localhost:8080/"
        },
        "id": "K0CnZf5gXeR6",
        "outputId": "45c58ad1-7703-4939-d7f6-b6ea137acf79"
      },
      "outputs": [
        {
          "data": {
            "text/plain": [
              "['tęmoaj na o basea ęg jog']"
            ]
          },
          "execution_count": 395,
          "metadata": {},
          "output_type": "execute_result"
        }
      ],
      "source": [
        "examples[74]['answer']"
      ]
    },
    {
      "cell_type": "code",
      "execution_count": 396,
      "metadata": {
        "colab": {
          "base_uri": "https://localhost:8080/",
          "height": 1000
        },
        "id": "K9PuuYKNSSSs",
        "outputId": "7bd90867-5a03-46ff-d18c-dfe1134d8909"
      },
      "outputs": [
        {
          "name": "stderr",
          "output_type": "stream",
          "text": [
            "Average Metric: 80 / 161  (49.7): 100%|██████████| 161/161 [01:43<00:00,  1.56it/s]"
          ]
        },
        {
          "name": "stdout",
          "output_type": "stream",
          "text": [
            "Average Metric: 80 / 161  (49.7%)\n"
          ]
        },
        {
          "name": "stderr",
          "output_type": "stream",
          "text": [
            "\n"
          ]
        },
        {
          "data": {
            "text/html": [
              "<style type=\"text/css\">\n",
              "#T_c88ec th {\n",
              "  text-align: left;\n",
              "}\n",
              "#T_c88ec td {\n",
              "  text-align: left;\n",
              "}\n",
              "#T_c88ec_row0_col0, #T_c88ec_row0_col1, #T_c88ec_row0_col2, #T_c88ec_row0_col3, #T_c88ec_row0_col4, #T_c88ec_row1_col0, #T_c88ec_row1_col1, #T_c88ec_row1_col2, #T_c88ec_row1_col3, #T_c88ec_row1_col4, #T_c88ec_row2_col0, #T_c88ec_row2_col1, #T_c88ec_row2_col2, #T_c88ec_row2_col3, #T_c88ec_row2_col4, #T_c88ec_row3_col0, #T_c88ec_row3_col1, #T_c88ec_row3_col2, #T_c88ec_row3_col3, #T_c88ec_row3_col4, #T_c88ec_row4_col0, #T_c88ec_row4_col1, #T_c88ec_row4_col2, #T_c88ec_row4_col3, #T_c88ec_row4_col4, #T_c88ec_row5_col0, #T_c88ec_row5_col1, #T_c88ec_row5_col2, #T_c88ec_row5_col3, #T_c88ec_row5_col4, #T_c88ec_row6_col0, #T_c88ec_row6_col1, #T_c88ec_row6_col2, #T_c88ec_row6_col3, #T_c88ec_row6_col4, #T_c88ec_row7_col0, #T_c88ec_row7_col1, #T_c88ec_row7_col2, #T_c88ec_row7_col3, #T_c88ec_row7_col4, #T_c88ec_row8_col0, #T_c88ec_row8_col1, #T_c88ec_row8_col2, #T_c88ec_row8_col3, #T_c88ec_row8_col4, #T_c88ec_row9_col0, #T_c88ec_row9_col1, #T_c88ec_row9_col2, #T_c88ec_row9_col3, #T_c88ec_row9_col4, #T_c88ec_row10_col0, #T_c88ec_row10_col1, #T_c88ec_row10_col2, #T_c88ec_row10_col3, #T_c88ec_row10_col4, #T_c88ec_row11_col0, #T_c88ec_row11_col1, #T_c88ec_row11_col2, #T_c88ec_row11_col3, #T_c88ec_row11_col4, #T_c88ec_row12_col0, #T_c88ec_row12_col1, #T_c88ec_row12_col2, #T_c88ec_row12_col3, #T_c88ec_row12_col4, #T_c88ec_row13_col0, #T_c88ec_row13_col1, #T_c88ec_row13_col2, #T_c88ec_row13_col3, #T_c88ec_row13_col4, #T_c88ec_row14_col0, #T_c88ec_row14_col1, #T_c88ec_row14_col2, #T_c88ec_row14_col3, #T_c88ec_row14_col4, #T_c88ec_row15_col0, #T_c88ec_row15_col1, #T_c88ec_row15_col2, #T_c88ec_row15_col3, #T_c88ec_row15_col4, #T_c88ec_row16_col0, #T_c88ec_row16_col1, #T_c88ec_row16_col2, #T_c88ec_row16_col3, #T_c88ec_row16_col4, #T_c88ec_row17_col0, #T_c88ec_row17_col1, #T_c88ec_row17_col2, #T_c88ec_row17_col3, #T_c88ec_row17_col4, #T_c88ec_row18_col0, #T_c88ec_row18_col1, #T_c88ec_row18_col2, #T_c88ec_row18_col3, #T_c88ec_row18_col4, #T_c88ec_row19_col0, #T_c88ec_row19_col1, #T_c88ec_row19_col2, #T_c88ec_row19_col3, #T_c88ec_row19_col4 {\n",
              "  text-align: left;\n",
              "  white-space: pre-wrap;\n",
              "  word-wrap: break-word;\n",
              "  max-width: 400px;\n",
              "}\n",
              "</style>\n",
              "<table id=\"T_c88ec\" class=\"dataframe\">\n",
              "  <thead>\n",
              "    <tr>\n",
              "      <th class=\"blank level0\" >&nbsp;</th>\n",
              "      <th id=\"T_c88ec_level0_col0\" class=\"col_heading level0 col0\" >question</th>\n",
              "      <th id=\"T_c88ec_level0_col1\" class=\"col_heading level0 col1\" >options</th>\n",
              "      <th id=\"T_c88ec_level0_col2\" class=\"col_heading level0 col2\" >example_answer</th>\n",
              "      <th id=\"T_c88ec_level0_col3\" class=\"col_heading level0 col3\" >pred_answer</th>\n",
              "      <th id=\"T_c88ec_level0_col4\" class=\"col_heading level0 col4\" >wsd_metric</th>\n",
              "    </tr>\n",
              "  </thead>\n",
              "  <tbody>\n",
              "    <tr>\n",
              "      <th id=\"T_c88ec_level0_row0\" class=\"row_heading level0 row0\" >0</th>\n",
              "      <td id=\"T_c88ec_row0_col0\" class=\"data row0 col0\" >The following are sentences in Adna and their English translations: ADNA: Ndengi ngase. ENGLISH TRANSLATION: He drinks water. ADNA: Ngoru ndatab ndengi ngase. ENGLISH TRANSLATION:...</td>\n",
              "      <td id=\"T_c88ec_row0_col1\" class=\"data row0 col1\" >[]</td>\n",
              "      <td id=\"T_c88ec_row0_col2\" class=\"data row0 col2\" >['The teacher carries taro here.']</td>\n",
              "      <td id=\"T_c88ec_row0_col3\" class=\"data row0 col3\" >The teacher carries taro here.</td>\n",
              "      <td id=\"T_c88ec_row0_col4\" class=\"data row0 col4\" >1</td>\n",
              "    </tr>\n",
              "    <tr>\n",
              "      <th id=\"T_c88ec_level0_row1\" class=\"row_heading level0 row1\" >1</th>\n",
              "      <td id=\"T_c88ec_row1_col0\" class=\"data row1 col0\" >The following are sentences in Adna and their English translations: ADNA: Ndengi ngase. ENGLISH TRANSLATION: He drinks water. ADNA: Ngoru ndatab ndengi ngase. ENGLISH TRANSLATION:...</td>\n",
              "      <td id=\"T_c88ec_row1_col1\" class=\"data row1 col1\" >[]</td>\n",
              "      <td id=\"T_c88ec_row1_col2\" class=\"data row1 col2\" >['He brings taro up.']</td>\n",
              "      <td id=\"T_c88ec_row1_col3\" class=\"data row1 col3\" >He brings taro up.</td>\n",
              "      <td id=\"T_c88ec_row1_col4\" class=\"data row1 col4\" >1</td>\n",
              "    </tr>\n",
              "    <tr>\n",
              "      <th id=\"T_c88ec_level0_row2\" class=\"row_heading level0 row2\" >2</th>\n",
              "      <td id=\"T_c88ec_row2_col0\" class=\"data row2 col0\" >The following are sentences in Adna and their English translations: ADNA: Ndengi ngase. ENGLISH TRANSLATION: He drinks water. ADNA: Ngoru ndatab ndengi ngase. ENGLISH TRANSLATION:...</td>\n",
              "      <td id=\"T_c88ec_row2_col1\" class=\"data row2 col1\" >[]</td>\n",
              "      <td id=\"T_c88ec_row2_col2\" class=\"data row2 col2\" >['The water goes down.']</td>\n",
              "      <td id=\"T_c88ec_row2_col3\" class=\"data row2 col3\" >The water goes down.</td>\n",
              "      <td id=\"T_c88ec_row2_col4\" class=\"data row2 col4\" >1</td>\n",
              "    </tr>\n",
              "    <tr>\n",
              "      <th id=\"T_c88ec_level0_row3\" class=\"row_heading level0 row3\" >3</th>\n",
              "      <td id=\"T_c88ec_row3_col0\" class=\"data row3 col0\" >The following are sentences in Adna and their English translations: ADNA: Ndengi ngase. ENGLISH TRANSLATION: He drinks water. ADNA: Ngoru ndatab ndengi ngase. ENGLISH TRANSLATION:...</td>\n",
              "      <td id=\"T_c88ec_row3_col1\" class=\"data row3 col1\" >[]</td>\n",
              "      <td id=\"T_c88ec_row3_col2\" class=\"data row3 col2\" >['Ambandate keeps growing.']</td>\n",
              "      <td id=\"T_c88ec_row3_col3\" class=\"data row3 col3\" >Ambandate keeps growing.</td>\n",
              "      <td id=\"T_c88ec_row3_col4\" class=\"data row3 col4\" >1</td>\n",
              "    </tr>\n",
              "    <tr>\n",
              "      <th id=\"T_c88ec_level0_row4\" class=\"row_heading level0 row4\" >4</th>\n",
              "      <td id=\"T_c88ec_row4_col0\" class=\"data row4 col0\" >The following are sentences in Adna and their English translations: ADNA: Ndengi ngase. ENGLISH TRANSLATION: He drinks water. ADNA: Ngoru ndatab ndengi ngase. ENGLISH TRANSLATION:...</td>\n",
              "      <td id=\"T_c88ec_row4_col1\" class=\"data row4 col1\" >[]</td>\n",
              "      <td id=\"T_c88ec_row4_col2\" class=\"data row4 col2\" >['Ambandate keeps carrying the axe here.']</td>\n",
              "      <td id=\"T_c88ec_row4_col3\" class=\"data row4 col3\" >Ambandate keeps carrying the axe here.</td>\n",
              "      <td id=\"T_c88ec_row4_col4\" class=\"data row4 col4\" >1</td>\n",
              "    </tr>\n",
              "    <tr>\n",
              "      <th id=\"T_c88ec_level0_row5\" class=\"row_heading level0 row5\" >5</th>\n",
              "      <td id=\"T_c88ec_row5_col0\" class=\"data row5 col0\" >The following are sentences in Adna and their English translations: ADNA: Ndengi ngase. ENGLISH TRANSLATION: He drinks water. ADNA: Ngoru ndatab ndengi ngase. ENGLISH TRANSLATION:...</td>\n",
              "      <td id=\"T_c88ec_row5_col1\" class=\"data row5 col1\" >[]</td>\n",
              "      <td id=\"T_c88ec_row5_col2\" class=\"data row5 col2\" >['He grows.']</td>\n",
              "      <td id=\"T_c88ec_row5_col3\" class=\"data row5 col3\" >He grows.</td>\n",
              "      <td id=\"T_c88ec_row5_col4\" class=\"data row5 col4\" >1</td>\n",
              "    </tr>\n",
              "    <tr>\n",
              "      <th id=\"T_c88ec_level0_row6\" class=\"row_heading level0 row6\" >6</th>\n",
              "      <td id=\"T_c88ec_row6_col0\" class=\"data row6 col0\" >The following are sentences in Adna and their English translations: ADNA: Ndengi ngase. ENGLISH TRANSLATION: He drinks water. ADNA: Ngoru ndatab ndengi ngase. ENGLISH TRANSLATION:...</td>\n",
              "      <td id=\"T_c88ec_row6_col1\" class=\"data row6 col1\" >[]</td>\n",
              "      <td id=\"T_c88ec_row6_col2\" class=\"data row6 col2\" >['The child grows taro.']</td>\n",
              "      <td id=\"T_c88ec_row6_col3\" class=\"data row6 col3\" >The child grows taro.</td>\n",
              "      <td id=\"T_c88ec_row6_col4\" class=\"data row6 col4\" >1</td>\n",
              "    </tr>\n",
              "    <tr>\n",
              "      <th id=\"T_c88ec_level0_row7\" class=\"row_heading level0 row7\" >7</th>\n",
              "      <td id=\"T_c88ec_row7_col0\" class=\"data row7 col0\" >The following are sentences in Adna and their English translations: ADNA: Ndengi ngase. ENGLISH TRANSLATION: He drinks water. ADNA: Ngoru ndatab ndengi ngase. ENGLISH TRANSLATION:...</td>\n",
              "      <td id=\"T_c88ec_row7_col1\" class=\"data row7 col1\" >[]</td>\n",
              "      <td id=\"T_c88ec_row7_col2\" class=\"data row7 col2\" >['The axe crawls up.']</td>\n",
              "      <td id=\"T_c88ec_row7_col3\" class=\"data row7 col3\" >The axe crawls up.</td>\n",
              "      <td id=\"T_c88ec_row7_col4\" class=\"data row7 col4\" >1</td>\n",
              "    </tr>\n",
              "    <tr>\n",
              "      <th id=\"T_c88ec_level0_row8\" class=\"row_heading level0 row8\" >8</th>\n",
              "      <td id=\"T_c88ec_row8_col0\" class=\"data row8 col0\" >The following are sentences in Adna and their English translations: ADNA: Ndengi ngase. ENGLISH TRANSLATION: He drinks water. ADNA: Ngoru ndatab ndengi ngase. ENGLISH TRANSLATION:...</td>\n",
              "      <td id=\"T_c88ec_row8_col1\" class=\"data row8 col1\" >[]</td>\n",
              "      <td id=\"T_c88ec_row8_col2\" class=\"data row8 col2\" >['The palm tree runs.']</td>\n",
              "      <td id=\"T_c88ec_row8_col3\" class=\"data row8 col3\" >The palm tree runs.</td>\n",
              "      <td id=\"T_c88ec_row8_col4\" class=\"data row8 col4\" >1</td>\n",
              "    </tr>\n",
              "    <tr>\n",
              "      <th id=\"T_c88ec_level0_row9\" class=\"row_heading level0 row9\" >9</th>\n",
              "      <td id=\"T_c88ec_row9_col0\" class=\"data row9 col0\" >The following are sentences in Adna and their English translations: ADNA: Ndengi ngase. ENGLISH TRANSLATION: He drinks water. ADNA: Ngoru ndatab ndengi ngase. ENGLISH TRANSLATION:...</td>\n",
              "      <td id=\"T_c88ec_row9_col1\" class=\"data row9 col1\" >[]</td>\n",
              "      <td id=\"T_c88ec_row9_col2\" class=\"data row9 col2\" >['Kansasres ndekaselib ngase ndisbo.']</td>\n",
              "      <td id=\"T_c88ec_row9_col3\" class=\"data row9 col3\" >Kansasres ndekaselib ngase ndisbo.</td>\n",
              "      <td id=\"T_c88ec_row9_col4\" class=\"data row9 col4\" >1</td>\n",
              "    </tr>\n",
              "    <tr>\n",
              "      <th id=\"T_c88ec_level0_row10\" class=\"row_heading level0 row10\" >10</th>\n",
              "      <td id=\"T_c88ec_row10_col0\" class=\"data row10 col0\" >The following are sentences in Adna and their English translations: ADNA: Ndengi ngase. ENGLISH TRANSLATION: He drinks water. ADNA: Ngoru ndatab ndengi ngase. ENGLISH TRANSLATION:...</td>\n",
              "      <td id=\"T_c88ec_row10_col1\" class=\"data row10 col1\" >[]</td>\n",
              "      <td id=\"T_c88ec_row10_col2\" class=\"data row10 col2\" >['Ngoru ndatab ndokami.']</td>\n",
              "      <td id=\"T_c88ec_row10_col3\" class=\"data row10 col3\" >Ngoru ndatab ndokami.</td>\n",
              "      <td id=\"T_c88ec_row10_col4\" class=\"data row10 col4\" >1</td>\n",
              "    </tr>\n",
              "    <tr>\n",
              "      <th id=\"T_c88ec_level0_row11\" class=\"row_heading level0 row11\" >11</th>\n",
              "      <td id=\"T_c88ec_row11_col0\" class=\"data row11 col0\" >The following are sentences in Adna and their English translations: ADNA: Ndengi ngase. ENGLISH TRANSLATION: He drinks water. ADNA: Ngoru ndatab ndengi ngase. ENGLISH TRANSLATION:...</td>\n",
              "      <td id=\"T_c88ec_row11_col1\" class=\"data row11 col1\" >[]</td>\n",
              "      <td id=\"T_c88ec_row11_col2\" class=\"data row11 col2\" >['Ambandate ndokami tebu.']</td>\n",
              "      <td id=\"T_c88ec_row11_col3\" class=\"data row11 col3\" >Ambandate ndokami tebu.</td>\n",
              "      <td id=\"T_c88ec_row11_col4\" class=\"data row11 col4\" >1</td>\n",
              "    </tr>\n",
              "    <tr>\n",
              "      <th id=\"T_c88ec_level0_row12\" class=\"row_heading level0 row12\" >12</th>\n",
              "      <td id=\"T_c88ec_row12_col0\" class=\"data row12 col0\" >The following are sentences in Adna and their English translations: ADNA: Ndengi ngase. ENGLISH TRANSLATION: He drinks water. ADNA: Ngoru ndatab ndengi ngase. ENGLISH TRANSLATION:...</td>\n",
              "      <td id=\"T_c88ec_row12_col1\" class=\"data row12 col1\" >[]</td>\n",
              "      <td id=\"T_c88ec_row12_col2\" class=\"data row12 col2\" >['Ngoru ndangalan ndamba.']</td>\n",
              "      <td id=\"T_c88ec_row12_col3\" class=\"data row12 col3\" >Ngoru ndangalan ndamba.</td>\n",
              "      <td id=\"T_c88ec_row12_col4\" class=\"data row12 col4\" >1</td>\n",
              "    </tr>\n",
              "    <tr>\n",
              "      <th id=\"T_c88ec_level0_row13\" class=\"row_heading level0 row13\" >13</th>\n",
              "      <td id=\"T_c88ec_row13_col0\" class=\"data row13 col0\" >The following are sentences in Adna and their English translations: ADNA: Ndengi ngase. ENGLISH TRANSLATION: He drinks water. ADNA: Ngoru ndatab ndengi ngase. ENGLISH TRANSLATION:...</td>\n",
              "      <td id=\"T_c88ec_row13_col1\" class=\"data row13 col1\" >[]</td>\n",
              "      <td id=\"T_c88ec_row13_col2\" class=\"data row13 col2\" >['Kansasres ndahadal ndaksay.']</td>\n",
              "      <td id=\"T_c88ec_row13_col3\" class=\"data row13 col3\" >Kansasres ndahadal ndaksay.</td>\n",
              "      <td id=\"T_c88ec_row13_col4\" class=\"data row13 col4\" >1</td>\n",
              "    </tr>\n",
              "    <tr>\n",
              "      <th id=\"T_c88ec_level0_row14\" class=\"row_heading level0 row14\" >14</th>\n",
              "      <td id=\"T_c88ec_row14_col0\" class=\"data row14 col0\" >The following are sentences in Adna and their English translations: ADNA: Ndengi ngase. ENGLISH TRANSLATION: He drinks water. ADNA: Ngoru ndatab ndengi ngase. ENGLISH TRANSLATION:...</td>\n",
              "      <td id=\"T_c88ec_row14_col1\" class=\"data row14 col1\" >[]</td>\n",
              "      <td id=\"T_c88ec_row14_col2\" class=\"data row14 col2\" >['Kubutsu ndatab ndabgu ndisbo.']</td>\n",
              "      <td id=\"T_c88ec_row14_col3\" class=\"data row14 col3\" >Ngoru ndatab ndabgu kubutsu ndisbo.</td>\n",
              "      <td id=\"T_c88ec_row14_col4\" class=\"data row14 col4\" >0</td>\n",
              "    </tr>\n",
              "    <tr>\n",
              "      <th id=\"T_c88ec_level0_row15\" class=\"row_heading level0 row15\" >15</th>\n",
              "      <td id=\"T_c88ec_row15_col0\" class=\"data row15 col0\" >The following are sentences in Adna and their English translations: ADNA: Ndengi ngase. ENGLISH TRANSLATION: He drinks water. ADNA: Ngoru ndatab ndengi ngase. ENGLISH TRANSLATION:...</td>\n",
              "      <td id=\"T_c88ec_row15_col1\" class=\"data row15 col1\" >[]</td>\n",
              "      <td id=\"T_c88ec_row15_col2\" class=\"data row15 col2\" >['Ndaksay.']</td>\n",
              "      <td id=\"T_c88ec_row15_col3\" class=\"data row15 col3\" >Ndaksay.</td>\n",
              "      <td id=\"T_c88ec_row15_col4\" class=\"data row15 col4\" >1</td>\n",
              "    </tr>\n",
              "    <tr>\n",
              "      <th id=\"T_c88ec_level0_row16\" class=\"row_heading level0 row16\" >16</th>\n",
              "      <td id=\"T_c88ec_row16_col0\" class=\"data row16 col0\" >The following are sentences in Adna and their English translations: ADNA: Ndengi ngase. ENGLISH TRANSLATION: He drinks water. ADNA: Ngoru ndatab ndengi ngase. ENGLISH TRANSLATION:...</td>\n",
              "      <td id=\"T_c88ec_row16_col1\" class=\"data row16 col1\" >[]</td>\n",
              "      <td id=\"T_c88ec_row16_col2\" class=\"data row16 col2\" >['Tebu ndabgu.']</td>\n",
              "      <td id=\"T_c88ec_row16_col3\" class=\"data row16 col3\" >Tebu ndabgu.</td>\n",
              "      <td id=\"T_c88ec_row16_col4\" class=\"data row16 col4\" >1</td>\n",
              "    </tr>\n",
              "    <tr>\n",
              "      <th id=\"T_c88ec_level0_row17\" class=\"row_heading level0 row17\" >17</th>\n",
              "      <td id=\"T_c88ec_row17_col0\" class=\"data row17 col0\" >The following are sentences in Adna and their English translations: ADNA: Ndengi ngase. ENGLISH TRANSLATION: He drinks water. ADNA: Ngoru ndatab ndengi ngase. ENGLISH TRANSLATION:...</td>\n",
              "      <td id=\"T_c88ec_row17_col1\" class=\"data row17 col1\" >[]</td>\n",
              "      <td id=\"T_c88ec_row17_col2\" class=\"data row17 col2\" >['Ndatab ndisbo.']</td>\n",
              "      <td id=\"T_c88ec_row17_col3\" class=\"data row17 col3\" >Ndakab ndisbo.</td>\n",
              "      <td id=\"T_c88ec_row17_col4\" class=\"data row17 col4\" >1</td>\n",
              "    </tr>\n",
              "    <tr>\n",
              "      <th id=\"T_c88ec_level0_row18\" class=\"row_heading level0 row18\" >18</th>\n",
              "      <td id=\"T_c88ec_row18_col0\" class=\"data row18 col0\" >The following are sentences in Adna and their English translations: ADNA: Ndengi ngase. ENGLISH TRANSLATION: He drinks water. ADNA: Ngoru ndatab ndengi ngase. ENGLISH TRANSLATION:...</td>\n",
              "      <td id=\"T_c88ec_row18_col1\" class=\"data row18 col1\" >[]</td>\n",
              "      <td id=\"T_c88ec_row18_col2\" class=\"data row18 col2\" >['Kubutsu ndavera ngase ndaksay.']</td>\n",
              "      <td id=\"T_c88ec_row18_col3\" class=\"data row18 col3\" >Kubutsu ndavera ngase ndaksay.</td>\n",
              "      <td id=\"T_c88ec_row18_col4\" class=\"data row18 col4\" >1</td>\n",
              "    </tr>\n",
              "    <tr>\n",
              "      <th id=\"T_c88ec_level0_row19\" class=\"row_heading level0 row19\" >19</th>\n",
              "      <td id=\"T_c88ec_row19_col0\" class=\"data row19 col0\" >The following are sentences in Atikampé and their English translations: ATIKAMPÉ: Tapré patai. ENGLISH_TRANSLATION: The monkey eats. ATIKAMPÉ: Ahi akro. ENGLISH_TRANSLATION: The child works. ATIKAMPÉ:...</td>\n",
              "      <td id=\"T_c88ec_row19_col1\" class=\"data row19 col1\" >[]</td>\n",
              "      <td id=\"T_c88ec_row19_col2\" class=\"data row19 col2\" >['The good man works a lot.']</td>\n",
              "      <td id=\"T_c88ec_row19_col3\" class=\"data row19 col3\" >The big man works well.</td>\n",
              "      <td id=\"T_c88ec_row19_col4\" class=\"data row19 col4\" >0</td>\n",
              "    </tr>\n",
              "  </tbody>\n",
              "</table>\n"
            ],
            "text/plain": [
              "<pandas.io.formats.style.Styler object at 0x7ec8d7f072e0>"
            ]
          },
          "metadata": {},
          "output_type": "display_data"
        },
        {
          "data": {
            "text/html": [
              "\n",
              "                <div style='\n",
              "                    text-align: center;\n",
              "                    font-size: 16px;\n",
              "                    font-weight: bold;\n",
              "                    color: #555;\n",
              "                    margin: 10px 0;'>\n",
              "                    ... 141 more rows not displayed ...\n",
              "                </div>\n",
              "                "
            ],
            "text/plain": [
              "<IPython.core.display.HTML object>"
            ]
          },
          "metadata": {},
          "output_type": "display_data"
        }
      ],
      "source": [
        "from dspy.evaluate import Evaluate\n",
        "\n",
        "# Set up the evaluator, which can be re-used in your code.\n",
        "evaluator = Evaluate(devset=valset, num_threads=2, display_progress=True, display_table=20,return_outputs=True)\n",
        "\n",
        "# Launch evaluation.\n",
        "evaluation_score, outputs = evaluator(optimized_cot, metric=wsd_metric)"
      ]
    },
    {
      "cell_type": "code",
      "execution_count": 397,
      "metadata": {
        "colab": {
          "base_uri": "https://localhost:8080/"
        },
        "id": "UO-HcLAy4FFR",
        "outputId": "930ba235-2fc0-4201-adad-589225ed20f1"
      },
      "outputs": [
        {
          "data": {
            "text/plain": [
              "49.69"
            ]
          },
          "execution_count": 397,
          "metadata": {},
          "output_type": "execute_result"
        }
      ],
      "source": [
        "evaluation_score"
      ]
    },
    {
      "cell_type": "code",
      "execution_count": 398,
      "metadata": {
        "id": "SVYESECCVm-x"
      },
      "outputs": [],
      "source": [
        "outputs = pd.DataFrame(outputs)"
      ]
    },
    {
      "cell_type": "code",
      "execution_count": 399,
      "metadata": {
        "id": "fvt4dbmehps_"
      },
      "outputs": [],
      "source": [
        "outputs.columns = ['problem','response','result']"
      ]
    },
    {
      "cell_type": "code",
      "execution_count": 401,
      "metadata": {
        "id": "kEjaqXrMhEmE"
      },
      "outputs": [],
      "source": [
        "outputs.to_json('conlang_translation_GPT_4o_3_shot_results.json',orient='records')"
      ]
    },
    {
      "cell_type": "code",
      "execution_count": null,
      "metadata": {
        "id": "eCkI3DYJ8WhL"
      },
      "outputs": [],
      "source": []
    }
  ],
  "metadata": {
    "colab": {
      "provenance": []
    },
    "kernelspec": {
      "display_name": "Python 3",
      "name": "python3"
    },
    "language_info": {
      "name": "python"
    }
  },
  "nbformat": 4,
  "nbformat_minor": 0
}
