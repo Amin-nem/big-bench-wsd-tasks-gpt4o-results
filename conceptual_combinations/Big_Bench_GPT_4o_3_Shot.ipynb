{
  "cells": [
    {
      "cell_type": "markdown",
      "metadata": {
        "id": "DZDG0GdGD0v9"
      },
      "source": [
        "# Big Bench"
      ]
    },
    {
      "cell_type": "code",
      "execution_count": null,
      "metadata": {
        "id": "vV0Uy2SFbMTL"
      },
      "outputs": [],
      "source": [
        "!pip install \"bigbench @ https://storage.googleapis.com/public_research_data/bigbench/bigbench-0.0.1.tar.gz\" -q"
      ]
    },
    {
      "cell_type": "code",
      "execution_count": null,
      "metadata": {
        "id": "Lg-fT6-UN42_"
      },
      "outputs": [],
      "source": [
        "!pip install dspy datasets python-Levenshtein -q"
      ]
    },
    {
      "cell_type": "code",
      "execution_count": 98,
      "metadata": {
        "id": "CAK829NqNIAn"
      },
      "outputs": [],
      "source": [
        "import os\n",
        "import pandas as pd\n",
        "from datasets import load_dataset\n",
        "import dspy\n",
        "import Levenshtein\n",
        "import random\n",
        "from openai import OpenAI\n",
        "client = OpenAI()"
      ]
    },
    {
      "cell_type": "code",
      "execution_count": 358,
      "metadata": {
        "colab": {
          "base_uri": "https://localhost:8080/"
        },
        "id": "PdNcxlQQN2iw",
        "outputId": "f2aea428-ec54-4454-d95c-98bb89d164f7"
      },
      "outputs": [
        {
          "name": "stdout",
          "output_type": "stream",
          "text": [
            "There are 103 examples.\n"
          ]
        }
      ],
      "source": [
        "ds = load_dataset(\"google/bigbench\", \"conceptual_combinations\")[\"default\"]\n",
        "examples = [dspy.Example({\"question\": r[\"inputs\"], \"options\": r[\"multiple_choice_targets\"], \"answer\":r['targets']}).with_inputs(\"question\",\"options\") for r in ds]\n",
        "print(f\"There are {len(examples)} examples.\")\n",
        "trainset = random.sample(examples, 3)\n",
        "valset = [i for i in examples if i not in trainset]"
      ]
    },
    {
      "cell_type": "code",
      "execution_count": 359,
      "metadata": {
        "colab": {
          "base_uri": "https://localhost:8080/"
        },
        "id": "t4x2Rc3DZ9tv",
        "outputId": "877835eb-0f03-452c-8585-ffd031e4b271"
      },
      "outputs": [
        {
          "data": {
            "text/plain": [
              "Example({'question': \"The word 'mimsy' is an adjective for things that are very fragile. Question: Which of the following sentences best characterizes mimsy bulls?\\n option: Mimsy bulls are very popular in rodeos.\\n option: Mimsy bulls make great pets.\\n option: Mimsy bulls are typically very young or very ill.\\n option: Mimsy bulls break into a thousand pieces when dropped.\\nAnswer:\", 'options': ['Mimsy bulls are typically very young or very ill.', 'Mimsy bulls are very popular in rodeos.', 'Mimsy bulls make great pets.', 'Mimsy bulls break into a thousand pieces when dropped.'], 'answer': ['Mimsy bulls are typically very young or very ill.']}) (input_keys={'question', 'options'})"
            ]
          },
          "execution_count": 359,
          "metadata": {},
          "output_type": "execute_result"
        }
      ],
      "source": [
        "examples[1]"
      ]
    },
    {
      "cell_type": "code",
      "execution_count": 360,
      "metadata": {
        "id": "xaiERTcWOd4A"
      },
      "outputs": [],
      "source": [
        "lm = dspy.OpenAI(model=\"gpt-4o-2024-05-13\")\n",
        "dspy.settings.configure(lm=lm)"
      ]
    },
    {
      "cell_type": "code",
      "execution_count": 361,
      "metadata": {
        "id": "fSxGY8NCRtPA"
      },
      "outputs": [],
      "source": [
        "def custom_format_handler(value):\n",
        "    if isinstance(value, list):\n",
        "        return ' | '.join(map(str, value))\n",
        "        #return value[-1]\n",
        "    return value"
      ]
    },
    {
      "cell_type": "code",
      "execution_count": 364,
      "metadata": {
        "id": "rUZCKnIgPjdW"
      },
      "outputs": [],
      "source": [
        "class CoTSignature(dspy.Signature):\n",
        "    \"\"\"Only produce the answer.\"\"\"\n",
        "    question = dspy.InputField()\n",
        "    options = dspy.InputField(format=custom_format_handler)\n",
        "    answer = dspy.OutputField(format=custom_format_handler)"
      ]
    },
    {
      "cell_type": "code",
      "execution_count": 365,
      "metadata": {
        "id": "qcS1FZ4f6zX5"
      },
      "outputs": [],
      "source": [
        "simple_predict = dspy.Predict(CoTSignature)"
      ]
    },
    {
      "cell_type": "code",
      "execution_count": 366,
      "metadata": {
        "id": "z28WUE-JQM7D"
      },
      "outputs": [],
      "source": [
        "class CoT(dspy.Module):\n",
        "    def __init__(self):\n",
        "        super().__init__()\n",
        "        self.signature = CoTSignature\n",
        "        self.predictor = dspy.ChainOfThought(self.signature)\n",
        "    def forward(self, question, options):\n",
        "      result = self.predictor(lm=lm,question=question, options=options)\n",
        "      return dspy.Prediction(answer=result.answer)"
      ]
    },
    {
      "cell_type": "code",
      "execution_count": 367,
      "metadata": {
        "colab": {
          "base_uri": "https://localhost:8080/"
        },
        "id": "wGPRr5b9QvPq",
        "outputId": "699ac879-6d2d-4867-ec7a-08ccfaa5ab8e"
      },
      "outputs": [
        {
          "name": "stdout",
          "output_type": "stream",
          "text": [
            "Sense: Flags hang on suphe poles.\n"
          ]
        }
      ],
      "source": [
        "cot_module = CoT()\n",
        "test_q = examples[74]\n",
        "prediction = cot_module.forward(question=test_q.question, options=test_q.options)\n",
        "print(f\"Sense: {prediction.answer}\")"
      ]
    },
    {
      "cell_type": "code",
      "execution_count": 368,
      "metadata": {
        "colab": {
          "base_uri": "https://localhost:8080/"
        },
        "id": "76NYq151KQ63",
        "outputId": "75baf5c9-1a0a-4552-c664-f194015404bd"
      },
      "outputs": [
        {
          "data": {
            "text/plain": [
              "Prediction(\n",
              "    answer='Flags hang on suphe poles.'\n",
              ")"
            ]
          },
          "execution_count": 368,
          "metadata": {},
          "output_type": "execute_result"
        }
      ],
      "source": [
        "simple_predict(question=test_q.question, options=test_q.options)"
      ]
    },
    {
      "cell_type": "code",
      "execution_count": 369,
      "metadata": {
        "id": "z5HfYBewQ_YN"
      },
      "outputs": [],
      "source": [
        "def wsd_metric(example, pred, trace=None, threshold=0.90):\n",
        "    \"\"\"Metric function for word sense disambiguation with Levenshtein distance.\"\"\"\n",
        "    gold_sense = example.answer[0]\n",
        "    predicted_sense = pred.answer\n",
        "\n",
        "    # Calculate Levenshtein similarity\n",
        "    similarity = Levenshtein.ratio(gold_sense.lower(), predicted_sense.lower())\n",
        "\n",
        "    # Check if similarity exceeds the threshold\n",
        "    return int(similarity >= threshold)\n"
      ]
    },
    {
      "cell_type": "code",
      "execution_count": 370,
      "metadata": {
        "colab": {
          "base_uri": "https://localhost:8080/"
        },
        "id": "LLsLpt9kT2wa",
        "outputId": "a551c33e-e8bd-43c0-d722-085f2ea5098a"
      },
      "outputs": [
        {
          "name": "stderr",
          "output_type": "stream",
          "text": [
            "  0%|          | 0/3 [00:00<?, ?it/s]"
          ]
        },
        {
          "name": "stdout",
          "output_type": "stream",
          "text": [
            "Bootstrapped 0 full traces after 1 examples in round 0.\n"
          ]
        },
        {
          "name": "stderr",
          "output_type": "stream",
          "text": [
            "\n"
          ]
        }
      ],
      "source": [
        "from dspy.teleprompt import BootstrapFewShot\n",
        "\n",
        "# Set up the optimizer: we want to \"bootstrap\" (i.e., self-generate) 4-shot examples of our CoT program.\n",
        "config = dict(max_bootstrapped_demos=0, max_labeled_demos=3)\n",
        "\n",
        "# Optimize! Use the `gsm8k_metric` here. In general, the metric is going to tell the optimizer how well it's doing.\n",
        "teleprompter = BootstrapFewShot(metric=wsd_metric, **config)\n",
        "optimized_cot = teleprompter.compile(CoT(), trainset=trainset)"
      ]
    },
    {
      "cell_type": "code",
      "execution_count": 371,
      "metadata": {
        "colab": {
          "base_uri": "https://localhost:8080/"
        },
        "id": "uxd0UMPiY6GP",
        "outputId": "e0cb08e0-1998-4638-98be-6d20900654af"
      },
      "outputs": [
        {
          "data": {
            "text/plain": [
              "Prediction(\n",
              "    answer='Flags hang on suphe poles.'\n",
              ")"
            ]
          },
          "execution_count": 371,
          "metadata": {},
          "output_type": "execute_result"
        }
      ],
      "source": [
        "optimized_cot.forward(question=test_q.question, options=test_q.options)"
      ]
    },
    {
      "cell_type": "code",
      "execution_count": 372,
      "metadata": {
        "colab": {
          "base_uri": "https://localhost:8080/"
        },
        "id": "PWKWBap1YIzG",
        "outputId": "b1aed75a-65c9-438c-9e49-d4760b575573"
      },
      "outputs": [
        {
          "name": "stdout",
          "output_type": "stream",
          "text": [
            "\n",
            "\n",
            "\n",
            "\n",
            "Only produce the answer.\n",
            "\n",
            "---\n",
            "\n",
            "Question: Concept: boulder-sized diamond. Question: Which of the following sentences best characterizes boulder-sized diamonds? option: Boulder-sized diamonds are diamond-shaped rocks. option: Boulder-sized diamonds would be extremely valuable. option: Boulder-sized diamonds are desirable in engagement rings. option: Boulder-sized diamonds are found on ski hills. Answer:\n",
            "Options: Boulder-sized diamonds would be extremely valuable. | Boulder-sized diamonds are desirable in engagement rings. | Boulder-sized diamonds are diamond-shaped rocks. | Boulder-sized diamonds are found on ski hills.\n",
            "Answer: Boulder-sized diamonds would be extremely valuable.\n",
            "\n",
            "Question: Concept: dirty bowls. Question: Which of the following sentences best characterizes dirty bowls? option: Dirty bowls are delicious. option: Dirty bowls are sticky. option: Dirty bowls are classy. option: Dirty bowls are rusty. Answer:\n",
            "Options: Dirty bowls are sticky. | Dirty bowls are rusty. | Dirty bowls are delicious. | Dirty bowls are classy.\n",
            "Answer: Dirty bowls are sticky.\n",
            "\n",
            "Question: Concept: Russian novels. Question: Which of the following sentences best characterizes Russian novels? option: Russian novels are communist. option: Russian novels are written in Russian. option: Russian novels are cold in the winter. option: Russian novels are unfinished. Answer:\n",
            "Options: Russian novels are written in Russian. | Russian novels are communist. | Russian novels are cold in the winter. | Russian novels are unfinished.\n",
            "Answer: Russian novels are written in Russian.\n",
            "\n",
            "---\n",
            "\n",
            "Follow the following format.\n",
            "\n",
            "Question: ${question}\n",
            "\n",
            "Options: ${options}\n",
            "\n",
            "Reasoning: Let's think step by step in order to ${produce the answer}. We ...\n",
            "\n",
            "Answer: ${answer}\n",
            "\n",
            "---\n",
            "\n",
            "Question: The word 'suphe' is an adjective for things that are long and thin. Question: Which of the following sentences best characterizes suphe poles? option: Suphe poles are at opposite sides of a sphere. option: Suphe poles speak Polish. option: Flags hang on suphe poles. option: Suphe poles have positive or negative charge. Answer:\n",
            "\n",
            "Options: Flags hang on suphe poles. | Suphe poles are at opposite sides of a sphere. | Suphe poles speak Polish. | Suphe poles have positive or negative charge.\n",
            "\n",
            "Reasoning: Let's think step by step in order to Answer: Flags hang on suphe poles.\n",
            "\n",
            "Answer:\u001b[32m Flags hang on suphe poles.\u001b[0m\n",
            "\n",
            "\n",
            "\n"
          ]
        }
      ],
      "source": [
        "lm.inspect_history(1)"
      ]
    },
    {
      "cell_type": "code",
      "execution_count": 373,
      "metadata": {
        "colab": {
          "base_uri": "https://localhost:8080/"
        },
        "id": "K0CnZf5gXeR6",
        "outputId": "d09604d0-e9d7-4f32-b6f9-ca6e4a1418ed"
      },
      "outputs": [
        {
          "data": {
            "text/plain": [
              "['Flags hang on suphe poles.']"
            ]
          },
          "execution_count": 373,
          "metadata": {},
          "output_type": "execute_result"
        }
      ],
      "source": [
        "examples[74]['answer']"
      ]
    },
    {
      "cell_type": "code",
      "execution_count": 374,
      "metadata": {
        "colab": {
          "base_uri": "https://localhost:8080/",
          "height": 1000
        },
        "id": "K9PuuYKNSSSs",
        "outputId": "9f493f55-22d9-4da9-d31b-9ec07427c538"
      },
      "outputs": [
        {
          "name": "stderr",
          "output_type": "stream",
          "text": [
            "Average Metric: 97 / 100  (97.0): 100%|██████████| 100/100 [01:09<00:00,  1.45it/s]"
          ]
        },
        {
          "name": "stdout",
          "output_type": "stream",
          "text": [
            "Average Metric: 97 / 100  (97.0%)\n"
          ]
        },
        {
          "name": "stderr",
          "output_type": "stream",
          "text": [
            "\n"
          ]
        },
        {
          "data": {
            "text/html": [
              "<style type=\"text/css\">\n",
              "#T_17318 th {\n",
              "  text-align: left;\n",
              "}\n",
              "#T_17318 td {\n",
              "  text-align: left;\n",
              "}\n",
              "#T_17318_row0_col0, #T_17318_row0_col1, #T_17318_row0_col2, #T_17318_row0_col3, #T_17318_row0_col4, #T_17318_row1_col0, #T_17318_row1_col1, #T_17318_row1_col2, #T_17318_row1_col3, #T_17318_row1_col4, #T_17318_row2_col0, #T_17318_row2_col1, #T_17318_row2_col2, #T_17318_row2_col3, #T_17318_row2_col4, #T_17318_row3_col0, #T_17318_row3_col1, #T_17318_row3_col2, #T_17318_row3_col3, #T_17318_row3_col4, #T_17318_row4_col0, #T_17318_row4_col1, #T_17318_row4_col2, #T_17318_row4_col3, #T_17318_row4_col4, #T_17318_row5_col0, #T_17318_row5_col1, #T_17318_row5_col2, #T_17318_row5_col3, #T_17318_row5_col4, #T_17318_row6_col0, #T_17318_row6_col1, #T_17318_row6_col2, #T_17318_row6_col3, #T_17318_row6_col4, #T_17318_row7_col0, #T_17318_row7_col1, #T_17318_row7_col2, #T_17318_row7_col3, #T_17318_row7_col4, #T_17318_row8_col0, #T_17318_row8_col1, #T_17318_row8_col2, #T_17318_row8_col3, #T_17318_row8_col4, #T_17318_row9_col0, #T_17318_row9_col1, #T_17318_row9_col2, #T_17318_row9_col3, #T_17318_row9_col4, #T_17318_row10_col0, #T_17318_row10_col1, #T_17318_row10_col2, #T_17318_row10_col3, #T_17318_row10_col4, #T_17318_row11_col0, #T_17318_row11_col1, #T_17318_row11_col2, #T_17318_row11_col3, #T_17318_row11_col4, #T_17318_row12_col0, #T_17318_row12_col1, #T_17318_row12_col2, #T_17318_row12_col3, #T_17318_row12_col4, #T_17318_row13_col0, #T_17318_row13_col1, #T_17318_row13_col2, #T_17318_row13_col3, #T_17318_row13_col4, #T_17318_row14_col0, #T_17318_row14_col1, #T_17318_row14_col2, #T_17318_row14_col3, #T_17318_row14_col4, #T_17318_row15_col0, #T_17318_row15_col1, #T_17318_row15_col2, #T_17318_row15_col3, #T_17318_row15_col4, #T_17318_row16_col0, #T_17318_row16_col1, #T_17318_row16_col2, #T_17318_row16_col3, #T_17318_row16_col4, #T_17318_row17_col0, #T_17318_row17_col1, #T_17318_row17_col2, #T_17318_row17_col3, #T_17318_row17_col4, #T_17318_row18_col0, #T_17318_row18_col1, #T_17318_row18_col2, #T_17318_row18_col3, #T_17318_row18_col4, #T_17318_row19_col0, #T_17318_row19_col1, #T_17318_row19_col2, #T_17318_row19_col3, #T_17318_row19_col4 {\n",
              "  text-align: left;\n",
              "  white-space: pre-wrap;\n",
              "  word-wrap: break-word;\n",
              "  max-width: 400px;\n",
              "}\n",
              "</style>\n",
              "<table id=\"T_17318\" class=\"dataframe\">\n",
              "  <thead>\n",
              "    <tr>\n",
              "      <th class=\"blank level0\" >&nbsp;</th>\n",
              "      <th id=\"T_17318_level0_col0\" class=\"col_heading level0 col0\" >question</th>\n",
              "      <th id=\"T_17318_level0_col1\" class=\"col_heading level0 col1\" >options</th>\n",
              "      <th id=\"T_17318_level0_col2\" class=\"col_heading level0 col2\" >example_answer</th>\n",
              "      <th id=\"T_17318_level0_col3\" class=\"col_heading level0 col3\" >pred_answer</th>\n",
              "      <th id=\"T_17318_level0_col4\" class=\"col_heading level0 col4\" >wsd_metric</th>\n",
              "    </tr>\n",
              "  </thead>\n",
              "  <tbody>\n",
              "    <tr>\n",
              "      <th id=\"T_17318_level0_row0\" class=\"row_heading level0 row0\" >0</th>\n",
              "      <td id=\"T_17318_row0_col0\" class=\"data row0 col0\" >Concept: Colourless red surfaces. Question: Which of the following sentences best characterizes colourless red surfaces? option: Colourless red surfaces are good tabletops for kitchens. option:...</td>\n",
              "      <td id=\"T_17318_row0_col1\" class=\"data row0 col1\" >['Colourless red surfaces cannot exist.', 'Colourless red surfaces are both red and green.', 'Colourless red surfaces are good tabletops for kitchens.', 'Colourless red surfaces are...</td>\n",
              "      <td id=\"T_17318_row0_col2\" class=\"data row0 col2\" >['Colourless red surfaces cannot exist.']</td>\n",
              "      <td id=\"T_17318_row0_col3\" class=\"data row0 col3\" >Colourless red surfaces cannot exist.</td>\n",
              "      <td id=\"T_17318_row0_col4\" class=\"data row0 col4\" >1</td>\n",
              "    </tr>\n",
              "    <tr>\n",
              "      <th id=\"T_17318_level0_row1\" class=\"row_heading level0 row1\" >1</th>\n",
              "      <td id=\"T_17318_row1_col0\" class=\"data row1 col0\" >Concept: Sinless sinner. Question: Which of the following sentences best characterizes sinless sinners? option: Sinless sinners are letters of the alphabet. option: Sinless sinners have...</td>\n",
              "      <td id=\"T_17318_row1_col1\" class=\"data row1 col1\" >['No one can be a sinless sinner.', 'Sinless sinners have no clue.', 'Sinless sinners are letters of the alphabet.', 'Sinless sinners can be venial or...</td>\n",
              "      <td id=\"T_17318_row1_col2\" class=\"data row1 col2\" >['No one can be a sinless sinner.']</td>\n",
              "      <td id=\"T_17318_row1_col3\" class=\"data row1 col3\" >No one can be a sinless sinner.</td>\n",
              "      <td id=\"T_17318_row1_col4\" class=\"data row1 col4\" >1</td>\n",
              "    </tr>\n",
              "    <tr>\n",
              "      <th id=\"T_17318_level0_row2\" class=\"row_heading level0 row2\" >2</th>\n",
              "      <td id=\"T_17318_row2_col0\" class=\"data row2 col0\" >Concept: Resounding silence. Question: Which of the following sentences best characterizes resounding silences? option: Resounding silences are literally deafening. option: Resounding silences are quiet. option:...</td>\n",
              "      <td id=\"T_17318_row2_col1\" class=\"data row2 col1\" >['Resounding silences are quiet.', 'Resounding silences are literally deafening.', 'Resounding silences are produced by musical instruments.', 'Resounding silences are a bad omen.']</td>\n",
              "      <td id=\"T_17318_row2_col2\" class=\"data row2 col2\" >['Resounding silences are quiet.']</td>\n",
              "      <td id=\"T_17318_row2_col3\" class=\"data row2 col3\" >Resounding silences are quiet.</td>\n",
              "      <td id=\"T_17318_row2_col4\" class=\"data row2 col4\" >1</td>\n",
              "    </tr>\n",
              "    <tr>\n",
              "      <th id=\"T_17318_level0_row3\" class=\"row_heading level0 row3\" >3</th>\n",
              "      <td id=\"T_17318_row3_col0\" class=\"data row3 col0\" >Concept: Extroverted introvert. Question: Which of the following sentences best characterizes extroverted introverts? option: Extroverted introverts are friendly but like to be alone. option: Extroverted...</td>\n",
              "      <td id=\"T_17318_row3_col1\" class=\"data row3 col1\" >['Extroverted introverts are friendly but like to be alone.', 'Extroverted introverts should never meet strangers in public places.', 'Extroverted introverts are B-list celebrities.', 'Extroverted introverts...</td>\n",
              "      <td id=\"T_17318_row3_col2\" class=\"data row3 col2\" >['Extroverted introverts are friendly but like to be alone.']</td>\n",
              "      <td id=\"T_17318_row3_col3\" class=\"data row3 col3\" >Extroverted introverts are friendly but like to be alone.</td>\n",
              "      <td id=\"T_17318_row3_col4\" class=\"data row3 col4\" >1</td>\n",
              "    </tr>\n",
              "    <tr>\n",
              "      <th id=\"T_17318_level0_row4\" class=\"row_heading level0 row4\" >4</th>\n",
              "      <td id=\"T_17318_row4_col0\" class=\"data row4 col0\" >Concept: Pretty ugly. Question: Which of the following sentences best characterizes pretty ugly people? option: Pretty ugly people are homely. option: Pretty ugly people are...</td>\n",
              "      <td id=\"T_17318_row4_col1\" class=\"data row4 col1\" >['Pretty ugly people are homely.', 'Pretty ugly people are pretty.', 'Pretty ugly people are dangerous.', 'Pretty ugly people are morally corrupt.']</td>\n",
              "      <td id=\"T_17318_row4_col2\" class=\"data row4 col2\" >['Pretty ugly people are homely.']</td>\n",
              "      <td id=\"T_17318_row4_col3\" class=\"data row4 col3\" >Pretty ugly people are homely.</td>\n",
              "      <td id=\"T_17318_row4_col4\" class=\"data row4 col4\" >1</td>\n",
              "    </tr>\n",
              "    <tr>\n",
              "      <th id=\"T_17318_level0_row5\" class=\"row_heading level0 row5\" >5</th>\n",
              "      <td id=\"T_17318_row5_col0\" class=\"data row5 col0\" >Concept: Old news. Question: Which of the following sentences best characterizes old news? option: Old news is a liberal media conspiracy. option: Old news is...</td>\n",
              "      <td id=\"T_17318_row5_col1\" class=\"data row5 col1\" >['Old news is established knowledge.', 'Old news is reporting about old people.', 'Old news is a liberal media conspiracy.', 'New discoveries about the past are...</td>\n",
              "      <td id=\"T_17318_row5_col2\" class=\"data row5 col2\" >['Old news is established knowledge.']</td>\n",
              "      <td id=\"T_17318_row5_col3\" class=\"data row5 col3\" >Old news is established knowledge.</td>\n",
              "      <td id=\"T_17318_row5_col4\" class=\"data row5 col4\" >1</td>\n",
              "    </tr>\n",
              "    <tr>\n",
              "      <th id=\"T_17318_level0_row6\" class=\"row_heading level0 row6\" >6</th>\n",
              "      <td id=\"T_17318_row6_col0\" class=\"data row6 col0\" >Concept: Long shorts. Question: Which of the following sentences best characterizes long shorts? option: Long shorts are risky. option: Long shorts end at the knee....</td>\n",
              "      <td id=\"T_17318_row6_col1\" class=\"data row6 col1\" >['Long shorts end at the knee.', 'Long shorts are made with extra water.', 'Long shorts are too revealing.', 'Long shorts are risky.']</td>\n",
              "      <td id=\"T_17318_row6_col2\" class=\"data row6 col2\" >['Long shorts end at the knee.']</td>\n",
              "      <td id=\"T_17318_row6_col3\" class=\"data row6 col3\" >Long shorts end at the knee.</td>\n",
              "      <td id=\"T_17318_row6_col4\" class=\"data row6 col4\" >1</td>\n",
              "    </tr>\n",
              "    <tr>\n",
              "      <th id=\"T_17318_level0_row7\" class=\"row_heading level0 row7\" >7</th>\n",
              "      <td id=\"T_17318_row7_col0\" class=\"data row7 col0\" >Concept: turbulent peace. Question: Which of the following sentences best characterizes turbulent peaces? option: Turbulent peace is full of harmony. option: Turbulent peace is windy....</td>\n",
              "      <td id=\"T_17318_row7_col1\" class=\"data row7 col1\" >['Turbulent peace is short-lived.', 'Turbulent peace is dangerous for planes.', 'Turbulent peace is windy.', 'Turbulent peace is full of harmony.']</td>\n",
              "      <td id=\"T_17318_row7_col2\" class=\"data row7 col2\" >['Turbulent peace is short-lived.']</td>\n",
              "      <td id=\"T_17318_row7_col3\" class=\"data row7 col3\" >Turbulent peace is short-lived.</td>\n",
              "      <td id=\"T_17318_row7_col4\" class=\"data row7 col4\" >1</td>\n",
              "    </tr>\n",
              "    <tr>\n",
              "      <th id=\"T_17318_level0_row8\" class=\"row_heading level0 row8\" >8</th>\n",
              "      <td id=\"T_17318_row8_col0\" class=\"data row8 col0\" >Concept: confident doubter. Question: Which of the following sentences best characterizes confident doubters? option: Confident doubters are easy to persuade. option: Confident doubters are secure...</td>\n",
              "      <td id=\"T_17318_row8_col1\" class=\"data row8 col1\" >['Confident doubters are secure in their mistrust.', 'Confident doubters are easy to persuade.', 'Confident doubters are good confidants.', 'Confident doubters are debatable.']</td>\n",
              "      <td id=\"T_17318_row8_col2\" class=\"data row8 col2\" >['Confident doubters are secure in their mistrust.']</td>\n",
              "      <td id=\"T_17318_row8_col3\" class=\"data row8 col3\" >Confident doubters are secure in their mistrust.</td>\n",
              "      <td id=\"T_17318_row8_col4\" class=\"data row8 col4\" >1</td>\n",
              "    </tr>\n",
              "    <tr>\n",
              "      <th id=\"T_17318_level0_row9\" class=\"row_heading level0 row9\" >9</th>\n",
              "      <td id=\"T_17318_row9_col0\" class=\"data row9 col0\" >Concept: timeless times. Question: Which of the following sentences best characterizes timeless times? option: The 60's were timeless times. option: Timeless times go by quickly....</td>\n",
              "      <td id=\"T_17318_row9_col1\" class=\"data row9 col1\" >[\"The 60's were timeless times.\", 'People often run out of timeless times.', 'Timeless times go by quickly.', 'Timeless times are quickly forgotten.']</td>\n",
              "      <td id=\"T_17318_row9_col2\" class=\"data row9 col2\" >[\"The 60's were timeless times.\"]</td>\n",
              "      <td id=\"T_17318_row9_col3\" class=\"data row9 col3\" >The 60's were timeless times.</td>\n",
              "      <td id=\"T_17318_row9_col4\" class=\"data row9 col4\" >1</td>\n",
              "    </tr>\n",
              "    <tr>\n",
              "      <th id=\"T_17318_level0_row10\" class=\"row_heading level0 row10\" >10</th>\n",
              "      <td id=\"T_17318_row10_col0\" class=\"data row10 col0\" >Concept: moving definition. Question: Which of the following sentences best characterizes moving definitions? option: Moving definitions can be very fast. option: Moving definitions define movements....</td>\n",
              "      <td id=\"T_17318_row10_col1\" class=\"data row10 col1\" >['Moving definitions change often.', 'Moving definitions can be very fast.', 'Moving definitions define movements.', 'Moving definitions can be expensive.']</td>\n",
              "      <td id=\"T_17318_row10_col2\" class=\"data row10 col2\" >['Moving definitions change often.']</td>\n",
              "      <td id=\"T_17318_row10_col3\" class=\"data row10 col3\" >Moving definitions change often.</td>\n",
              "      <td id=\"T_17318_row10_col4\" class=\"data row10 col4\" >1</td>\n",
              "    </tr>\n",
              "    <tr>\n",
              "      <th id=\"T_17318_level0_row11\" class=\"row_heading level0 row11\" >11</th>\n",
              "      <td id=\"T_17318_row11_col0\" class=\"data row11 col0\" >Concept: distasteful taste. Question: Which of the following sentences best characterizes distateful tastes? option: Distasteful tastes lack flavour. option: Distasteful tastes titillate your taste buds....</td>\n",
              "      <td id=\"T_17318_row11_col1\" class=\"data row11 col1\" >['Distasteful tastes are unflattering.', 'Distasteful tastes lack flavour.', 'Distasteful tastes make good dishes.', 'Distasteful tastes titillate your taste buds.']</td>\n",
              "      <td id=\"T_17318_row11_col2\" class=\"data row11 col2\" >['Distasteful tastes are unflattering.']</td>\n",
              "      <td id=\"T_17318_row11_col3\" class=\"data row11 col3\" >Distasteful tastes are unflattering.</td>\n",
              "      <td id=\"T_17318_row11_col4\" class=\"data row11 col4\" >1</td>\n",
              "    </tr>\n",
              "    <tr>\n",
              "      <th id=\"T_17318_level0_row12\" class=\"row_heading level0 row12\" >12</th>\n",
              "      <td id=\"T_17318_row12_col0\" class=\"data row12 col0\" >Concept: mild spice. Question: Which of the following sentences best characterizes mild spices? option: Mild spices are fine for delicate stomachs. option: Mild spices are...</td>\n",
              "      <td id=\"T_17318_row12_col1\" class=\"data row12 col1\" >['Mild spices are fine for delicate stomachs.', 'Mild spices are lukewarm.', 'Mexican food is known for its mild spices.', 'Mild spices are not for the...</td>\n",
              "      <td id=\"T_17318_row12_col2\" class=\"data row12 col2\" >['Mild spices are fine for delicate stomachs.']</td>\n",
              "      <td id=\"T_17318_row12_col3\" class=\"data row12 col3\" >Mild spices are fine for delicate stomachs.</td>\n",
              "      <td id=\"T_17318_row12_col4\" class=\"data row12 col4\" >1</td>\n",
              "    </tr>\n",
              "    <tr>\n",
              "      <th id=\"T_17318_level0_row13\" class=\"row_heading level0 row13\" >13</th>\n",
              "      <td id=\"T_17318_row13_col0\" class=\"data row13 col0\" >Concept: good pain. Question: Which of the following sentences best characterizes good pain? option: Good pain is always bad. option: Medieval torture elicits good pain....</td>\n",
              "      <td id=\"T_17318_row13_col1\" class=\"data row13 col1\" >['Massage and exercise elicit good pain.', 'Good pain is always bad.', 'Medieval torture elicits good pain.', 'Getting punched by an angel elicits good pain.']</td>\n",
              "      <td id=\"T_17318_row13_col2\" class=\"data row13 col2\" >['Massage and exercise elicit good pain.']</td>\n",
              "      <td id=\"T_17318_row13_col3\" class=\"data row13 col3\" >Massage and exercise elicit good pain.</td>\n",
              "      <td id=\"T_17318_row13_col4\" class=\"data row13 col4\" >1</td>\n",
              "    </tr>\n",
              "    <tr>\n",
              "      <th id=\"T_17318_level0_row14\" class=\"row_heading level0 row14\" >14</th>\n",
              "      <td id=\"T_17318_row14_col0\" class=\"data row14 col0\" >Concept: deadly caregiver. Question: Which of the following sentences best characterizes deadly caregivers? option: Healthcare systems struggle due to the lack of deadly caregivers. option:...</td>\n",
              "      <td id=\"T_17318_row14_col1\" class=\"data row14 col1\" >['Homicidal nurses are deadly caregivers.', 'Deadly caregivers take care of terminal patients.', 'Healthcare systems struggle due to the lack of deadly caregivers.', 'Morphine overdoses are...</td>\n",
              "      <td id=\"T_17318_row14_col2\" class=\"data row14 col2\" >['Homicidal nurses are deadly caregivers.']</td>\n",
              "      <td id=\"T_17318_row14_col3\" class=\"data row14 col3\" >Homicidal nurses are deadly caregivers.</td>\n",
              "      <td id=\"T_17318_row14_col4\" class=\"data row14 col4\" >1</td>\n",
              "    </tr>\n",
              "    <tr>\n",
              "      <th id=\"T_17318_level0_row15\" class=\"row_heading level0 row15\" >15</th>\n",
              "      <td id=\"T_17318_row15_col0\" class=\"data row15 col0\" >Concept: pointless point. Question: Which of the following sentences best characterizes pointless points? option: Pointless points are not pointy enough. option: Pointless points win basketball...</td>\n",
              "      <td id=\"T_17318_row15_col1\" class=\"data row15 col1\" >['Pointless points make bad arguments.', 'Pointless points are not pointy enough.', 'Pointless points are important for punctuation.', 'Pointless points win basketball matches.']</td>\n",
              "      <td id=\"T_17318_row15_col2\" class=\"data row15 col2\" >['Pointless points make bad arguments.']</td>\n",
              "      <td id=\"T_17318_row15_col3\" class=\"data row15 col3\" >Pointless points make bad arguments.</td>\n",
              "      <td id=\"T_17318_row15_col4\" class=\"data row15 col4\" >1</td>\n",
              "    </tr>\n",
              "    <tr>\n",
              "      <th id=\"T_17318_level0_row16\" class=\"row_heading level0 row16\" >16</th>\n",
              "      <td id=\"T_17318_row16_col0\" class=\"data row16 col0\" >Concept: smelly trucks. Question: Which of the following sentences best characterizes smelly trucks? option: Smelly trucks are painted red. option: Smelly trucks emit lots of...</td>\n",
              "      <td id=\"T_17318_row16_col1\" class=\"data row16 col1\" >['Smelly trucks emit lots of black smoke.', 'Smelly trucks are very efficient.', 'Smelly trucks are lightweight.', 'Smelly trucks are painted red.']</td>\n",
              "      <td id=\"T_17318_row16_col2\" class=\"data row16 col2\" >['Smelly trucks emit lots of black smoke.']</td>\n",
              "      <td id=\"T_17318_row16_col3\" class=\"data row16 col3\" >Smelly trucks emit lots of black smoke.</td>\n",
              "      <td id=\"T_17318_row16_col4\" class=\"data row16 col4\" >1</td>\n",
              "    </tr>\n",
              "    <tr>\n",
              "      <th id=\"T_17318_level0_row17\" class=\"row_heading level0 row17\" >17</th>\n",
              "      <td id=\"T_17318_row17_col0\" class=\"data row17 col0\" >Concept: sliced apples. Question: Which of the following sentences best characterizes sliced apples? option: Sliced apples are dysfunctional. option: Sliced apples tend to bleed a...</td>\n",
              "      <td id=\"T_17318_row17_col1\" class=\"data row17 col1\" >['Sliced apples are cooked in a pie.', 'Sliced apples are very sharp.', 'Sliced apples tend to bleed a lot.', 'Sliced apples are dysfunctional.']</td>\n",
              "      <td id=\"T_17318_row17_col2\" class=\"data row17 col2\" >['Sliced apples are cooked in a pie.']</td>\n",
              "      <td id=\"T_17318_row17_col3\" class=\"data row17 col3\" >Sliced apples are cooked in a pie.</td>\n",
              "      <td id=\"T_17318_row17_col4\" class=\"data row17 col4\" >1</td>\n",
              "    </tr>\n",
              "    <tr>\n",
              "      <th id=\"T_17318_level0_row18\" class=\"row_heading level0 row18\" >18</th>\n",
              "      <td id=\"T_17318_row18_col0\" class=\"data row18 col0\" >Concept: casual shirts. Question: Which of the following sentences best characterizes casual shirts? option: Casual shirts do not want relationships. option: Casual shirts use a...</td>\n",
              "      <td id=\"T_17318_row18_col1\" class=\"data row18 col1\" >['Casual shirts are pulled over your head.', 'Casual shirts do not want relationships.', 'Casual shirts use a lot of swear words.', 'Casual shirts should be...</td>\n",
              "      <td id=\"T_17318_row18_col2\" class=\"data row18 col2\" >['Casual shirts are pulled over your head.']</td>\n",
              "      <td id=\"T_17318_row18_col3\" class=\"data row18 col3\" >Casual shirts are pulled over your head.</td>\n",
              "      <td id=\"T_17318_row18_col4\" class=\"data row18 col4\" >1</td>\n",
              "    </tr>\n",
              "    <tr>\n",
              "      <th id=\"T_17318_level0_row19\" class=\"row_heading level0 row19\" >19</th>\n",
              "      <td id=\"T_17318_row19_col0\" class=\"data row19 col0\" >Concept: small couches. Question: Which of the following sentences best characterizes small couches? option: Small couches are smaller than chairs. option: Small couches seat only...</td>\n",
              "      <td id=\"T_17318_row19_col1\" class=\"data row19 col1\" >['Small couches seat only two people.', 'Small couches fit in an envelope.', 'Small couches are perfect for big families.', 'Small couches are smaller than chairs.']</td>\n",
              "      <td id=\"T_17318_row19_col2\" class=\"data row19 col2\" >['Small couches seat only two people.']</td>\n",
              "      <td id=\"T_17318_row19_col3\" class=\"data row19 col3\" >Small couches seat only two people.</td>\n",
              "      <td id=\"T_17318_row19_col4\" class=\"data row19 col4\" >1</td>\n",
              "    </tr>\n",
              "  </tbody>\n",
              "</table>\n"
            ],
            "text/plain": [
              "<pandas.io.formats.style.Styler object at 0x7ec8d0e29600>"
            ]
          },
          "metadata": {},
          "output_type": "display_data"
        },
        {
          "data": {
            "text/html": [
              "\n",
              "                <div style='\n",
              "                    text-align: center;\n",
              "                    font-size: 16px;\n",
              "                    font-weight: bold;\n",
              "                    color: #555;\n",
              "                    margin: 10px 0;'>\n",
              "                    ... 80 more rows not displayed ...\n",
              "                </div>\n",
              "                "
            ],
            "text/plain": [
              "<IPython.core.display.HTML object>"
            ]
          },
          "metadata": {},
          "output_type": "display_data"
        }
      ],
      "source": [
        "from dspy.evaluate import Evaluate\n",
        "\n",
        "# Set up the evaluator, which can be re-used in your code.\n",
        "evaluator = Evaluate(devset=valset, num_threads=2, display_progress=True, display_table=20,return_outputs=True)\n",
        "\n",
        "# Launch evaluation.\n",
        "evaluation_score, outputs = evaluator(optimized_cot, metric=wsd_metric)"
      ]
    },
    {
      "cell_type": "code",
      "execution_count": 375,
      "metadata": {
        "colab": {
          "base_uri": "https://localhost:8080/"
        },
        "id": "UO-HcLAy4FFR",
        "outputId": "6cef61f0-ed54-48a4-8387-3c79031bb0ef"
      },
      "outputs": [
        {
          "data": {
            "text/plain": [
              "97.0"
            ]
          },
          "execution_count": 375,
          "metadata": {},
          "output_type": "execute_result"
        }
      ],
      "source": [
        "evaluation_score"
      ]
    },
    {
      "cell_type": "code",
      "execution_count": 376,
      "metadata": {
        "id": "SVYESECCVm-x"
      },
      "outputs": [],
      "source": [
        "outputs = pd.DataFrame(outputs)"
      ]
    },
    {
      "cell_type": "code",
      "execution_count": 377,
      "metadata": {
        "id": "fvt4dbmehps_"
      },
      "outputs": [],
      "source": [
        "outputs.columns = ['problem','response','result']"
      ]
    },
    {
      "cell_type": "code",
      "execution_count": 378,
      "metadata": {
        "colab": {
          "base_uri": "https://localhost:8080/"
        },
        "id": "PDXfPXcFzclC",
        "outputId": "6156ceb4-52d3-40b0-ecd8-22a76d2e5e1f"
      },
      "outputs": [
        {
          "data": {
            "text/plain": [
              "Example({'question': \"The word 'lopso' is an adjective for people who cannot hear. Question: Which of the following sentences best characterizes lopso composers?\\n option: Lopso composers listen to Mozart.\\n option: Lopso composers only do blind auditions.\\n option: Lopso composers have to imagine the sound of their music.\\n option: Lopso composers make electronic dance music.\\nAnswer:\", 'options': ['Lopso composers have to imagine the sound of their music.', 'Lopso composers only do blind auditions.', 'Lopso composers make electronic dance music.', 'Lopso composers listen to Mozart.'], 'answer': ['Lopso composers have to imagine the sound of their music.']}) (input_keys={'question', 'options'})"
            ]
          },
          "execution_count": 378,
          "metadata": {},
          "output_type": "execute_result"
        }
      ],
      "source": [
        "outputs.iloc[95,0]"
      ]
    },
    {
      "cell_type": "code",
      "execution_count": 379,
      "metadata": {
        "id": "kEjaqXrMhEmE"
      },
      "outputs": [],
      "source": [
        "outputs.to_json('conceptual_combinations_GPT_4o_3_shot_results.json',orient='records')"
      ]
    },
    {
      "cell_type": "code",
      "execution_count": null,
      "metadata": {
        "id": "eCkI3DYJ8WhL"
      },
      "outputs": [],
      "source": []
    }
  ],
  "metadata": {
    "colab": {
      "provenance": []
    },
    "kernelspec": {
      "display_name": "Python 3",
      "name": "python3"
    },
    "language_info": {
      "name": "python"
    }
  },
  "nbformat": 4,
  "nbformat_minor": 0
}
