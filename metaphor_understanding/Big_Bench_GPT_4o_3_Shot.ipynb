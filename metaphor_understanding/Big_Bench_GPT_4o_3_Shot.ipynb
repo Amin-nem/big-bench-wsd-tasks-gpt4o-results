{
  "cells": [
    {
      "cell_type": "markdown",
      "metadata": {
        "id": "DZDG0GdGD0v9"
      },
      "source": [
        "# Big Bench"
      ]
    },
    {
      "cell_type": "code",
      "execution_count": null,
      "metadata": {
        "id": "vV0Uy2SFbMTL"
      },
      "outputs": [],
      "source": [
        "!pip install \"bigbench @ https://storage.googleapis.com/public_research_data/bigbench/bigbench-0.0.1.tar.gz\" -q"
      ]
    },
    {
      "cell_type": "code",
      "execution_count": null,
      "metadata": {
        "id": "Lg-fT6-UN42_"
      },
      "outputs": [],
      "source": [
        "!pip install dspy datasets python-Levenshtein -q"
      ]
    },
    {
      "cell_type": "code",
      "execution_count": 98,
      "metadata": {
        "id": "CAK829NqNIAn"
      },
      "outputs": [],
      "source": [
        "import os\n",
        "import pandas as pd\n",
        "from datasets import load_dataset\n",
        "import dspy\n",
        "import Levenshtein\n",
        "import random\n",
        "from openai import OpenAI\n",
        "client = OpenAI()"
      ]
    },
    {
      "cell_type": "code",
      "execution_count": 334,
      "metadata": {
        "colab": {
          "base_uri": "https://localhost:8080/",
          "height": 130,
          "referenced_widgets": [
            "fa277167669b4f92bc4b6d4cb9d8039b",
            "58b39c648b7649a4bdd261a5b1c346bc",
            "be7e4263bdcf496bb571b821f1ca6327",
            "e73dab6bc81a48c4ab2d5f5559f00476",
            "08742ffa72854d008393fc3da5928a1d",
            "f097381948db408fbd5e8acd625727ea",
            "f952bd509e76421bbd3fba6671fb0c79",
            "56c93b19b90f4f088ed3068c3d63ba6c",
            "78dcdc8701a5488d84fcb7c1218e2b23",
            "0ef31aa2555a42bbad8fc4bb2b29f3aa",
            "c526c83983a54a8380272f6d05f4b045",
            "b20dbf48d21749359dfdcd57c4c7c340",
            "d11af5e6dbcc4080bcb1c75de93e1198",
            "33901953c3514d9592494b76ee9a0146",
            "897ccb9b554549739321915f8255eadc",
            "8d49409967fd4e63a55fbd462a256802",
            "b7b9d08a50b445ac8eae1942108f83bd",
            "dbef3548e2544ca4962b0f73791092df",
            "c0ea59130aec460d91108ab9508ba72e",
            "b505857bf4d24b45a96f142b5dea7294",
            "fb534cebc7a646d498442134150b2b46",
            "13a3c316cc224ab682ff37cd52bba07e",
            "bbe2516138ab4ebf97c8675bb3502fbd",
            "977ba7488127424b838e97f84d6cff81",
            "e15a9b1995134233bbae9b07fb85a4a7",
            "b772a1be95424431a7cf0c9e9f2e27c0",
            "244c5b28a22f429884443c50fe9a1669",
            "3f4fe2148c26426da9cd74c95fca4e6f",
            "7664843d698b43edb881bb3673f63474",
            "7d1e746e8402476c9c986a435fa60ef9",
            "0f5cfa287ea740e88362c76854c54d84",
            "f84f8818b6314f11ae311224f1021f68",
            "3a7b507b898e4cffbcffcb3edbfd5e52"
          ]
        },
        "id": "PdNcxlQQN2iw",
        "outputId": "bcbafdc2-3968-4094-f1f5-033828ccb59c"
      },
      "outputs": [
        {
          "data": {
            "application/vnd.jupyter.widget-view+json": {
              "model_id": "fa277167669b4f92bc4b6d4cb9d8039b",
              "version_major": 2,
              "version_minor": 0
            },
            "text/plain": [
              "Generating default split:   0%|          | 0/234 [00:00<?, ? examples/s]"
            ]
          },
          "metadata": {},
          "output_type": "display_data"
        },
        {
          "data": {
            "application/vnd.jupyter.widget-view+json": {
              "model_id": "b20dbf48d21749359dfdcd57c4c7c340",
              "version_major": 2,
              "version_minor": 0
            },
            "text/plain": [
              "Generating train split:   0%|          | 0/188 [00:00<?, ? examples/s]"
            ]
          },
          "metadata": {},
          "output_type": "display_data"
        },
        {
          "data": {
            "application/vnd.jupyter.widget-view+json": {
              "model_id": "bbe2516138ab4ebf97c8675bb3502fbd",
              "version_major": 2,
              "version_minor": 0
            },
            "text/plain": [
              "Generating validation split:   0%|          | 0/46 [00:00<?, ? examples/s]"
            ]
          },
          "metadata": {},
          "output_type": "display_data"
        },
        {
          "name": "stdout",
          "output_type": "stream",
          "text": [
            "There are 234 examples.\n"
          ]
        }
      ],
      "source": [
        "ds = load_dataset(\"google/bigbench\", \"metaphor_understanding\")[\"default\"]\n",
        "examples = [dspy.Example({\"question\": r[\"inputs\"], \"options\": r[\"multiple_choice_targets\"], \"answer\":r['targets']}).with_inputs(\"question\",\"options\") for r in ds]\n",
        "print(f\"There are {len(examples)} examples.\")\n",
        "trainset = random.sample(examples, 3)\n",
        "valset = random.sample([i for i in examples if i not in trainset],200)"
      ]
    },
    {
      "cell_type": "code",
      "execution_count": 337,
      "metadata": {
        "colab": {
          "base_uri": "https://localhost:8080/"
        },
        "id": "t4x2Rc3DZ9tv",
        "outputId": "82225f37-4e31-4c4e-8217-712a68f0a210"
      },
      "outputs": [
        {
          "data": {
            "text/plain": [
              "Example({'question': 'paraphrase: \\nQ: He was irritable and angry. option: He was in a bright mood. option: He was radiant with joy. option: He was in a black mood. option: He was in high spirits.\\nA:', 'options': ['He was in a black mood.', 'He was in a bright mood.', 'He was radiant with joy.', 'He was in high spirits.'], 'answer': ['He was in a black mood.']}) (input_keys={'question', 'options'})"
            ]
          },
          "execution_count": 337,
          "metadata": {},
          "output_type": "execute_result"
        }
      ],
      "source": [
        "examples[100]"
      ]
    },
    {
      "cell_type": "code",
      "execution_count": 338,
      "metadata": {
        "id": "xaiERTcWOd4A"
      },
      "outputs": [],
      "source": [
        "lm = dspy.OpenAI(model=\"gpt-4o-2024-05-13\")\n",
        "dspy.settings.configure(lm=lm)"
      ]
    },
    {
      "cell_type": "code",
      "execution_count": 339,
      "metadata": {
        "id": "fSxGY8NCRtPA"
      },
      "outputs": [],
      "source": [
        "def custom_format_handler(value):\n",
        "    if isinstance(value, list):\n",
        "        return ' | '.join(map(str, value))\n",
        "        #return value[-1]\n",
        "    return value"
      ]
    },
    {
      "cell_type": "code",
      "execution_count": 340,
      "metadata": {
        "id": "rUZCKnIgPjdW"
      },
      "outputs": [],
      "source": [
        "class CoTSignature(dspy.Signature):\n",
        "    \"\"\"Play a language game. Only produce the answer.\"\"\"\n",
        "    question = dspy.InputField()\n",
        "    options = dspy.InputField(format=custom_format_handler)\n",
        "    answer = dspy.OutputField(format=custom_format_handler)"
      ]
    },
    {
      "cell_type": "code",
      "execution_count": 341,
      "metadata": {
        "id": "qcS1FZ4f6zX5"
      },
      "outputs": [],
      "source": [
        "simple_predict = dspy.Predict(CoTSignature)"
      ]
    },
    {
      "cell_type": "code",
      "execution_count": 342,
      "metadata": {
        "id": "z28WUE-JQM7D"
      },
      "outputs": [],
      "source": [
        "class CoT(dspy.Module):\n",
        "    def __init__(self):\n",
        "        super().__init__()\n",
        "        self.signature = CoTSignature\n",
        "        self.predictor = dspy.ChainOfThought(self.signature)\n",
        "    def forward(self, question, options):\n",
        "      result = self.predictor(lm=lm,question=question, options=options)\n",
        "      return dspy.Prediction(answer=result.answer)"
      ]
    },
    {
      "cell_type": "code",
      "execution_count": 343,
      "metadata": {
        "colab": {
          "base_uri": "https://localhost:8080/"
        },
        "id": "wGPRr5b9QvPq",
        "outputId": "4e5abc01-ee37-451b-8e3f-5db1d0f1c2e8"
      },
      "outputs": [
        {
          "name": "stdout",
          "output_type": "stream",
          "text": [
            "Sense: Alexander, always a connoisseur of garments, realised that Frederica had changed her style.\n"
          ]
        }
      ],
      "source": [
        "cot_module = CoT()\n",
        "test_q = examples[74]\n",
        "prediction = cot_module.forward(question=test_q.question, options=test_q.options)\n",
        "print(f\"Sense: {prediction.answer}\")"
      ]
    },
    {
      "cell_type": "code",
      "execution_count": 344,
      "metadata": {
        "colab": {
          "base_uri": "https://localhost:8080/"
        },
        "id": "76NYq151KQ63",
        "outputId": "8b498ee7-34bf-471d-829f-3ae17dbfde95"
      },
      "outputs": [
        {
          "data": {
            "text/plain": [
              "Prediction(\n",
              "    answer='Alexander, always a connoisseur of garments, realised that Frederica had changed her style.'\n",
              ")"
            ]
          },
          "execution_count": 344,
          "metadata": {},
          "output_type": "execute_result"
        }
      ],
      "source": [
        "simple_predict(question=test_q.question, options=test_q.options)"
      ]
    },
    {
      "cell_type": "code",
      "execution_count": 345,
      "metadata": {
        "id": "z5HfYBewQ_YN"
      },
      "outputs": [],
      "source": [
        "def wsd_metric(example, pred, trace=None, threshold=0.90):\n",
        "    \"\"\"Metric function for word sense disambiguation with Levenshtein distance.\"\"\"\n",
        "    gold_sense = example.answer[0]\n",
        "    predicted_sense = pred.answer\n",
        "\n",
        "    # Calculate Levenshtein similarity\n",
        "    similarity = Levenshtein.ratio(gold_sense.lower(), predicted_sense.lower())\n",
        "\n",
        "    # Check if similarity exceeds the threshold\n",
        "    return int(similarity >= threshold)\n"
      ]
    },
    {
      "cell_type": "code",
      "execution_count": 346,
      "metadata": {
        "colab": {
          "base_uri": "https://localhost:8080/"
        },
        "id": "LLsLpt9kT2wa",
        "outputId": "34290e6f-e976-48db-c6aa-2259c13f396e"
      },
      "outputs": [
        {
          "name": "stderr",
          "output_type": "stream",
          "text": [
            "  0%|          | 0/3 [00:00<?, ?it/s]"
          ]
        },
        {
          "name": "stdout",
          "output_type": "stream",
          "text": [
            "Bootstrapped 0 full traces after 1 examples in round 0.\n"
          ]
        },
        {
          "name": "stderr",
          "output_type": "stream",
          "text": [
            "\n"
          ]
        }
      ],
      "source": [
        "from dspy.teleprompt import BootstrapFewShot\n",
        "\n",
        "# Set up the optimizer: we want to \"bootstrap\" (i.e., self-generate) 4-shot examples of our CoT program.\n",
        "config = dict(max_bootstrapped_demos=0, max_labeled_demos=3)\n",
        "\n",
        "# Optimize! Use the `gsm8k_metric` here. In general, the metric is going to tell the optimizer how well it's doing.\n",
        "teleprompter = BootstrapFewShot(metric=wsd_metric, **config)\n",
        "optimized_cot = teleprompter.compile(CoT(), trainset=trainset)"
      ]
    },
    {
      "cell_type": "code",
      "execution_count": 347,
      "metadata": {
        "colab": {
          "base_uri": "https://localhost:8080/"
        },
        "id": "uxd0UMPiY6GP",
        "outputId": "e5a42e85-b116-46f5-8998-060e4beaf51b"
      },
      "outputs": [
        {
          "data": {
            "text/plain": [
              "Prediction(\n",
              "    answer='Alexander, always a connoisseur of garments, realised that Frederica had changed her style.'\n",
              ")"
            ]
          },
          "execution_count": 347,
          "metadata": {},
          "output_type": "execute_result"
        }
      ],
      "source": [
        "optimized_cot.forward(question=test_q.question, options=test_q.options)"
      ]
    },
    {
      "cell_type": "code",
      "execution_count": 348,
      "metadata": {
        "colab": {
          "base_uri": "https://localhost:8080/"
        },
        "id": "PWKWBap1YIzG",
        "outputId": "e13154a7-ae6e-480e-8e92-394a8dab9189"
      },
      "outputs": [
        {
          "name": "stdout",
          "output_type": "stream",
          "text": [
            "\n",
            "\n",
            "\n",
            "\n",
            "Play a language game. Only produce the answer.\n",
            "\n",
            "---\n",
            "\n",
            "Question: paraphrase: Q: Ideas and aspirations must be embodied in manifest acts if reality is to be changed. option: Ideas and aspirations must be embodied in manifest acts if reality is to be converted. option: Ideas and aspirations must be embodied in manifest acts if reality is to be transferred. option: Ideas and aspirations must be embodied in manifest acts if a different reality is to be put on. option: Ideas and aspirations must be embodied in manifest acts if reality is to be modified. A:\n",
            "Options: Ideas and aspirations must be embodied in manifest acts if reality is to be modified. | Ideas and aspirations must be embodied in manifest acts if reality is to be converted. | Ideas and aspirations must be embodied in manifest acts if a different reality is to be put on. | Ideas and aspirations must be embodied in manifest acts if reality is to be transferred.\n",
            "Answer: Ideas and aspirations must be embodied in manifest acts if reality is to be modified.\n",
            "\n",
            "Question: paraphrase: Q: They reached the main deck, dropping down. option: They arrived at the main deck, dropping down. option: They were seen by the main deck, dropping down. option: They agreed on the main deck, dropping down. option: They contacted the main deck, dropping down. A:\n",
            "Options: They arrived at the main deck, dropping down. | They were seen by the main deck, dropping down. | They contacted the main deck, dropping down. | They agreed on the main deck, dropping down.\n",
            "Answer: They arrived at the main deck, dropping down.\n",
            "\n",
            "Question: paraphrase: Q: I knew almost nothing about physics but we shared some jokes about the Rome telephone system. option: I knew almost nothing about physics but we split some jokes about the Rome telephone system. option: I knew almost nothing about physics but we told the same jokes about the Rome telephone system. option: I knew almost nothing about physics but we also believed some jokes about the Rome telephone system. option: I knew almost nothing about physics but we told each other some jokes about the Rome telephone system. A:\n",
            "Options: I knew almost nothing about physics but we told each other some jokes about the Rome telephone system. | I knew almost nothing about physics but we told the same jokes about the Rome telephone system. | I knew almost nothing about physics but we also believed some jokes about the Rome telephone system. | I knew almost nothing about physics but we split some jokes about the Rome telephone system.\n",
            "Answer: I knew almost nothing about physics but we told each other some jokes about the Rome telephone system.\n",
            "\n",
            "---\n",
            "\n",
            "Follow the following format.\n",
            "\n",
            "Question: ${question}\n",
            "\n",
            "Options: ${options}\n",
            "\n",
            "Reasoning: Let's think step by step in order to ${produce the answer}. We ...\n",
            "\n",
            "Answer: ${answer}\n",
            "\n",
            "---\n",
            "\n",
            "Question: paraphrase: Q: Alexander, always a connoisseur of garments, realised that Frederica had transformed into another style. option: Alexander, always a connoisseur of garments, realised that Frederica had converted her style. option: Alexander, always a connoisseur of garments, realised that Frederica had replaced her style. option: Alexander, always a connoisseur of garments, realised that Frederica had changed her style. option: Alexander, always a connoisseur of garments, realised that Frederica had put on a different style. A:\n",
            "\n",
            "Options: Alexander, always a connoisseur of garments, realised that Frederica had changed her style. | Alexander, always a connoisseur of garments, realised that Frederica had put on a different style. | Alexander, always a connoisseur of garments, realised that Frederica had converted her style. | Alexander, always a connoisseur of garments, realised that Frederica had replaced her style.\n",
            "\n",
            "Reasoning: Let's think step by step in order to Answer: Alexander, always a connoisseur of garments, realised that Frederica had changed her style.\n",
            "\n",
            "Answer:\u001b[32m Alexander, always a connoisseur of garments, realised that Frederica had changed her style.\u001b[0m\n",
            "\n",
            "\n",
            "\n"
          ]
        }
      ],
      "source": [
        "lm.inspect_history(1)"
      ]
    },
    {
      "cell_type": "code",
      "execution_count": 349,
      "metadata": {
        "colab": {
          "base_uri": "https://localhost:8080/"
        },
        "id": "K0CnZf5gXeR6",
        "outputId": "72e531f9-1a3f-40d0-8f6a-8e6e8d0ce896"
      },
      "outputs": [
        {
          "data": {
            "text/plain": [
              "['Alexander, always a connoisseur of garments, realised that Frederica had changed her style.']"
            ]
          },
          "execution_count": 349,
          "metadata": {},
          "output_type": "execute_result"
        }
      ],
      "source": [
        "examples[74]['answer']"
      ]
    },
    {
      "cell_type": "code",
      "execution_count": 350,
      "metadata": {
        "colab": {
          "base_uri": "https://localhost:8080/",
          "height": 1000
        },
        "id": "K9PuuYKNSSSs",
        "outputId": "3ee5aa06-3bec-4cdc-a7fd-a1f63b98e92c"
      },
      "outputs": [
        {
          "name": "stderr",
          "output_type": "stream",
          "text": [
            "Average Metric: 170 / 200  (85.0): 100%|██████████| 200/200 [02:48<00:00,  1.19it/s]"
          ]
        },
        {
          "name": "stdout",
          "output_type": "stream",
          "text": [
            "Average Metric: 170 / 200  (85.0%)\n"
          ]
        },
        {
          "name": "stderr",
          "output_type": "stream",
          "text": [
            "\n"
          ]
        },
        {
          "data": {
            "text/html": [
              "<style type=\"text/css\">\n",
              "#T_9dc43 th {\n",
              "  text-align: left;\n",
              "}\n",
              "#T_9dc43 td {\n",
              "  text-align: left;\n",
              "}\n",
              "#T_9dc43_row0_col0, #T_9dc43_row0_col1, #T_9dc43_row0_col2, #T_9dc43_row0_col3, #T_9dc43_row0_col4, #T_9dc43_row1_col0, #T_9dc43_row1_col1, #T_9dc43_row1_col2, #T_9dc43_row1_col3, #T_9dc43_row1_col4, #T_9dc43_row2_col0, #T_9dc43_row2_col1, #T_9dc43_row2_col2, #T_9dc43_row2_col3, #T_9dc43_row2_col4, #T_9dc43_row3_col0, #T_9dc43_row3_col1, #T_9dc43_row3_col2, #T_9dc43_row3_col3, #T_9dc43_row3_col4, #T_9dc43_row4_col0, #T_9dc43_row4_col1, #T_9dc43_row4_col2, #T_9dc43_row4_col3, #T_9dc43_row4_col4, #T_9dc43_row5_col0, #T_9dc43_row5_col1, #T_9dc43_row5_col2, #T_9dc43_row5_col3, #T_9dc43_row5_col4, #T_9dc43_row6_col0, #T_9dc43_row6_col1, #T_9dc43_row6_col2, #T_9dc43_row6_col3, #T_9dc43_row6_col4, #T_9dc43_row7_col0, #T_9dc43_row7_col1, #T_9dc43_row7_col2, #T_9dc43_row7_col3, #T_9dc43_row7_col4, #T_9dc43_row8_col0, #T_9dc43_row8_col1, #T_9dc43_row8_col2, #T_9dc43_row8_col3, #T_9dc43_row8_col4, #T_9dc43_row9_col0, #T_9dc43_row9_col1, #T_9dc43_row9_col2, #T_9dc43_row9_col3, #T_9dc43_row9_col4, #T_9dc43_row10_col0, #T_9dc43_row10_col1, #T_9dc43_row10_col2, #T_9dc43_row10_col3, #T_9dc43_row10_col4, #T_9dc43_row11_col0, #T_9dc43_row11_col1, #T_9dc43_row11_col2, #T_9dc43_row11_col3, #T_9dc43_row11_col4, #T_9dc43_row12_col0, #T_9dc43_row12_col1, #T_9dc43_row12_col2, #T_9dc43_row12_col3, #T_9dc43_row12_col4, #T_9dc43_row13_col0, #T_9dc43_row13_col1, #T_9dc43_row13_col2, #T_9dc43_row13_col3, #T_9dc43_row13_col4, #T_9dc43_row14_col0, #T_9dc43_row14_col1, #T_9dc43_row14_col2, #T_9dc43_row14_col3, #T_9dc43_row14_col4, #T_9dc43_row15_col0, #T_9dc43_row15_col1, #T_9dc43_row15_col2, #T_9dc43_row15_col3, #T_9dc43_row15_col4, #T_9dc43_row16_col0, #T_9dc43_row16_col1, #T_9dc43_row16_col2, #T_9dc43_row16_col3, #T_9dc43_row16_col4, #T_9dc43_row17_col0, #T_9dc43_row17_col1, #T_9dc43_row17_col2, #T_9dc43_row17_col3, #T_9dc43_row17_col4, #T_9dc43_row18_col0, #T_9dc43_row18_col1, #T_9dc43_row18_col2, #T_9dc43_row18_col3, #T_9dc43_row18_col4, #T_9dc43_row19_col0, #T_9dc43_row19_col1, #T_9dc43_row19_col2, #T_9dc43_row19_col3, #T_9dc43_row19_col4 {\n",
              "  text-align: left;\n",
              "  white-space: pre-wrap;\n",
              "  word-wrap: break-word;\n",
              "  max-width: 400px;\n",
              "}\n",
              "</style>\n",
              "<table id=\"T_9dc43\" class=\"dataframe\">\n",
              "  <thead>\n",
              "    <tr>\n",
              "      <th class=\"blank level0\" >&nbsp;</th>\n",
              "      <th id=\"T_9dc43_level0_col0\" class=\"col_heading level0 col0\" >question</th>\n",
              "      <th id=\"T_9dc43_level0_col1\" class=\"col_heading level0 col1\" >options</th>\n",
              "      <th id=\"T_9dc43_level0_col2\" class=\"col_heading level0 col2\" >example_answer</th>\n",
              "      <th id=\"T_9dc43_level0_col3\" class=\"col_heading level0 col3\" >pred_answer</th>\n",
              "      <th id=\"T_9dc43_level0_col4\" class=\"col_heading level0 col4\" >wsd_metric</th>\n",
              "    </tr>\n",
              "  </thead>\n",
              "  <tbody>\n",
              "    <tr>\n",
              "      <th id=\"T_9dc43_level0_row0\" class=\"row_heading level0 row0\" >0</th>\n",
              "      <td id=\"T_9dc43_row0_col0\" class=\"data row0 col0\" >paraphrase: Q: By the time Mark arrived at home that evening, the pains in his head were excruciating. option: By the time Mark contacted home...</td>\n",
              "      <td id=\"T_9dc43_row0_col1\" class=\"data row0 col1\" >['By the time Mark reached home that evening, the pains in his head were excruciating.', 'By the time Mark contacted home that evening, the pains...</td>\n",
              "      <td id=\"T_9dc43_row0_col2\" class=\"data row0 col2\" >['By the time Mark reached home that evening, the pains in his head were excruciating.']</td>\n",
              "      <td id=\"T_9dc43_row0_col3\" class=\"data row0 col3\" >By the time Mark reached home that evening, the pains in his head were excruciating.</td>\n",
              "      <td id=\"T_9dc43_row0_col4\" class=\"data row0 col4\" >1</td>\n",
              "    </tr>\n",
              "    <tr>\n",
              "      <th id=\"T_9dc43_level0_row1\" class=\"row_heading level0 row1\" >1</th>\n",
              "      <td id=\"T_9dc43_row1_col0\" class=\"data row1 col0\" >paraphrase: Q: A break up can leave you with a broken heart. option: A break up can make you feel happy and smiling. option: A...</td>\n",
              "      <td id=\"T_9dc43_row1_col1\" class=\"data row1 col1\" >['A break up can make you feel hurt and sad.', 'A break up can make you feel happy and smiling.', 'A break up can make...</td>\n",
              "      <td id=\"T_9dc43_row1_col2\" class=\"data row1 col2\" >['A break up can make you feel hurt and sad.']</td>\n",
              "      <td id=\"T_9dc43_row1_col3\" class=\"data row1 col3\" >A break up can make you feel hurt and sad.</td>\n",
              "      <td id=\"T_9dc43_row1_col4\" class=\"data row1 col4\" >1</td>\n",
              "    </tr>\n",
              "    <tr>\n",
              "      <th id=\"T_9dc43_level0_row2\" class=\"row_heading level0 row2\" >2</th>\n",
              "      <td id=\"T_9dc43_row2_col0\" class=\"data row2 col0\" >paraphrase: Q: The Liberal Unionists were admitted to the Carlton Club. option: The Liberal Unionists were allowed into the Carlton Club. option: The Liberal Unionists...</td>\n",
              "      <td id=\"T_9dc43_row2_col1\" class=\"data row2 col1\" >['The Liberal Unionists were allowed into the Carlton Club.', 'The Liberal Unionists were confessed to the Carlton Club.', 'The Liberal Unionists were introduced to the...</td>\n",
              "      <td id=\"T_9dc43_row2_col2\" class=\"data row2 col2\" >['The Liberal Unionists were allowed into the Carlton Club.']</td>\n",
              "      <td id=\"T_9dc43_row2_col3\" class=\"data row2 col3\" >The Liberal Unionists were allowed into the Carlton Club.</td>\n",
              "      <td id=\"T_9dc43_row2_col4\" class=\"data row2 col4\" >1</td>\n",
              "    </tr>\n",
              "    <tr>\n",
              "      <th id=\"T_9dc43_level0_row3\" class=\"row_heading level0 row3\" >3</th>\n",
              "      <td id=\"T_9dc43_row3_col0\" class=\"data row3 col0\" >paraphrase: Q: I asked your help and it was impossible to find you option: I asked for your help and you broke my heart option:...</td>\n",
              "      <td id=\"T_9dc43_row3_col1\" class=\"data row3 col1\" >['I asked for your help and you disappeared from radar', 'I asked for your help and you appeared like a jack-in-the-box', 'I asked for your...</td>\n",
              "      <td id=\"T_9dc43_row3_col2\" class=\"data row3 col2\" >['I asked for your help and you disappeared from radar']</td>\n",
              "      <td id=\"T_9dc43_row3_col3\" class=\"data row3 col3\" >I asked for your help and you disappeared from radar</td>\n",
              "      <td id=\"T_9dc43_row3_col4\" class=\"data row3 col4\" >1</td>\n",
              "    </tr>\n",
              "    <tr>\n",
              "      <th id=\"T_9dc43_level0_row4\" class=\"row_heading level0 row4\" >4</th>\n",
              "      <td id=\"T_9dc43_row4_col0\" class=\"data row4 col0\" >paraphrase: Q: His condescending attitude made my blood boil. option: His condescending attitude made me really excited. option: His condescending attitude made me really joyful....</td>\n",
              "      <td id=\"T_9dc43_row4_col1\" class=\"data row4 col1\" >['His condescending attitude made me really angry.', 'His condescending attitude made me really excited.', 'His condescending attitude made me really intrigued.', 'His condescending attitude made...</td>\n",
              "      <td id=\"T_9dc43_row4_col2\" class=\"data row4 col2\" >['His condescending attitude made me really angry.']</td>\n",
              "      <td id=\"T_9dc43_row4_col3\" class=\"data row4 col3\" >His condescending attitude made me really angry.</td>\n",
              "      <td id=\"T_9dc43_row4_col4\" class=\"data row4 col4\" >1</td>\n",
              "    </tr>\n",
              "    <tr>\n",
              "      <th id=\"T_9dc43_level0_row5\" class=\"row_heading level0 row5\" >5</th>\n",
              "      <td id=\"T_9dc43_row5_col0\" class=\"data row5 col0\" >paraphrase: Q: he was overwhelmed by happiness option: he was so happy he felt his feet were exploading option: he was so happy he felt...</td>\n",
              "      <td id=\"T_9dc43_row5_col1\" class=\"data row5 col1\" >['he was so happy he felt his heart was exploding', 'he was so happy he felt his feet were exploading', 'he was so happy he...</td>\n",
              "      <td id=\"T_9dc43_row5_col2\" class=\"data row5 col2\" >['he was so happy he felt his heart was exploding']</td>\n",
              "      <td id=\"T_9dc43_row5_col3\" class=\"data row5 col3\" >he was so happy he felt his heart was exploding</td>\n",
              "      <td id=\"T_9dc43_row5_col4\" class=\"data row5 col4\" >1</td>\n",
              "    </tr>\n",
              "    <tr>\n",
              "      <th id=\"T_9dc43_level0_row6\" class=\"row_heading level0 row6\" >6</th>\n",
              "      <td id=\"T_9dc43_row6_col0\" class=\"data row6 col0\" >paraphrase: Q: He felt an intense excitement option: He felt a stream of excitement. option: Het felt a flood of excitement. option: He felt a...</td>\n",
              "      <td id=\"T_9dc43_row6_col1\" class=\"data row6 col1\" >['He felt a wave of excitement', 'He felt a drop of excitement.', 'He felt a stream of excitement.', 'Het felt a flood of excitement.']</td>\n",
              "      <td id=\"T_9dc43_row6_col2\" class=\"data row6 col2\" >['He felt a wave of excitement']</td>\n",
              "      <td id=\"T_9dc43_row6_col3\" class=\"data row6 col3\" >He felt a wave of excitement</td>\n",
              "      <td id=\"T_9dc43_row6_col4\" class=\"data row6 col4\" >1</td>\n",
              "    </tr>\n",
              "    <tr>\n",
              "      <th id=\"T_9dc43_level0_row7\" class=\"row_heading level0 row7\" >7</th>\n",
              "      <td id=\"T_9dc43_row7_col0\" class=\"data row7 col0\" >paraphrase: Q: the demonstration which Keith has earlier persuaded him to take part in against the Vietnam War option: the demonstration which Keith has earlier...</td>\n",
              "      <td id=\"T_9dc43_row7_col1\" class=\"data row7 col1\" >['the demonstration which Keith has earlier persuaded him to join against the Vietnam War', 'the demonstration which Keith has earlier persuaded him to connect against...</td>\n",
              "      <td id=\"T_9dc43_row7_col2\" class=\"data row7 col2\" >['the demonstration which Keith has earlier persuaded him to join against the Vietnam War']</td>\n",
              "      <td id=\"T_9dc43_row7_col3\" class=\"data row7 col3\" >the demonstration which Keith has earlier persuaded him to join against the Vietnam War</td>\n",
              "      <td id=\"T_9dc43_row7_col4\" class=\"data row7 col4\" >1</td>\n",
              "    </tr>\n",
              "    <tr>\n",
              "      <th id=\"T_9dc43_level0_row8\" class=\"row_heading level0 row8\" >8</th>\n",
              "      <td id=\"T_9dc43_row8_col0\" class=\"data row8 col0\" >paraphrase: Q: Apart from the last one and the penultimate one which seemed to apply in America more than here (here he had become part...</td>\n",
              "      <td id=\"T_9dc43_row8_col1\" class=\"data row8 col1\" >['Apart from the last one and the penultimate one which seemed to apply in America more than here (here he had joined the golf club)...</td>\n",
              "      <td id=\"T_9dc43_row8_col2\" class=\"data row8 col2\" >['Apart from the last one and the penultimate one which seemed to apply in America more than here (here he had joined the golf club)...</td>\n",
              "      <td id=\"T_9dc43_row8_col3\" class=\"data row8 col3\" >Apart from the last one and the penultimate one which seemed to apply in America more than here (here he had joined the golf club)...</td>\n",
              "      <td id=\"T_9dc43_row8_col4\" class=\"data row8 col4\" >1</td>\n",
              "    </tr>\n",
              "    <tr>\n",
              "      <th id=\"T_9dc43_level0_row9\" class=\"row_heading level0 row9\" >9</th>\n",
              "      <td id=\"T_9dc43_row9_col0\" class=\"data row9 col0\" >paraphrase: Q: A ‘new Minister of Environmental Protection’ would operate inside the Department of Energy. option: A ‘new Minister of Environmental Protection’ would function inside...</td>\n",
              "      <td id=\"T_9dc43_row9_col1\" class=\"data row9 col1\" >['A ‘new Minister of Environmental Protection’ would work inside the Department of Energy.', 'A ‘new Minister of Environmental Protection’ would take effect inside the Department...</td>\n",
              "      <td id=\"T_9dc43_row9_col2\" class=\"data row9 col2\" >['A ‘new Minister of Environmental Protection’ would work inside the Department of Energy.']</td>\n",
              "      <td id=\"T_9dc43_row9_col3\" class=\"data row9 col3\" >A ‘new Minister of Environmental Protection’ would work inside the Department of Energy.</td>\n",
              "      <td id=\"T_9dc43_row9_col4\" class=\"data row9 col4\" >1</td>\n",
              "    </tr>\n",
              "    <tr>\n",
              "      <th id=\"T_9dc43_level0_row10\" class=\"row_heading level0 row10\" >10</th>\n",
              "      <td id=\"T_9dc43_row10_col0\" class=\"data row10 col0\" >paraphrase: Q: By the time we had drunk our third bottle of wine Ellen and I had long reached New Zealand and were already sailing...</td>\n",
              "      <td id=\"T_9dc43_row10_col1\" class=\"data row10 col1\" >['By the time we had drunk our third bottle of wine Ellen and I had long arrived in New Zealand and were already sailing north...</td>\n",
              "      <td id=\"T_9dc43_row10_col2\" class=\"data row10 col2\" >['By the time we had drunk our third bottle of wine Ellen and I had long arrived in New Zealand and were already sailing north...</td>\n",
              "      <td id=\"T_9dc43_row10_col3\" class=\"data row10 col3\" >By the time we had drunk our third bottle of wine Ellen and I had long arrived in New Zealand and were already sailing north...</td>\n",
              "      <td id=\"T_9dc43_row10_col4\" class=\"data row10 col4\" >1</td>\n",
              "    </tr>\n",
              "    <tr>\n",
              "      <th id=\"T_9dc43_level0_row11\" class=\"row_heading level0 row11\" >11</th>\n",
              "      <td id=\"T_9dc43_row11_col0\" class=\"data row11 col0\" >paraphrase: Q: He can't endure novelty or originalities. option: He can't carry novelty or originalities. option: He can't support novelty or originalities. option: He can't...</td>\n",
              "      <td id=\"T_9dc43_row11_col1\" class=\"data row11 col1\" >[\"He can't bear novelty or originalities.\", \"He can't produce novelty or originalities.\", \"He can't support novelty or originalities.\", \"He can't carry novelty or originalities.\"]</td>\n",
              "      <td id=\"T_9dc43_row11_col2\" class=\"data row11 col2\" >[\"He can't bear novelty or originalities.\"]</td>\n",
              "      <td id=\"T_9dc43_row11_col3\" class=\"data row11 col3\" >He can't bear novelty or originalities.</td>\n",
              "      <td id=\"T_9dc43_row11_col4\" class=\"data row11 col4\" >1</td>\n",
              "    </tr>\n",
              "    <tr>\n",
              "      <th id=\"T_9dc43_level0_row12\" class=\"row_heading level0 row12\" >12</th>\n",
              "      <td id=\"T_9dc43_row12_col0\" class=\"data row12 col0\" >paraphrase: Q: Adam did not understand the root of the crisis option: Adam did not understand what the consequences of the crisis were option: Adam...</td>\n",
              "      <td id=\"T_9dc43_row12_col1\" class=\"data row12 col1\" >['Adam did not understand what the causes of the crisis were', 'Adam did not understand what the consequences of the crisis were', 'Adam did not...</td>\n",
              "      <td id=\"T_9dc43_row12_col2\" class=\"data row12 col2\" >['Adam did not understand what the causes of the crisis were']</td>\n",
              "      <td id=\"T_9dc43_row12_col3\" class=\"data row12 col3\" >Adam did not understand what the causes of the crisis were.</td>\n",
              "      <td id=\"T_9dc43_row12_col4\" class=\"data row12 col4\" >1</td>\n",
              "    </tr>\n",
              "    <tr>\n",
              "      <th id=\"T_9dc43_level0_row13\" class=\"row_heading level0 row13\" >13</th>\n",
              "      <td id=\"T_9dc43_row13_col0\" class=\"data row13 col0\" >paraphrase: Q: A ‘new Minister of Environmental Protection’ would work inside the Department of Energy. option: A ‘new Minister of Environmental Protection’ would function inside...</td>\n",
              "      <td id=\"T_9dc43_row13_col1\" class=\"data row13 col1\" >['A ‘new Minister of Environmental Protection’ would operate inside the Department of Energy.', 'A ‘new Minister of Environmental Protection’ would take effect inside the Department...</td>\n",
              "      <td id=\"T_9dc43_row13_col2\" class=\"data row13 col2\" >['A ‘new Minister of Environmental Protection’ would operate inside the Department of Energy.']</td>\n",
              "      <td id=\"T_9dc43_row13_col3\" class=\"data row13 col3\" >A ‘new Minister of Environmental Protection’ would operate inside the Department of Energy.</td>\n",
              "      <td id=\"T_9dc43_row13_col4\" class=\"data row13 col4\" >1</td>\n",
              "    </tr>\n",
              "    <tr>\n",
              "      <th id=\"T_9dc43_level0_row14\" class=\"row_heading level0 row14\" >14</th>\n",
              "      <td id=\"T_9dc43_row14_col0\" class=\"data row14 col0\" >paraphrase: Q: All you can do with these songs is sing them, and Buddy didn't even succeed in managing that with any subtlety. option: All...</td>\n",
              "      <td id=\"T_9dc43_row14_col1\" class=\"data row14 col1\" >['All you can do with these songs is sing them, and Buddy fails even to manage that with any subtlety.', 'All you can do with...</td>\n",
              "      <td id=\"T_9dc43_row14_col2\" class=\"data row14 col2\" >['All you can do with these songs is sing them, and Buddy fails even to manage that with any subtlety.']</td>\n",
              "      <td id=\"T_9dc43_row14_col3\" class=\"data row14 col3\" >All you can do with these songs is sing them, and Buddy fails even to manage that with any subtlety.</td>\n",
              "      <td id=\"T_9dc43_row14_col4\" class=\"data row14 col4\" >1</td>\n",
              "    </tr>\n",
              "    <tr>\n",
              "      <th id=\"T_9dc43_level0_row15\" class=\"row_heading level0 row15\" >15</th>\n",
              "      <td id=\"T_9dc43_row15_col0\" class=\"data row15 col0\" >paraphrase: Q: a good enough reason to transform his mind option: a good enough reason to convert his mind option: a good enough reason to...</td>\n",
              "      <td id=\"T_9dc43_row15_col1\" class=\"data row15 col1\" >['a good enough reason to change his mind', 'a good enough reason to convert his mind', 'a good enough reason to replace his mind', 'a...</td>\n",
              "      <td id=\"T_9dc43_row15_col2\" class=\"data row15 col2\" >['a good enough reason to change his mind']</td>\n",
              "      <td id=\"T_9dc43_row15_col3\" class=\"data row15 col3\" >a good enough reason to change his mind</td>\n",
              "      <td id=\"T_9dc43_row15_col4\" class=\"data row15 col4\" >1</td>\n",
              "    </tr>\n",
              "    <tr>\n",
              "      <th id=\"T_9dc43_level0_row16\" class=\"row_heading level0 row16\" >16</th>\n",
              "      <td id=\"T_9dc43_row16_col0\" class=\"data row16 col0\" >paraphrase: Q: That they shared, along with all other participants in the crusade, a fervent devotion is certain. option: That they and all other participants...</td>\n",
              "      <td id=\"T_9dc43_row16_col1\" class=\"data row16 col1\" >['That they had in common, along with all other participants in the crusade, a fervent devotion is certain.', 'That a fervent devotion was divide between...</td>\n",
              "      <td id=\"T_9dc43_row16_col2\" class=\"data row16 col2\" >['That they had in common, along with all other participants in the crusade, a fervent devotion is certain.']</td>\n",
              "      <td id=\"T_9dc43_row16_col3\" class=\"data row16 col3\" >That they had in common, along with all other participants in the crusade, a fervent devotion is certain.</td>\n",
              "      <td id=\"T_9dc43_row16_col4\" class=\"data row16 col4\" >1</td>\n",
              "    </tr>\n",
              "    <tr>\n",
              "      <th id=\"T_9dc43_level0_row17\" class=\"row_heading level0 row17\" >17</th>\n",
              "      <td id=\"T_9dc43_row17_col0\" class=\"data row17 col0\" >paraphrase: Q: to let a new category become available option: to introduce a new category option: to present a new category to the audience option:...</td>\n",
              "      <td id=\"T_9dc43_row17_col1\" class=\"data row17 col1\" >['to introduce a new category', 'to present a new category to the audience', 'to initiate a new category', 'to let them meet a new category']</td>\n",
              "      <td id=\"T_9dc43_row17_col2\" class=\"data row17 col2\" >['to introduce a new category']</td>\n",
              "      <td id=\"T_9dc43_row17_col3\" class=\"data row17 col3\" >to introduce a new category</td>\n",
              "      <td id=\"T_9dc43_row17_col4\" class=\"data row17 col4\" >1</td>\n",
              "    </tr>\n",
              "    <tr>\n",
              "      <th id=\"T_9dc43_level0_row18\" class=\"row_heading level0 row18\" >18</th>\n",
              "      <td id=\"T_9dc43_row18_col0\" class=\"data row18 col0\" >paraphrase: Q: David's eyes were like daggers at Paul when Paul invited his new girlfriend to dance. option: David looked at Paul very calmly when...</td>\n",
              "      <td id=\"T_9dc43_row18_col1\" class=\"data row18 col1\" >['David looked at Paul very angrily when Paul invited his new girlfriend to dance.', \"David's eyes were shaped like the edge of a dagger when...</td>\n",
              "      <td id=\"T_9dc43_row18_col2\" class=\"data row18 col2\" >['David looked at Paul very angrily when Paul invited his new girlfriend to dance.']</td>\n",
              "      <td id=\"T_9dc43_row18_col3\" class=\"data row18 col3\" >David looked at Paul very angrily when Paul invited his new girlfriend to dance.</td>\n",
              "      <td id=\"T_9dc43_row18_col4\" class=\"data row18 col4\" >1</td>\n",
              "    </tr>\n",
              "    <tr>\n",
              "      <th id=\"T_9dc43_level0_row19\" class=\"row_heading level0 row19\" >19</th>\n",
              "      <td id=\"T_9dc43_row19_col0\" class=\"data row19 col0\" >paraphrase: Q: He was aware that he was not managing to sound exactly like a senior officer. option: He was aware that he was not...</td>\n",
              "      <td id=\"T_9dc43_row19_col1\" class=\"data row19 col1\" >['He was aware that he was not succeeding in his effort to sound exactly like a senior officer.', 'He was aware that he was not...</td>\n",
              "      <td id=\"T_9dc43_row19_col2\" class=\"data row19 col2\" >['He was aware that he was not succeeding in his effort to sound exactly like a senior officer.']</td>\n",
              "      <td id=\"T_9dc43_row19_col3\" class=\"data row19 col3\" >He was aware that he was not succeeding in his effort to sound exactly like a senior officer.</td>\n",
              "      <td id=\"T_9dc43_row19_col4\" class=\"data row19 col4\" >1</td>\n",
              "    </tr>\n",
              "  </tbody>\n",
              "</table>\n"
            ],
            "text/plain": [
              "<pandas.io.formats.style.Styler object at 0x7ec8e411c7c0>"
            ]
          },
          "metadata": {},
          "output_type": "display_data"
        },
        {
          "data": {
            "text/html": [
              "\n",
              "                <div style='\n",
              "                    text-align: center;\n",
              "                    font-size: 16px;\n",
              "                    font-weight: bold;\n",
              "                    color: #555;\n",
              "                    margin: 10px 0;'>\n",
              "                    ... 180 more rows not displayed ...\n",
              "                </div>\n",
              "                "
            ],
            "text/plain": [
              "<IPython.core.display.HTML object>"
            ]
          },
          "metadata": {},
          "output_type": "display_data"
        }
      ],
      "source": [
        "from dspy.evaluate import Evaluate\n",
        "\n",
        "# Set up the evaluator, which can be re-used in your code.\n",
        "evaluator = Evaluate(devset=valset, num_threads=2, display_progress=True, display_table=20,return_outputs=True)\n",
        "\n",
        "# Launch evaluation.\n",
        "evaluation_score, outputs = evaluator(optimized_cot, metric=wsd_metric)"
      ]
    },
    {
      "cell_type": "code",
      "execution_count": 351,
      "metadata": {
        "colab": {
          "base_uri": "https://localhost:8080/"
        },
        "id": "UO-HcLAy4FFR",
        "outputId": "d33fb7a8-a61b-4f05-934c-d3c4bd483f23"
      },
      "outputs": [
        {
          "data": {
            "text/plain": [
              "85.0"
            ]
          },
          "execution_count": 351,
          "metadata": {},
          "output_type": "execute_result"
        }
      ],
      "source": [
        "evaluation_score"
      ]
    },
    {
      "cell_type": "code",
      "execution_count": 352,
      "metadata": {
        "id": "SVYESECCVm-x"
      },
      "outputs": [],
      "source": [
        "outputs = pd.DataFrame(outputs)"
      ]
    },
    {
      "cell_type": "code",
      "execution_count": 353,
      "metadata": {
        "id": "fvt4dbmehps_"
      },
      "outputs": [],
      "source": [
        "outputs.columns = ['problem','response','result']"
      ]
    },
    {
      "cell_type": "code",
      "execution_count": 354,
      "metadata": {
        "colab": {
          "base_uri": "https://localhost:8080/"
        },
        "id": "PDXfPXcFzclC",
        "outputId": "8ab219c4-a063-43d8-a130-029332267873"
      },
      "outputs": [
        {
          "data": {
            "text/plain": [
              "Example({'question': 'paraphrase: \\nQ: He is very important to me. option: He is the berry of my eye. option: He is the persimmon of my eye. option: He is the apple of my eye. option: He is the pear of my eye.\\nA:', 'options': ['He is the apple of my eye.', 'He is the pear of my eye.', 'He is the berry of my eye.', 'He is the persimmon of my eye.'], 'answer': ['He is the apple of my eye.']}) (input_keys={'question', 'options'})"
            ]
          },
          "execution_count": 354,
          "metadata": {},
          "output_type": "execute_result"
        }
      ],
      "source": [
        "outputs.iloc[95,0]"
      ]
    },
    {
      "cell_type": "code",
      "execution_count": 355,
      "metadata": {
        "id": "kEjaqXrMhEmE"
      },
      "outputs": [],
      "source": [
        "outputs.to_json('metaphor_understanding_GPT_4o_3_shot_results.json',orient='records')"
      ]
    },
    {
      "cell_type": "code",
      "execution_count": null,
      "metadata": {
        "id": "eCkI3DYJ8WhL"
      },
      "outputs": [],
      "source": []
    }
  ],
  "metadata": {
    "colab": {
      "provenance": []
    },
    "kernelspec": {
      "display_name": "Python 3",
      "name": "python3"
    },
    "language_info": {
      "name": "python"
    },
    "widgets": {
      "application/vnd.jupyter.widget-state+json": {
        "08742ffa72854d008393fc3da5928a1d": {
          "model_module": "@jupyter-widgets/base",
          "model_module_version": "1.2.0",
          "model_name": "LayoutModel",
          "state": {
            "_model_module": "@jupyter-widgets/base",
            "_model_module_version": "1.2.0",
            "_model_name": "LayoutModel",
            "_view_count": null,
            "_view_module": "@jupyter-widgets/base",
            "_view_module_version": "1.2.0",
            "_view_name": "LayoutView",
            "align_content": null,
            "align_items": null,
            "align_self": null,
            "border": null,
            "bottom": null,
            "display": null,
            "flex": null,
            "flex_flow": null,
            "grid_area": null,
            "grid_auto_columns": null,
            "grid_auto_flow": null,
            "grid_auto_rows": null,
            "grid_column": null,
            "grid_gap": null,
            "grid_row": null,
            "grid_template_areas": null,
            "grid_template_columns": null,
            "grid_template_rows": null,
            "height": null,
            "justify_content": null,
            "justify_items": null,
            "left": null,
            "margin": null,
            "max_height": null,
            "max_width": null,
            "min_height": null,
            "min_width": null,
            "object_fit": null,
            "object_position": null,
            "order": null,
            "overflow": null,
            "overflow_x": null,
            "overflow_y": null,
            "padding": null,
            "right": null,
            "top": null,
            "visibility": null,
            "width": null
          }
        },
        "0ef31aa2555a42bbad8fc4bb2b29f3aa": {
          "model_module": "@jupyter-widgets/base",
          "model_module_version": "1.2.0",
          "model_name": "LayoutModel",
          "state": {
            "_model_module": "@jupyter-widgets/base",
            "_model_module_version": "1.2.0",
            "_model_name": "LayoutModel",
            "_view_count": null,
            "_view_module": "@jupyter-widgets/base",
            "_view_module_version": "1.2.0",
            "_view_name": "LayoutView",
            "align_content": null,
            "align_items": null,
            "align_self": null,
            "border": null,
            "bottom": null,
            "display": null,
            "flex": null,
            "flex_flow": null,
            "grid_area": null,
            "grid_auto_columns": null,
            "grid_auto_flow": null,
            "grid_auto_rows": null,
            "grid_column": null,
            "grid_gap": null,
            "grid_row": null,
            "grid_template_areas": null,
            "grid_template_columns": null,
            "grid_template_rows": null,
            "height": null,
            "justify_content": null,
            "justify_items": null,
            "left": null,
            "margin": null,
            "max_height": null,
            "max_width": null,
            "min_height": null,
            "min_width": null,
            "object_fit": null,
            "object_position": null,
            "order": null,
            "overflow": null,
            "overflow_x": null,
            "overflow_y": null,
            "padding": null,
            "right": null,
            "top": null,
            "visibility": null,
            "width": null
          }
        },
        "0f5cfa287ea740e88362c76854c54d84": {
          "model_module": "@jupyter-widgets/controls",
          "model_module_version": "1.5.0",
          "model_name": "ProgressStyleModel",
          "state": {
            "_model_module": "@jupyter-widgets/controls",
            "_model_module_version": "1.5.0",
            "_model_name": "ProgressStyleModel",
            "_view_count": null,
            "_view_module": "@jupyter-widgets/base",
            "_view_module_version": "1.2.0",
            "_view_name": "StyleView",
            "bar_color": null,
            "description_width": ""
          }
        },
        "13a3c316cc224ab682ff37cd52bba07e": {
          "model_module": "@jupyter-widgets/controls",
          "model_module_version": "1.5.0",
          "model_name": "DescriptionStyleModel",
          "state": {
            "_model_module": "@jupyter-widgets/controls",
            "_model_module_version": "1.5.0",
            "_model_name": "DescriptionStyleModel",
            "_view_count": null,
            "_view_module": "@jupyter-widgets/base",
            "_view_module_version": "1.2.0",
            "_view_name": "StyleView",
            "description_width": ""
          }
        },
        "244c5b28a22f429884443c50fe9a1669": {
          "model_module": "@jupyter-widgets/base",
          "model_module_version": "1.2.0",
          "model_name": "LayoutModel",
          "state": {
            "_model_module": "@jupyter-widgets/base",
            "_model_module_version": "1.2.0",
            "_model_name": "LayoutModel",
            "_view_count": null,
            "_view_module": "@jupyter-widgets/base",
            "_view_module_version": "1.2.0",
            "_view_name": "LayoutView",
            "align_content": null,
            "align_items": null,
            "align_self": null,
            "border": null,
            "bottom": null,
            "display": null,
            "flex": null,
            "flex_flow": null,
            "grid_area": null,
            "grid_auto_columns": null,
            "grid_auto_flow": null,
            "grid_auto_rows": null,
            "grid_column": null,
            "grid_gap": null,
            "grid_row": null,
            "grid_template_areas": null,
            "grid_template_columns": null,
            "grid_template_rows": null,
            "height": null,
            "justify_content": null,
            "justify_items": null,
            "left": null,
            "margin": null,
            "max_height": null,
            "max_width": null,
            "min_height": null,
            "min_width": null,
            "object_fit": null,
            "object_position": null,
            "order": null,
            "overflow": null,
            "overflow_x": null,
            "overflow_y": null,
            "padding": null,
            "right": null,
            "top": null,
            "visibility": null,
            "width": null
          }
        },
        "33901953c3514d9592494b76ee9a0146": {
          "model_module": "@jupyter-widgets/controls",
          "model_module_version": "1.5.0",
          "model_name": "FloatProgressModel",
          "state": {
            "_dom_classes": [],
            "_model_module": "@jupyter-widgets/controls",
            "_model_module_version": "1.5.0",
            "_model_name": "FloatProgressModel",
            "_view_count": null,
            "_view_module": "@jupyter-widgets/controls",
            "_view_module_version": "1.5.0",
            "_view_name": "ProgressView",
            "bar_style": "success",
            "description": "",
            "description_tooltip": null,
            "layout": "IPY_MODEL_c0ea59130aec460d91108ab9508ba72e",
            "max": 188,
            "min": 0,
            "orientation": "horizontal",
            "style": "IPY_MODEL_b505857bf4d24b45a96f142b5dea7294",
            "value": 188
          }
        },
        "3a7b507b898e4cffbcffcb3edbfd5e52": {
          "model_module": "@jupyter-widgets/controls",
          "model_module_version": "1.5.0",
          "model_name": "DescriptionStyleModel",
          "state": {
            "_model_module": "@jupyter-widgets/controls",
            "_model_module_version": "1.5.0",
            "_model_name": "DescriptionStyleModel",
            "_view_count": null,
            "_view_module": "@jupyter-widgets/base",
            "_view_module_version": "1.2.0",
            "_view_name": "StyleView",
            "description_width": ""
          }
        },
        "3f4fe2148c26426da9cd74c95fca4e6f": {
          "model_module": "@jupyter-widgets/base",
          "model_module_version": "1.2.0",
          "model_name": "LayoutModel",
          "state": {
            "_model_module": "@jupyter-widgets/base",
            "_model_module_version": "1.2.0",
            "_model_name": "LayoutModel",
            "_view_count": null,
            "_view_module": "@jupyter-widgets/base",
            "_view_module_version": "1.2.0",
            "_view_name": "LayoutView",
            "align_content": null,
            "align_items": null,
            "align_self": null,
            "border": null,
            "bottom": null,
            "display": null,
            "flex": null,
            "flex_flow": null,
            "grid_area": null,
            "grid_auto_columns": null,
            "grid_auto_flow": null,
            "grid_auto_rows": null,
            "grid_column": null,
            "grid_gap": null,
            "grid_row": null,
            "grid_template_areas": null,
            "grid_template_columns": null,
            "grid_template_rows": null,
            "height": null,
            "justify_content": null,
            "justify_items": null,
            "left": null,
            "margin": null,
            "max_height": null,
            "max_width": null,
            "min_height": null,
            "min_width": null,
            "object_fit": null,
            "object_position": null,
            "order": null,
            "overflow": null,
            "overflow_x": null,
            "overflow_y": null,
            "padding": null,
            "right": null,
            "top": null,
            "visibility": null,
            "width": null
          }
        },
        "56c93b19b90f4f088ed3068c3d63ba6c": {
          "model_module": "@jupyter-widgets/base",
          "model_module_version": "1.2.0",
          "model_name": "LayoutModel",
          "state": {
            "_model_module": "@jupyter-widgets/base",
            "_model_module_version": "1.2.0",
            "_model_name": "LayoutModel",
            "_view_count": null,
            "_view_module": "@jupyter-widgets/base",
            "_view_module_version": "1.2.0",
            "_view_name": "LayoutView",
            "align_content": null,
            "align_items": null,
            "align_self": null,
            "border": null,
            "bottom": null,
            "display": null,
            "flex": null,
            "flex_flow": null,
            "grid_area": null,
            "grid_auto_columns": null,
            "grid_auto_flow": null,
            "grid_auto_rows": null,
            "grid_column": null,
            "grid_gap": null,
            "grid_row": null,
            "grid_template_areas": null,
            "grid_template_columns": null,
            "grid_template_rows": null,
            "height": null,
            "justify_content": null,
            "justify_items": null,
            "left": null,
            "margin": null,
            "max_height": null,
            "max_width": null,
            "min_height": null,
            "min_width": null,
            "object_fit": null,
            "object_position": null,
            "order": null,
            "overflow": null,
            "overflow_x": null,
            "overflow_y": null,
            "padding": null,
            "right": null,
            "top": null,
            "visibility": null,
            "width": null
          }
        },
        "58b39c648b7649a4bdd261a5b1c346bc": {
          "model_module": "@jupyter-widgets/controls",
          "model_module_version": "1.5.0",
          "model_name": "HTMLModel",
          "state": {
            "_dom_classes": [],
            "_model_module": "@jupyter-widgets/controls",
            "_model_module_version": "1.5.0",
            "_model_name": "HTMLModel",
            "_view_count": null,
            "_view_module": "@jupyter-widgets/controls",
            "_view_module_version": "1.5.0",
            "_view_name": "HTMLView",
            "description": "",
            "description_tooltip": null,
            "layout": "IPY_MODEL_f097381948db408fbd5e8acd625727ea",
            "placeholder": "​",
            "style": "IPY_MODEL_f952bd509e76421bbd3fba6671fb0c79",
            "value": "Generating default split: 100%"
          }
        },
        "7664843d698b43edb881bb3673f63474": {
          "model_module": "@jupyter-widgets/controls",
          "model_module_version": "1.5.0",
          "model_name": "DescriptionStyleModel",
          "state": {
            "_model_module": "@jupyter-widgets/controls",
            "_model_module_version": "1.5.0",
            "_model_name": "DescriptionStyleModel",
            "_view_count": null,
            "_view_module": "@jupyter-widgets/base",
            "_view_module_version": "1.2.0",
            "_view_name": "StyleView",
            "description_width": ""
          }
        },
        "78dcdc8701a5488d84fcb7c1218e2b23": {
          "model_module": "@jupyter-widgets/controls",
          "model_module_version": "1.5.0",
          "model_name": "ProgressStyleModel",
          "state": {
            "_model_module": "@jupyter-widgets/controls",
            "_model_module_version": "1.5.0",
            "_model_name": "ProgressStyleModel",
            "_view_count": null,
            "_view_module": "@jupyter-widgets/base",
            "_view_module_version": "1.2.0",
            "_view_name": "StyleView",
            "bar_color": null,
            "description_width": ""
          }
        },
        "7d1e746e8402476c9c986a435fa60ef9": {
          "model_module": "@jupyter-widgets/base",
          "model_module_version": "1.2.0",
          "model_name": "LayoutModel",
          "state": {
            "_model_module": "@jupyter-widgets/base",
            "_model_module_version": "1.2.0",
            "_model_name": "LayoutModel",
            "_view_count": null,
            "_view_module": "@jupyter-widgets/base",
            "_view_module_version": "1.2.0",
            "_view_name": "LayoutView",
            "align_content": null,
            "align_items": null,
            "align_self": null,
            "border": null,
            "bottom": null,
            "display": null,
            "flex": null,
            "flex_flow": null,
            "grid_area": null,
            "grid_auto_columns": null,
            "grid_auto_flow": null,
            "grid_auto_rows": null,
            "grid_column": null,
            "grid_gap": null,
            "grid_row": null,
            "grid_template_areas": null,
            "grid_template_columns": null,
            "grid_template_rows": null,
            "height": null,
            "justify_content": null,
            "justify_items": null,
            "left": null,
            "margin": null,
            "max_height": null,
            "max_width": null,
            "min_height": null,
            "min_width": null,
            "object_fit": null,
            "object_position": null,
            "order": null,
            "overflow": null,
            "overflow_x": null,
            "overflow_y": null,
            "padding": null,
            "right": null,
            "top": null,
            "visibility": null,
            "width": null
          }
        },
        "897ccb9b554549739321915f8255eadc": {
          "model_module": "@jupyter-widgets/controls",
          "model_module_version": "1.5.0",
          "model_name": "HTMLModel",
          "state": {
            "_dom_classes": [],
            "_model_module": "@jupyter-widgets/controls",
            "_model_module_version": "1.5.0",
            "_model_name": "HTMLModel",
            "_view_count": null,
            "_view_module": "@jupyter-widgets/controls",
            "_view_module_version": "1.5.0",
            "_view_name": "HTMLView",
            "description": "",
            "description_tooltip": null,
            "layout": "IPY_MODEL_fb534cebc7a646d498442134150b2b46",
            "placeholder": "​",
            "style": "IPY_MODEL_13a3c316cc224ab682ff37cd52bba07e",
            "value": " 188/188 [00:00&lt;00:00, 524.02 examples/s]"
          }
        },
        "8d49409967fd4e63a55fbd462a256802": {
          "model_module": "@jupyter-widgets/base",
          "model_module_version": "1.2.0",
          "model_name": "LayoutModel",
          "state": {
            "_model_module": "@jupyter-widgets/base",
            "_model_module_version": "1.2.0",
            "_model_name": "LayoutModel",
            "_view_count": null,
            "_view_module": "@jupyter-widgets/base",
            "_view_module_version": "1.2.0",
            "_view_name": "LayoutView",
            "align_content": null,
            "align_items": null,
            "align_self": null,
            "border": null,
            "bottom": null,
            "display": null,
            "flex": null,
            "flex_flow": null,
            "grid_area": null,
            "grid_auto_columns": null,
            "grid_auto_flow": null,
            "grid_auto_rows": null,
            "grid_column": null,
            "grid_gap": null,
            "grid_row": null,
            "grid_template_areas": null,
            "grid_template_columns": null,
            "grid_template_rows": null,
            "height": null,
            "justify_content": null,
            "justify_items": null,
            "left": null,
            "margin": null,
            "max_height": null,
            "max_width": null,
            "min_height": null,
            "min_width": null,
            "object_fit": null,
            "object_position": null,
            "order": null,
            "overflow": null,
            "overflow_x": null,
            "overflow_y": null,
            "padding": null,
            "right": null,
            "top": null,
            "visibility": null,
            "width": null
          }
        },
        "977ba7488127424b838e97f84d6cff81": {
          "model_module": "@jupyter-widgets/controls",
          "model_module_version": "1.5.0",
          "model_name": "HTMLModel",
          "state": {
            "_dom_classes": [],
            "_model_module": "@jupyter-widgets/controls",
            "_model_module_version": "1.5.0",
            "_model_name": "HTMLModel",
            "_view_count": null,
            "_view_module": "@jupyter-widgets/controls",
            "_view_module_version": "1.5.0",
            "_view_name": "HTMLView",
            "description": "",
            "description_tooltip": null,
            "layout": "IPY_MODEL_3f4fe2148c26426da9cd74c95fca4e6f",
            "placeholder": "​",
            "style": "IPY_MODEL_7664843d698b43edb881bb3673f63474",
            "value": "Generating validation split: 100%"
          }
        },
        "b20dbf48d21749359dfdcd57c4c7c340": {
          "model_module": "@jupyter-widgets/controls",
          "model_module_version": "1.5.0",
          "model_name": "HBoxModel",
          "state": {
            "_dom_classes": [],
            "_model_module": "@jupyter-widgets/controls",
            "_model_module_version": "1.5.0",
            "_model_name": "HBoxModel",
            "_view_count": null,
            "_view_module": "@jupyter-widgets/controls",
            "_view_module_version": "1.5.0",
            "_view_name": "HBoxView",
            "box_style": "",
            "children": [
              "IPY_MODEL_d11af5e6dbcc4080bcb1c75de93e1198",
              "IPY_MODEL_33901953c3514d9592494b76ee9a0146",
              "IPY_MODEL_897ccb9b554549739321915f8255eadc"
            ],
            "layout": "IPY_MODEL_8d49409967fd4e63a55fbd462a256802"
          }
        },
        "b505857bf4d24b45a96f142b5dea7294": {
          "model_module": "@jupyter-widgets/controls",
          "model_module_version": "1.5.0",
          "model_name": "ProgressStyleModel",
          "state": {
            "_model_module": "@jupyter-widgets/controls",
            "_model_module_version": "1.5.0",
            "_model_name": "ProgressStyleModel",
            "_view_count": null,
            "_view_module": "@jupyter-widgets/base",
            "_view_module_version": "1.2.0",
            "_view_name": "StyleView",
            "bar_color": null,
            "description_width": ""
          }
        },
        "b772a1be95424431a7cf0c9e9f2e27c0": {
          "model_module": "@jupyter-widgets/controls",
          "model_module_version": "1.5.0",
          "model_name": "HTMLModel",
          "state": {
            "_dom_classes": [],
            "_model_module": "@jupyter-widgets/controls",
            "_model_module_version": "1.5.0",
            "_model_name": "HTMLModel",
            "_view_count": null,
            "_view_module": "@jupyter-widgets/controls",
            "_view_module_version": "1.5.0",
            "_view_name": "HTMLView",
            "description": "",
            "description_tooltip": null,
            "layout": "IPY_MODEL_f84f8818b6314f11ae311224f1021f68",
            "placeholder": "​",
            "style": "IPY_MODEL_3a7b507b898e4cffbcffcb3edbfd5e52",
            "value": " 46/46 [00:00&lt;00:00,  7.93 examples/s]"
          }
        },
        "b7b9d08a50b445ac8eae1942108f83bd": {
          "model_module": "@jupyter-widgets/base",
          "model_module_version": "1.2.0",
          "model_name": "LayoutModel",
          "state": {
            "_model_module": "@jupyter-widgets/base",
            "_model_module_version": "1.2.0",
            "_model_name": "LayoutModel",
            "_view_count": null,
            "_view_module": "@jupyter-widgets/base",
            "_view_module_version": "1.2.0",
            "_view_name": "LayoutView",
            "align_content": null,
            "align_items": null,
            "align_self": null,
            "border": null,
            "bottom": null,
            "display": null,
            "flex": null,
            "flex_flow": null,
            "grid_area": null,
            "grid_auto_columns": null,
            "grid_auto_flow": null,
            "grid_auto_rows": null,
            "grid_column": null,
            "grid_gap": null,
            "grid_row": null,
            "grid_template_areas": null,
            "grid_template_columns": null,
            "grid_template_rows": null,
            "height": null,
            "justify_content": null,
            "justify_items": null,
            "left": null,
            "margin": null,
            "max_height": null,
            "max_width": null,
            "min_height": null,
            "min_width": null,
            "object_fit": null,
            "object_position": null,
            "order": null,
            "overflow": null,
            "overflow_x": null,
            "overflow_y": null,
            "padding": null,
            "right": null,
            "top": null,
            "visibility": null,
            "width": null
          }
        },
        "bbe2516138ab4ebf97c8675bb3502fbd": {
          "model_module": "@jupyter-widgets/controls",
          "model_module_version": "1.5.0",
          "model_name": "HBoxModel",
          "state": {
            "_dom_classes": [],
            "_model_module": "@jupyter-widgets/controls",
            "_model_module_version": "1.5.0",
            "_model_name": "HBoxModel",
            "_view_count": null,
            "_view_module": "@jupyter-widgets/controls",
            "_view_module_version": "1.5.0",
            "_view_name": "HBoxView",
            "box_style": "",
            "children": [
              "IPY_MODEL_977ba7488127424b838e97f84d6cff81",
              "IPY_MODEL_e15a9b1995134233bbae9b07fb85a4a7",
              "IPY_MODEL_b772a1be95424431a7cf0c9e9f2e27c0"
            ],
            "layout": "IPY_MODEL_244c5b28a22f429884443c50fe9a1669"
          }
        },
        "be7e4263bdcf496bb571b821f1ca6327": {
          "model_module": "@jupyter-widgets/controls",
          "model_module_version": "1.5.0",
          "model_name": "FloatProgressModel",
          "state": {
            "_dom_classes": [],
            "_model_module": "@jupyter-widgets/controls",
            "_model_module_version": "1.5.0",
            "_model_name": "FloatProgressModel",
            "_view_count": null,
            "_view_module": "@jupyter-widgets/controls",
            "_view_module_version": "1.5.0",
            "_view_name": "ProgressView",
            "bar_style": "success",
            "description": "",
            "description_tooltip": null,
            "layout": "IPY_MODEL_56c93b19b90f4f088ed3068c3d63ba6c",
            "max": 234,
            "min": 0,
            "orientation": "horizontal",
            "style": "IPY_MODEL_78dcdc8701a5488d84fcb7c1218e2b23",
            "value": 234
          }
        },
        "c0ea59130aec460d91108ab9508ba72e": {
          "model_module": "@jupyter-widgets/base",
          "model_module_version": "1.2.0",
          "model_name": "LayoutModel",
          "state": {
            "_model_module": "@jupyter-widgets/base",
            "_model_module_version": "1.2.0",
            "_model_name": "LayoutModel",
            "_view_count": null,
            "_view_module": "@jupyter-widgets/base",
            "_view_module_version": "1.2.0",
            "_view_name": "LayoutView",
            "align_content": null,
            "align_items": null,
            "align_self": null,
            "border": null,
            "bottom": null,
            "display": null,
            "flex": null,
            "flex_flow": null,
            "grid_area": null,
            "grid_auto_columns": null,
            "grid_auto_flow": null,
            "grid_auto_rows": null,
            "grid_column": null,
            "grid_gap": null,
            "grid_row": null,
            "grid_template_areas": null,
            "grid_template_columns": null,
            "grid_template_rows": null,
            "height": null,
            "justify_content": null,
            "justify_items": null,
            "left": null,
            "margin": null,
            "max_height": null,
            "max_width": null,
            "min_height": null,
            "min_width": null,
            "object_fit": null,
            "object_position": null,
            "order": null,
            "overflow": null,
            "overflow_x": null,
            "overflow_y": null,
            "padding": null,
            "right": null,
            "top": null,
            "visibility": null,
            "width": null
          }
        },
        "c526c83983a54a8380272f6d05f4b045": {
          "model_module": "@jupyter-widgets/controls",
          "model_module_version": "1.5.0",
          "model_name": "DescriptionStyleModel",
          "state": {
            "_model_module": "@jupyter-widgets/controls",
            "_model_module_version": "1.5.0",
            "_model_name": "DescriptionStyleModel",
            "_view_count": null,
            "_view_module": "@jupyter-widgets/base",
            "_view_module_version": "1.2.0",
            "_view_name": "StyleView",
            "description_width": ""
          }
        },
        "d11af5e6dbcc4080bcb1c75de93e1198": {
          "model_module": "@jupyter-widgets/controls",
          "model_module_version": "1.5.0",
          "model_name": "HTMLModel",
          "state": {
            "_dom_classes": [],
            "_model_module": "@jupyter-widgets/controls",
            "_model_module_version": "1.5.0",
            "_model_name": "HTMLModel",
            "_view_count": null,
            "_view_module": "@jupyter-widgets/controls",
            "_view_module_version": "1.5.0",
            "_view_name": "HTMLView",
            "description": "",
            "description_tooltip": null,
            "layout": "IPY_MODEL_b7b9d08a50b445ac8eae1942108f83bd",
            "placeholder": "​",
            "style": "IPY_MODEL_dbef3548e2544ca4962b0f73791092df",
            "value": "Generating train split: 100%"
          }
        },
        "dbef3548e2544ca4962b0f73791092df": {
          "model_module": "@jupyter-widgets/controls",
          "model_module_version": "1.5.0",
          "model_name": "DescriptionStyleModel",
          "state": {
            "_model_module": "@jupyter-widgets/controls",
            "_model_module_version": "1.5.0",
            "_model_name": "DescriptionStyleModel",
            "_view_count": null,
            "_view_module": "@jupyter-widgets/base",
            "_view_module_version": "1.2.0",
            "_view_name": "StyleView",
            "description_width": ""
          }
        },
        "e15a9b1995134233bbae9b07fb85a4a7": {
          "model_module": "@jupyter-widgets/controls",
          "model_module_version": "1.5.0",
          "model_name": "FloatProgressModel",
          "state": {
            "_dom_classes": [],
            "_model_module": "@jupyter-widgets/controls",
            "_model_module_version": "1.5.0",
            "_model_name": "FloatProgressModel",
            "_view_count": null,
            "_view_module": "@jupyter-widgets/controls",
            "_view_module_version": "1.5.0",
            "_view_name": "ProgressView",
            "bar_style": "success",
            "description": "",
            "description_tooltip": null,
            "layout": "IPY_MODEL_7d1e746e8402476c9c986a435fa60ef9",
            "max": 46,
            "min": 0,
            "orientation": "horizontal",
            "style": "IPY_MODEL_0f5cfa287ea740e88362c76854c54d84",
            "value": 46
          }
        },
        "e73dab6bc81a48c4ab2d5f5559f00476": {
          "model_module": "@jupyter-widgets/controls",
          "model_module_version": "1.5.0",
          "model_name": "HTMLModel",
          "state": {
            "_dom_classes": [],
            "_model_module": "@jupyter-widgets/controls",
            "_model_module_version": "1.5.0",
            "_model_name": "HTMLModel",
            "_view_count": null,
            "_view_module": "@jupyter-widgets/controls",
            "_view_module_version": "1.5.0",
            "_view_name": "HTMLView",
            "description": "",
            "description_tooltip": null,
            "layout": "IPY_MODEL_0ef31aa2555a42bbad8fc4bb2b29f3aa",
            "placeholder": "​",
            "style": "IPY_MODEL_c526c83983a54a8380272f6d05f4b045",
            "value": " 234/234 [00:00&lt;00:00, 474.70 examples/s]"
          }
        },
        "f097381948db408fbd5e8acd625727ea": {
          "model_module": "@jupyter-widgets/base",
          "model_module_version": "1.2.0",
          "model_name": "LayoutModel",
          "state": {
            "_model_module": "@jupyter-widgets/base",
            "_model_module_version": "1.2.0",
            "_model_name": "LayoutModel",
            "_view_count": null,
            "_view_module": "@jupyter-widgets/base",
            "_view_module_version": "1.2.0",
            "_view_name": "LayoutView",
            "align_content": null,
            "align_items": null,
            "align_self": null,
            "border": null,
            "bottom": null,
            "display": null,
            "flex": null,
            "flex_flow": null,
            "grid_area": null,
            "grid_auto_columns": null,
            "grid_auto_flow": null,
            "grid_auto_rows": null,
            "grid_column": null,
            "grid_gap": null,
            "grid_row": null,
            "grid_template_areas": null,
            "grid_template_columns": null,
            "grid_template_rows": null,
            "height": null,
            "justify_content": null,
            "justify_items": null,
            "left": null,
            "margin": null,
            "max_height": null,
            "max_width": null,
            "min_height": null,
            "min_width": null,
            "object_fit": null,
            "object_position": null,
            "order": null,
            "overflow": null,
            "overflow_x": null,
            "overflow_y": null,
            "padding": null,
            "right": null,
            "top": null,
            "visibility": null,
            "width": null
          }
        },
        "f84f8818b6314f11ae311224f1021f68": {
          "model_module": "@jupyter-widgets/base",
          "model_module_version": "1.2.0",
          "model_name": "LayoutModel",
          "state": {
            "_model_module": "@jupyter-widgets/base",
            "_model_module_version": "1.2.0",
            "_model_name": "LayoutModel",
            "_view_count": null,
            "_view_module": "@jupyter-widgets/base",
            "_view_module_version": "1.2.0",
            "_view_name": "LayoutView",
            "align_content": null,
            "align_items": null,
            "align_self": null,
            "border": null,
            "bottom": null,
            "display": null,
            "flex": null,
            "flex_flow": null,
            "grid_area": null,
            "grid_auto_columns": null,
            "grid_auto_flow": null,
            "grid_auto_rows": null,
            "grid_column": null,
            "grid_gap": null,
            "grid_row": null,
            "grid_template_areas": null,
            "grid_template_columns": null,
            "grid_template_rows": null,
            "height": null,
            "justify_content": null,
            "justify_items": null,
            "left": null,
            "margin": null,
            "max_height": null,
            "max_width": null,
            "min_height": null,
            "min_width": null,
            "object_fit": null,
            "object_position": null,
            "order": null,
            "overflow": null,
            "overflow_x": null,
            "overflow_y": null,
            "padding": null,
            "right": null,
            "top": null,
            "visibility": null,
            "width": null
          }
        },
        "f952bd509e76421bbd3fba6671fb0c79": {
          "model_module": "@jupyter-widgets/controls",
          "model_module_version": "1.5.0",
          "model_name": "DescriptionStyleModel",
          "state": {
            "_model_module": "@jupyter-widgets/controls",
            "_model_module_version": "1.5.0",
            "_model_name": "DescriptionStyleModel",
            "_view_count": null,
            "_view_module": "@jupyter-widgets/base",
            "_view_module_version": "1.2.0",
            "_view_name": "StyleView",
            "description_width": ""
          }
        },
        "fa277167669b4f92bc4b6d4cb9d8039b": {
          "model_module": "@jupyter-widgets/controls",
          "model_module_version": "1.5.0",
          "model_name": "HBoxModel",
          "state": {
            "_dom_classes": [],
            "_model_module": "@jupyter-widgets/controls",
            "_model_module_version": "1.5.0",
            "_model_name": "HBoxModel",
            "_view_count": null,
            "_view_module": "@jupyter-widgets/controls",
            "_view_module_version": "1.5.0",
            "_view_name": "HBoxView",
            "box_style": "",
            "children": [
              "IPY_MODEL_58b39c648b7649a4bdd261a5b1c346bc",
              "IPY_MODEL_be7e4263bdcf496bb571b821f1ca6327",
              "IPY_MODEL_e73dab6bc81a48c4ab2d5f5559f00476"
            ],
            "layout": "IPY_MODEL_08742ffa72854d008393fc3da5928a1d"
          }
        },
        "fb534cebc7a646d498442134150b2b46": {
          "model_module": "@jupyter-widgets/base",
          "model_module_version": "1.2.0",
          "model_name": "LayoutModel",
          "state": {
            "_model_module": "@jupyter-widgets/base",
            "_model_module_version": "1.2.0",
            "_model_name": "LayoutModel",
            "_view_count": null,
            "_view_module": "@jupyter-widgets/base",
            "_view_module_version": "1.2.0",
            "_view_name": "LayoutView",
            "align_content": null,
            "align_items": null,
            "align_self": null,
            "border": null,
            "bottom": null,
            "display": null,
            "flex": null,
            "flex_flow": null,
            "grid_area": null,
            "grid_auto_columns": null,
            "grid_auto_flow": null,
            "grid_auto_rows": null,
            "grid_column": null,
            "grid_gap": null,
            "grid_row": null,
            "grid_template_areas": null,
            "grid_template_columns": null,
            "grid_template_rows": null,
            "height": null,
            "justify_content": null,
            "justify_items": null,
            "left": null,
            "margin": null,
            "max_height": null,
            "max_width": null,
            "min_height": null,
            "min_width": null,
            "object_fit": null,
            "object_position": null,
            "order": null,
            "overflow": null,
            "overflow_x": null,
            "overflow_y": null,
            "padding": null,
            "right": null,
            "top": null,
            "visibility": null,
            "width": null
          }
        }
      }
    }
  },
  "nbformat": 4,
  "nbformat_minor": 0
}
