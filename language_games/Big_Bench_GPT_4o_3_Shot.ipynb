{
  "cells": [
    {
      "cell_type": "markdown",
      "metadata": {
        "id": "DZDG0GdGD0v9"
      },
      "source": [
        "# Big Bench"
      ]
    },
    {
      "cell_type": "code",
      "execution_count": null,
      "metadata": {
        "id": "vV0Uy2SFbMTL"
      },
      "outputs": [],
      "source": [
        "!pip install \"bigbench @ https://storage.googleapis.com/public_research_data/bigbench/bigbench-0.0.1.tar.gz\" -q"
      ]
    },
    {
      "cell_type": "code",
      "execution_count": null,
      "metadata": {
        "id": "Lg-fT6-UN42_"
      },
      "outputs": [],
      "source": [
        "!pip install dspy datasets python-Levenshtein -q"
      ]
    },
    {
      "cell_type": "code",
      "execution_count": 98,
      "metadata": {
        "id": "CAK829NqNIAn"
      },
      "outputs": [],
      "source": [
        "import os\n",
        "import pandas as pd\n",
        "from datasets import load_dataset\n",
        "import dspy\n",
        "import Levenshtein\n",
        "import random\n",
        "from openai import OpenAI\n",
        "client = OpenAI()"
      ]
    },
    {
      "cell_type": "code",
      "execution_count": 262,
      "metadata": {
        "colab": {
          "base_uri": "https://localhost:8080/"
        },
        "id": "PdNcxlQQN2iw",
        "outputId": "29a1418a-3903-49cf-80f0-b1637c51dde1"
      },
      "outputs": [
        {
          "name": "stdout",
          "output_type": "stream",
          "text": [
            "There are 2128 examples.\n"
          ]
        }
      ],
      "source": [
        "ds = load_dataset(\"google/bigbench\", \"language_games\")[\"default\"]\n",
        "examples = [dspy.Example({\"question\": r[\"inputs\"], \"options\": r[\"multiple_choice_targets\"], \"answer\":r['targets']}).with_inputs(\"question\",\"options\") for r in ds]\n",
        "print(f\"There are {len(examples)} examples.\")\n",
        "trainset = random.sample(examples, 3)\n",
        "valset = random.sample([i for i in examples if i not in trainset],200)"
      ]
    },
    {
      "cell_type": "code",
      "execution_count": 276,
      "metadata": {
        "colab": {
          "base_uri": "https://localhost:8080/"
        },
        "id": "t4x2Rc3DZ9tv",
        "outputId": "e5186eec-34e6-488a-8e4f-c68737e6369a"
      },
      "outputs": [
        {
          "data": {
            "text/plain": [
              "Example({'question': 'Pig Latin looks just like English, but if an English word starts with a vowel you add -yay at the end of the word (ice -> iceyay); if it starts with consonants, you move them to end of the word and add -ay (prank -> ankpray); if it is capitalized, the Pig Latin word is capitalized as well (Maggie -> Aggiemay). Translate Pig Latin into English.\\n (Pig Latin) Ethay illbay atyay astlay entway oughthray.\\n (English)', 'options': [], 'answer': ['The bill at last went through.']}) (input_keys={'question', 'options'})"
            ]
          },
          "execution_count": 276,
          "metadata": {},
          "output_type": "execute_result"
        }
      ],
      "source": [
        "examples[74]"
      ]
    },
    {
      "cell_type": "code",
      "execution_count": 277,
      "metadata": {
        "colab": {
          "base_uri": "https://localhost:8080/"
        },
        "id": "u5RRzT5qZrLe",
        "outputId": "0e7ec1c3-ade8-44a9-d608-fbe931a68cc6"
      },
      "outputs": [
        {
          "name": "stdout",
          "output_type": "stream",
          "text": [
            "question Pig Latin looks just like English, but if an English word starts with a vowel you add -yay at the end of the word (ice -> iceyay); if it starts with consonants, you move them to end of the word and add -ay (prank -> ankpray); if it is capitalized, the Pig Latin word is capitalized as well (Maggie -> Aggiemay). Translate Pig Latin into English.\n",
            " (Pig Latin) Ethay illbay atyay astlay entway oughthray.\n",
            " (English)\n",
            "------\n"
          ]
        }
      ],
      "source": [
        "for i,j in dict(examples[74]).items():\n",
        "  print(i,j)\n",
        "  print('--'*3)\n",
        "  break"
      ]
    },
    {
      "cell_type": "code",
      "execution_count": 278,
      "metadata": {
        "id": "xaiERTcWOd4A"
      },
      "outputs": [],
      "source": [
        "lm = dspy.OpenAI(model=\"gpt-4o-2024-05-13\")\n",
        "dspy.settings.configure(lm=lm)"
      ]
    },
    {
      "cell_type": "code",
      "execution_count": 279,
      "metadata": {
        "id": "fSxGY8NCRtPA"
      },
      "outputs": [],
      "source": [
        "def custom_format_handler(value):\n",
        "    if isinstance(value, list):\n",
        "        return ' | '.join(map(str, value))\n",
        "        #return value[-1]\n",
        "    return value"
      ]
    },
    {
      "cell_type": "code",
      "execution_count": 294,
      "metadata": {
        "id": "rUZCKnIgPjdW"
      },
      "outputs": [],
      "source": [
        "class CoTSignature(dspy.Signature):\n",
        "    \"\"\"Play a language game. Only produce the answer.\"\"\"\n",
        "    question = dspy.InputField()\n",
        "    #options = dspy.InputField(format=custom_format_handler)\n",
        "    answer = dspy.OutputField(format=custom_format_handler)"
      ]
    },
    {
      "cell_type": "code",
      "execution_count": 295,
      "metadata": {
        "id": "qcS1FZ4f6zX5"
      },
      "outputs": [],
      "source": [
        "simple_predict = dspy.Predict(CoTSignature)"
      ]
    },
    {
      "cell_type": "code",
      "execution_count": 296,
      "metadata": {
        "id": "z28WUE-JQM7D"
      },
      "outputs": [],
      "source": [
        "class CoT(dspy.Module):\n",
        "    def __init__(self):\n",
        "        super().__init__()\n",
        "        self.signature = CoTSignature\n",
        "        self.predictor = dspy.ChainOfThought(self.signature)\n",
        "    def forward(self, question, options):\n",
        "      result = self.predictor(lm=lm,question=question, options=options)\n",
        "      return dspy.Prediction(answer=result.answer)"
      ]
    },
    {
      "cell_type": "code",
      "execution_count": 297,
      "metadata": {
        "colab": {
          "base_uri": "https://localhost:8080/"
        },
        "id": "wGPRr5b9QvPq",
        "outputId": "583a7304-7dda-4b3c-9503-4afde978e6f0"
      },
      "outputs": [
        {
          "name": "stdout",
          "output_type": "stream",
          "text": [
            "Sense: The bill at last went through.\n"
          ]
        }
      ],
      "source": [
        "cot_module = CoT()\n",
        "test_q = examples[74]\n",
        "prediction = cot_module.forward(question=test_q.question, options=test_q.options)\n",
        "print(f\"Sense: {prediction.answer}\")"
      ]
    },
    {
      "cell_type": "code",
      "execution_count": 298,
      "metadata": {
        "colab": {
          "base_uri": "https://localhost:8080/"
        },
        "id": "76NYq151KQ63",
        "outputId": "84b14f66-d134-4bca-86ef-9089510af9b5"
      },
      "outputs": [
        {
          "data": {
            "text/plain": [
              "Prediction(\n",
              "    answer='The bill at last went through.'\n",
              ")"
            ]
          },
          "execution_count": 298,
          "metadata": {},
          "output_type": "execute_result"
        }
      ],
      "source": [
        "simple_predict(question=test_q.question, options=test_q.options)"
      ]
    },
    {
      "cell_type": "code",
      "execution_count": 299,
      "metadata": {
        "id": "z5HfYBewQ_YN"
      },
      "outputs": [],
      "source": [
        "def wsd_metric(example, pred, trace=None, threshold=0.90):\n",
        "    \"\"\"Metric function for word sense disambiguation with Levenshtein distance.\"\"\"\n",
        "    gold_sense = example.answer[0]\n",
        "    predicted_sense = pred.answer\n",
        "\n",
        "    # Calculate Levenshtein similarity\n",
        "    similarity = Levenshtein.ratio(gold_sense.lower(), predicted_sense.lower())\n",
        "\n",
        "    # Check if similarity exceeds the threshold\n",
        "    return int(similarity >= threshold)\n"
      ]
    },
    {
      "cell_type": "code",
      "execution_count": 300,
      "metadata": {
        "colab": {
          "base_uri": "https://localhost:8080/"
        },
        "id": "LLsLpt9kT2wa",
        "outputId": "881b21c0-bbd0-43ee-fd8c-6b99e127f469"
      },
      "outputs": [
        {
          "name": "stderr",
          "output_type": "stream",
          "text": [
            "  0%|          | 0/3 [00:00<?, ?it/s]"
          ]
        },
        {
          "name": "stdout",
          "output_type": "stream",
          "text": [
            "Bootstrapped 0 full traces after 1 examples in round 0.\n"
          ]
        },
        {
          "name": "stderr",
          "output_type": "stream",
          "text": [
            "\n"
          ]
        }
      ],
      "source": [
        "from dspy.teleprompt import BootstrapFewShot\n",
        "\n",
        "# Set up the optimizer: we want to \"bootstrap\" (i.e., self-generate) 4-shot examples of our CoT program.\n",
        "config = dict(max_bootstrapped_demos=0, max_labeled_demos=3)\n",
        "\n",
        "# Optimize! Use the `gsm8k_metric` here. In general, the metric is going to tell the optimizer how well it's doing.\n",
        "teleprompter = BootstrapFewShot(metric=wsd_metric, **config)\n",
        "optimized_cot = teleprompter.compile(CoT(), trainset=trainset)"
      ]
    },
    {
      "cell_type": "code",
      "execution_count": 301,
      "metadata": {
        "colab": {
          "base_uri": "https://localhost:8080/"
        },
        "id": "uxd0UMPiY6GP",
        "outputId": "fca5acc4-be08-4f9b-8447-23bfb3163e1d"
      },
      "outputs": [
        {
          "data": {
            "text/plain": [
              "Prediction(\n",
              "    answer='The bill at last went through.'\n",
              ")"
            ]
          },
          "execution_count": 301,
          "metadata": {},
          "output_type": "execute_result"
        }
      ],
      "source": [
        "optimized_cot.forward(question=test_q.question, options=test_q.options)"
      ]
    },
    {
      "cell_type": "code",
      "execution_count": 302,
      "metadata": {
        "colab": {
          "base_uri": "https://localhost:8080/"
        },
        "id": "PWKWBap1YIzG",
        "outputId": "a725bf87-60de-4ddf-c78f-924cc6313e95"
      },
      "outputs": [
        {
          "name": "stdout",
          "output_type": "stream",
          "text": [
            "\n",
            "\n",
            "\n",
            "\n",
            "Play a language game. Only produce the answer.\n",
            "\n",
            "---\n",
            "\n",
            "Follow the following format.\n",
            "\n",
            "Question: ${question}\n",
            "Reasoning: Let's think step by step in order to ${produce the answer}. We ...\n",
            "Answer: ${answer}\n",
            "\n",
            "---\n",
            "\n",
            "Question: Pig Latin looks just like English, but if an English word starts with a vowel you add -yay at the end of the word (ice -> iceyay); if it starts with consonants, you move them to end of the word and add -ay (prank -> ankpray); if it is capitalized, the Pig Latin word is capitalized as well (Maggie -> Aggiemay). Translate Pig Latin into English. (Pig Latin) Omtay entway erserkbay. (English)\n",
            "Answer: Tom went berserk.\n",
            "\n",
            "Question: Pig Latin looks just like English, but if an English word starts with a vowel you add -yay at the end of the word (ice -> iceyay); if it starts with consonants, you move them to end of the word and add -ay (prank -> ankpray); if it is capitalized, the Pig Latin word is capitalized as well (Maggie -> Aggiemay). Translate Pig Latin into English. (Pig Latin) Ashay Omtay eenbay inyay ouchtay? (English)\n",
            "Answer: Has Tom been in touch?\n",
            "\n",
            "Question: Pig Latin looks just like English, but if an English word starts with a vowel you add -yay at the end of the word (ice -> iceyay); if it starts with consonants, you move them to end of the word and add -ay (prank -> ankpray); if it is capitalized, the Pig Latin word is capitalized as well (Maggie -> Aggiemay). Translate English into Pig Latin. (English) I never should have left you. (Pig Latin)\n",
            "Answer: Iyay evernay ouldshay avehay eftlay ouyay.\n",
            "\n",
            "Question: Pig Latin looks just like English, but if an English word starts with a vowel you add -yay at the end of the word (ice -> iceyay); if it starts with consonants, you move them to end of the word and add -ay (prank -> ankpray); if it is capitalized, the Pig Latin word is capitalized as well (Maggie -> Aggiemay). Translate Pig Latin into English. (Pig Latin) Ethay illbay atyay astlay entway oughthray. (English)\n",
            "Reasoning: Let's think step by step in order to Answer: The bill at last went through.\n",
            "Answer:\u001b[32m The bill at last went through.\u001b[0m\n",
            "\n",
            "\n",
            "\n"
          ]
        }
      ],
      "source": [
        "lm.inspect_history(1)"
      ]
    },
    {
      "cell_type": "code",
      "execution_count": 303,
      "metadata": {
        "colab": {
          "base_uri": "https://localhost:8080/"
        },
        "id": "K0CnZf5gXeR6",
        "outputId": "041f7768-058c-41ac-d801-4e2a48c316bc"
      },
      "outputs": [
        {
          "data": {
            "text/plain": [
              "['The bill at last went through.']"
            ]
          },
          "execution_count": 303,
          "metadata": {},
          "output_type": "execute_result"
        }
      ],
      "source": [
        "examples[74]['answer']"
      ]
    },
    {
      "cell_type": "code",
      "execution_count": 306,
      "metadata": {
        "colab": {
          "base_uri": "https://localhost:8080/",
          "height": 1000
        },
        "id": "K9PuuYKNSSSs",
        "outputId": "3ca5aa17-c3b8-4fa3-d5f9-e80fc3563789"
      },
      "outputs": [
        {
          "name": "stderr",
          "output_type": "stream",
          "text": [
            "Average Metric: 191 / 200  (95.5): 100%|██████████| 200/200 [02:29<00:00,  1.34it/s]"
          ]
        },
        {
          "name": "stdout",
          "output_type": "stream",
          "text": [
            "Average Metric: 191 / 200  (95.5%)\n"
          ]
        },
        {
          "name": "stderr",
          "output_type": "stream",
          "text": [
            "\n"
          ]
        },
        {
          "data": {
            "text/html": [
              "<style type=\"text/css\">\n",
              "#T_7d6bf th {\n",
              "  text-align: left;\n",
              "}\n",
              "#T_7d6bf td {\n",
              "  text-align: left;\n",
              "}\n",
              "#T_7d6bf_row0_col0, #T_7d6bf_row0_col1, #T_7d6bf_row0_col2, #T_7d6bf_row0_col3, #T_7d6bf_row0_col4, #T_7d6bf_row1_col0, #T_7d6bf_row1_col1, #T_7d6bf_row1_col2, #T_7d6bf_row1_col3, #T_7d6bf_row1_col4, #T_7d6bf_row2_col0, #T_7d6bf_row2_col1, #T_7d6bf_row2_col2, #T_7d6bf_row2_col3, #T_7d6bf_row2_col4, #T_7d6bf_row3_col0, #T_7d6bf_row3_col1, #T_7d6bf_row3_col2, #T_7d6bf_row3_col3, #T_7d6bf_row3_col4, #T_7d6bf_row4_col0, #T_7d6bf_row4_col1, #T_7d6bf_row4_col2, #T_7d6bf_row4_col3, #T_7d6bf_row4_col4, #T_7d6bf_row5_col0, #T_7d6bf_row5_col1, #T_7d6bf_row5_col2, #T_7d6bf_row5_col3, #T_7d6bf_row5_col4, #T_7d6bf_row6_col0, #T_7d6bf_row6_col1, #T_7d6bf_row6_col2, #T_7d6bf_row6_col3, #T_7d6bf_row6_col4, #T_7d6bf_row7_col0, #T_7d6bf_row7_col1, #T_7d6bf_row7_col2, #T_7d6bf_row7_col3, #T_7d6bf_row7_col4, #T_7d6bf_row8_col0, #T_7d6bf_row8_col1, #T_7d6bf_row8_col2, #T_7d6bf_row8_col3, #T_7d6bf_row8_col4, #T_7d6bf_row9_col0, #T_7d6bf_row9_col1, #T_7d6bf_row9_col2, #T_7d6bf_row9_col3, #T_7d6bf_row9_col4, #T_7d6bf_row10_col0, #T_7d6bf_row10_col1, #T_7d6bf_row10_col2, #T_7d6bf_row10_col3, #T_7d6bf_row10_col4, #T_7d6bf_row11_col0, #T_7d6bf_row11_col1, #T_7d6bf_row11_col2, #T_7d6bf_row11_col3, #T_7d6bf_row11_col4, #T_7d6bf_row12_col0, #T_7d6bf_row12_col1, #T_7d6bf_row12_col2, #T_7d6bf_row12_col3, #T_7d6bf_row12_col4, #T_7d6bf_row13_col0, #T_7d6bf_row13_col1, #T_7d6bf_row13_col2, #T_7d6bf_row13_col3, #T_7d6bf_row13_col4, #T_7d6bf_row14_col0, #T_7d6bf_row14_col1, #T_7d6bf_row14_col2, #T_7d6bf_row14_col3, #T_7d6bf_row14_col4, #T_7d6bf_row15_col0, #T_7d6bf_row15_col1, #T_7d6bf_row15_col2, #T_7d6bf_row15_col3, #T_7d6bf_row15_col4, #T_7d6bf_row16_col0, #T_7d6bf_row16_col1, #T_7d6bf_row16_col2, #T_7d6bf_row16_col3, #T_7d6bf_row16_col4, #T_7d6bf_row17_col0, #T_7d6bf_row17_col1, #T_7d6bf_row17_col2, #T_7d6bf_row17_col3, #T_7d6bf_row17_col4, #T_7d6bf_row18_col0, #T_7d6bf_row18_col1, #T_7d6bf_row18_col2, #T_7d6bf_row18_col3, #T_7d6bf_row18_col4, #T_7d6bf_row19_col0, #T_7d6bf_row19_col1, #T_7d6bf_row19_col2, #T_7d6bf_row19_col3, #T_7d6bf_row19_col4 {\n",
              "  text-align: left;\n",
              "  white-space: pre-wrap;\n",
              "  word-wrap: break-word;\n",
              "  max-width: 400px;\n",
              "}\n",
              "</style>\n",
              "<table id=\"T_7d6bf\" class=\"dataframe\">\n",
              "  <thead>\n",
              "    <tr>\n",
              "      <th class=\"blank level0\" >&nbsp;</th>\n",
              "      <th id=\"T_7d6bf_level0_col0\" class=\"col_heading level0 col0\" >question</th>\n",
              "      <th id=\"T_7d6bf_level0_col1\" class=\"col_heading level0 col1\" >options</th>\n",
              "      <th id=\"T_7d6bf_level0_col2\" class=\"col_heading level0 col2\" >example_answer</th>\n",
              "      <th id=\"T_7d6bf_level0_col3\" class=\"col_heading level0 col3\" >pred_answer</th>\n",
              "      <th id=\"T_7d6bf_level0_col4\" class=\"col_heading level0 col4\" >wsd_metric</th>\n",
              "    </tr>\n",
              "  </thead>\n",
              "  <tbody>\n",
              "    <tr>\n",
              "      <th id=\"T_7d6bf_level0_row0\" class=\"row_heading level0 row0\" >0</th>\n",
              "      <td id=\"T_7d6bf_row0_col0\" class=\"data row0 col0\" >Pig Latin looks just like English, but if an English word starts with a vowel you add -yay at the end of the word (ice...</td>\n",
              "      <td id=\"T_7d6bf_row0_col1\" class=\"data row0 col1\" >[]</td>\n",
              "      <td id=\"T_7d6bf_row0_col2\" class=\"data row0 col2\" >['He visited his granny.']</td>\n",
              "      <td id=\"T_7d6bf_row0_col3\" class=\"data row0 col3\" >He visited his granny.</td>\n",
              "      <td id=\"T_7d6bf_row0_col4\" class=\"data row0 col4\" >1</td>\n",
              "    </tr>\n",
              "    <tr>\n",
              "      <th id=\"T_7d6bf_level0_row1\" class=\"row_heading level0 row1\" >1</th>\n",
              "      <td id=\"T_7d6bf_row1_col0\" class=\"data row1 col0\" >Pig Latin looks just like English, but if an English word starts with a vowel you add -yay at the end of the word (ice...</td>\n",
              "      <td id=\"T_7d6bf_row1_col1\" class=\"data row1 col1\" >[]</td>\n",
              "      <td id=\"T_7d6bf_row1_col2\" class=\"data row1 col2\" >['Aylalay ivedlay ayay oodgay ifelay.']</td>\n",
              "      <td id=\"T_7d6bf_row1_col3\" class=\"data row1 col3\" >Aylalay ivedlay ayay oodgay ifelay.</td>\n",
              "      <td id=\"T_7d6bf_row1_col4\" class=\"data row1 col4\" >1</td>\n",
              "    </tr>\n",
              "    <tr>\n",
              "      <th id=\"T_7d6bf_level0_row2\" class=\"row_heading level0 row2\" >2</th>\n",
              "      <td id=\"T_7d6bf_row2_col0\" class=\"data row2 col0\" >Pig Latin looks just like English, but if an English word starts with a vowel you add -yay at the end of the word (ice...</td>\n",
              "      <td id=\"T_7d6bf_row2_col1\" class=\"data row2 col1\" >[]</td>\n",
              "      <td id=\"T_7d6bf_row2_col2\" class=\"data row2 col2\" >['Omtay esignedray isthay eekway.']</td>\n",
              "      <td id=\"T_7d6bf_row2_col3\" class=\"data row2 col3\" >Omtay esignedray isthay eekway.</td>\n",
              "      <td id=\"T_7d6bf_row2_col4\" class=\"data row2 col4\" >1</td>\n",
              "    </tr>\n",
              "    <tr>\n",
              "      <th id=\"T_7d6bf_level0_row3\" class=\"row_heading level0 row3\" >3</th>\n",
              "      <td id=\"T_7d6bf_row3_col0\" class=\"data row3 col0\" >Pig Latin looks just like English, but if an English word starts with a vowel you add -yay at the end of the word (ice...</td>\n",
              "      <td id=\"T_7d6bf_row3_col1\" class=\"data row3 col1\" >[]</td>\n",
              "      <td id=\"T_7d6bf_row3_col2\" class=\"data row3 col2\" >['Ouyay ooklay eengray.']</td>\n",
              "      <td id=\"T_7d6bf_row3_col3\" class=\"data row3 col3\" >Ouyay ooklay eengray.</td>\n",
              "      <td id=\"T_7d6bf_row3_col4\" class=\"data row3 col4\" >1</td>\n",
              "    </tr>\n",
              "    <tr>\n",
              "      <th id=\"T_7d6bf_level0_row4\" class=\"row_heading level0 row4\" >4</th>\n",
              "      <td id=\"T_7d6bf_row4_col0\" class=\"data row4 col0\" >Pig Latin looks just like English, but if an English word starts with a vowel you add -yay at the end of the word (ice...</td>\n",
              "      <td id=\"T_7d6bf_row4_col1\" class=\"data row4 col1\" >[]</td>\n",
              "      <td id=\"T_7d6bf_row4_col2\" class=\"data row4 col2\" >['Everyoneyay entway otay Australiayay exceptyay Omtay.']</td>\n",
              "      <td id=\"T_7d6bf_row4_col3\" class=\"data row4 col3\" >Everyoneyay entway otay Australiayay exceptyay Omtay.</td>\n",
              "      <td id=\"T_7d6bf_row4_col4\" class=\"data row4 col4\" >1</td>\n",
              "    </tr>\n",
              "    <tr>\n",
              "      <th id=\"T_7d6bf_level0_row5\" class=\"row_heading level0 row5\" >5</th>\n",
              "      <td id=\"T_7d6bf_row5_col0\" class=\"data row5 col0\" >Pig Latin looks just like English, but if an English word starts with a vowel you add -yay at the end of the word (ice...</td>\n",
              "      <td id=\"T_7d6bf_row5_col1\" class=\"data row5 col1\" >[]</td>\n",
              "      <td id=\"T_7d6bf_row5_col2\" class=\"data row5 col2\" >['Eway avehay ayay ittlelay imetay eforebay ethay extnay aintray.']</td>\n",
              "      <td id=\"T_7d6bf_row5_col3\" class=\"data row5 col3\" >Eway avehay ayay ittlelay imetay eforebay ethay extnay aintray.</td>\n",
              "      <td id=\"T_7d6bf_row5_col4\" class=\"data row5 col4\" >1</td>\n",
              "    </tr>\n",
              "    <tr>\n",
              "      <th id=\"T_7d6bf_level0_row6\" class=\"row_heading level0 row6\" >6</th>\n",
              "      <td id=\"T_7d6bf_row6_col0\" class=\"data row6 col0\" >Pig Latin looks just like English, but if an English word starts with a vowel you add -yay at the end of the word (ice...</td>\n",
              "      <td id=\"T_7d6bf_row6_col1\" class=\"data row6 col1\" >[]</td>\n",
              "      <td id=\"T_7d6bf_row6_col2\" class=\"data row6 col2\" >['Tom is trying to figure that out right now.']</td>\n",
              "      <td id=\"T_7d6bf_row6_col3\" class=\"data row6 col3\" >Tom is trying to figure that out right now.</td>\n",
              "      <td id=\"T_7d6bf_row6_col4\" class=\"data row6 col4\" >1</td>\n",
              "    </tr>\n",
              "    <tr>\n",
              "      <th id=\"T_7d6bf_level0_row7\" class=\"row_heading level0 row7\" >7</th>\n",
              "      <td id=\"T_7d6bf_row7_col0\" class=\"data row7 col0\" >Pig Latin looks just like English, but if an English word starts with a vowel you add -yay at the end of the word (ice...</td>\n",
              "      <td id=\"T_7d6bf_row7_col1\" class=\"data row7 col1\" >[]</td>\n",
              "      <td id=\"T_7d6bf_row7_col2\" class=\"data row7 col2\" >['Tom might be in trouble.']</td>\n",
              "      <td id=\"T_7d6bf_row7_col3\" class=\"data row7 col3\" >Tom might be in trouble.</td>\n",
              "      <td id=\"T_7d6bf_row7_col4\" class=\"data row7 col4\" >1</td>\n",
              "    </tr>\n",
              "    <tr>\n",
              "      <th id=\"T_7d6bf_level0_row8\" class=\"row_heading level0 row8\" >8</th>\n",
              "      <td id=\"T_7d6bf_row8_col0\" class=\"data row8 col0\" >Pig Latin looks just like English, but if an English word starts with a vowel you add -yay at the end of the word (ice...</td>\n",
              "      <td id=\"T_7d6bf_row8_col1\" class=\"data row8 col1\" >[]</td>\n",
              "      <td id=\"T_7d6bf_row8_col2\" class=\"data row8 col2\" >['Eshay advisedyay imhay otnay otay endspay allyay ishay oneymay onyay ishay irlfriendgay.']</td>\n",
              "      <td id=\"T_7d6bf_row8_col3\" class=\"data row8 col3\" >Eshay advisedyay imhay otnay otay endspay allyay ishay oneymay onyay ishay irlfriendgay.</td>\n",
              "      <td id=\"T_7d6bf_row8_col4\" class=\"data row8 col4\" >1</td>\n",
              "    </tr>\n",
              "    <tr>\n",
              "      <th id=\"T_7d6bf_level0_row9\" class=\"row_heading level0 row9\" >9</th>\n",
              "      <td id=\"T_7d6bf_row9_col0\" class=\"data row9 col0\" >Pig Latin looks just like English, but if an English word starts with a vowel you add -yay at the end of the word (ice...</td>\n",
              "      <td id=\"T_7d6bf_row9_col1\" class=\"data row9 col1\" >[]</td>\n",
              "      <td id=\"T_7d6bf_row9_col2\" class=\"data row9 col2\" >['Eshay ikeslay otay umiliatehay eoplepay.']</td>\n",
              "      <td id=\"T_7d6bf_row9_col3\" class=\"data row9 col3\" >Eshay ikeslay otay umiliatehay eoplepay.</td>\n",
              "      <td id=\"T_7d6bf_row9_col4\" class=\"data row9 col4\" >1</td>\n",
              "    </tr>\n",
              "    <tr>\n",
              "      <th id=\"T_7d6bf_level0_row10\" class=\"row_heading level0 row10\" >10</th>\n",
              "      <td id=\"T_7d6bf_row10_col0\" class=\"data row10 col0\" >Pig Latin looks just like English, but if an English word starts with a vowel you add -yay at the end of the word (ice...</td>\n",
              "      <td id=\"T_7d6bf_row10_col1\" class=\"data row10 col1\" >[]</td>\n",
              "      <td id=\"T_7d6bf_row10_col2\" class=\"data row10 col2\" >['Please wait fifteen minutes.']</td>\n",
              "      <td id=\"T_7d6bf_row10_col3\" class=\"data row10 col3\" >Please wait fifteen minutes.</td>\n",
              "      <td id=\"T_7d6bf_row10_col4\" class=\"data row10 col4\" >1</td>\n",
              "    </tr>\n",
              "    <tr>\n",
              "      <th id=\"T_7d6bf_level0_row11\" class=\"row_heading level0 row11\" >11</th>\n",
              "      <td id=\"T_7d6bf_row11_col0\" class=\"data row11 col0\" >Pig Latin looks just like English, but if an English word starts with a vowel you add -yay at the end of the word (ice...</td>\n",
              "      <td id=\"T_7d6bf_row11_col1\" class=\"data row11 col1\" >[]</td>\n",
              "      <td id=\"T_7d6bf_row11_col2\" class=\"data row11 col2\" >['Eshay eltfay oremay anthay iendshipfray orfay imhay.']</td>\n",
              "      <td id=\"T_7d6bf_row11_col3\" class=\"data row11 col3\" >Eshay eltfay oremay anthay iendshipfray orfay imhay.</td>\n",
              "      <td id=\"T_7d6bf_row11_col4\" class=\"data row11 col4\" >1</td>\n",
              "    </tr>\n",
              "    <tr>\n",
              "      <th id=\"T_7d6bf_level0_row12\" class=\"row_heading level0 row12\" >12</th>\n",
              "      <td id=\"T_7d6bf_row12_col0\" class=\"data row12 col0\" >Pig Latin looks just like English, but if an English word starts with a vowel you add -yay at the end of the word (ice...</td>\n",
              "      <td id=\"T_7d6bf_row12_col1\" class=\"data row12 col1\" >[]</td>\n",
              "      <td id=\"T_7d6bf_row12_col2\" class=\"data row12 col2\" >['Omtay aidsay Arymay isyay oftenyay atelay.']</td>\n",
              "      <td id=\"T_7d6bf_row12_col3\" class=\"data row12 col3\" >Omtay aidsay Arymay isyay oftenyay atelay.</td>\n",
              "      <td id=\"T_7d6bf_row12_col4\" class=\"data row12 col4\" >1</td>\n",
              "    </tr>\n",
              "    <tr>\n",
              "      <th id=\"T_7d6bf_level0_row13\" class=\"row_heading level0 row13\" >13</th>\n",
              "      <td id=\"T_7d6bf_row13_col0\" class=\"data row13 col0\" >Respond in \"Egg language\" to the following sentences written in \"Egg language\":\n",
              "\n",
              "Q: Wheggat eggis thegge seggense eggasseggoceggiategged weggith thegge eggears?\n",
              "A:</td>\n",
              "      <td id=\"T_7d6bf_row13_col1\" class=\"data row13 col1\" >[]</td>\n",
              "      <td id=\"T_7d6bf_row13_col2\" class=\"data row13 col2\" >['Heggearing.']</td>\n",
              "      <td id=\"T_7d6bf_row13_col3\" class=\"data row13 col3\" >Thegge seggense eggasseggoceggiategged weggith thegge eggears eggis eggin thegge eggar.</td>\n",
              "      <td id=\"T_7d6bf_row13_col4\" class=\"data row13 col4\" >0</td>\n",
              "    </tr>\n",
              "    <tr>\n",
              "      <th id=\"T_7d6bf_level0_row14\" class=\"row_heading level0 row14\" >14</th>\n",
              "      <td id=\"T_7d6bf_row14_col0\" class=\"data row14 col0\" >Pig Latin looks just like English, but if an English word starts with a vowel you add -yay at the end of the word (ice...</td>\n",
              "      <td id=\"T_7d6bf_row14_col1\" class=\"data row14 col1\" >[]</td>\n",
              "      <td id=\"T_7d6bf_row14_col2\" class=\"data row14 col2\" >['Ethay iskeywhay asway orriblehay.']</td>\n",
              "      <td id=\"T_7d6bf_row14_col3\" class=\"data row14 col3\" >Ethay iskeywhay asway orriblehay.</td>\n",
              "      <td id=\"T_7d6bf_row14_col4\" class=\"data row14 col4\" >1</td>\n",
              "    </tr>\n",
              "    <tr>\n",
              "      <th id=\"T_7d6bf_level0_row15\" class=\"row_heading level0 row15\" >15</th>\n",
              "      <td id=\"T_7d6bf_row15_col0\" class=\"data row15 col0\" >Pig Latin looks just like English, but if an English word starts with a vowel you add -yay at the end of the word (ice...</td>\n",
              "      <td id=\"T_7d6bf_row15_col1\" class=\"data row15 col1\" >[]</td>\n",
              "      <td id=\"T_7d6bf_row15_col2\" class=\"data row15 col2\" >['Iyay inkthay Iyay ouldcay oday atthay ifyay ouyay owedshay emay owhay.']</td>\n",
              "      <td id=\"T_7d6bf_row15_col3\" class=\"data row15 col3\" >Iyay inkthay Iyay ouldcay oday atthay ifyay ouyay owedshay emay owhay.</td>\n",
              "      <td id=\"T_7d6bf_row15_col4\" class=\"data row15 col4\" >1</td>\n",
              "    </tr>\n",
              "    <tr>\n",
              "      <th id=\"T_7d6bf_level0_row16\" class=\"row_heading level0 row16\" >16</th>\n",
              "      <td id=\"T_7d6bf_row16_col0\" class=\"data row16 col0\" >Pig Latin looks just like English, but if an English word starts with a vowel you add -yay at the end of the word (ice...</td>\n",
              "      <td id=\"T_7d6bf_row16_col1\" class=\"data row16 col1\" >[]</td>\n",
              "      <td id=\"T_7d6bf_row16_col2\" class=\"data row16 col2\" >['Omtay ewknay erethay asway othingnay oremay ehay ouldcay oday.']</td>\n",
              "      <td id=\"T_7d6bf_row16_col3\" class=\"data row16 col3\" >Omtay ewknay erethay asway othingnay oremay ehay ouldcay oday.</td>\n",
              "      <td id=\"T_7d6bf_row16_col4\" class=\"data row16 col4\" >1</td>\n",
              "    </tr>\n",
              "    <tr>\n",
              "      <th id=\"T_7d6bf_level0_row17\" class=\"row_heading level0 row17\" >17</th>\n",
              "      <td id=\"T_7d6bf_row17_col0\" class=\"data row17 col0\" >Pig Latin looks just like English, but if an English word starts with a vowel you add -yay at the end of the word (ice...</td>\n",
              "      <td id=\"T_7d6bf_row17_col1\" class=\"data row17 col1\" >[]</td>\n",
              "      <td id=\"T_7d6bf_row17_col2\" class=\"data row17 col2\" >['Ehay isyay ivinglay apartyay omfray ishay ifeway.']</td>\n",
              "      <td id=\"T_7d6bf_row17_col3\" class=\"data row17 col3\" >Ehay isyay ivinglay apartyay omfray ishay ifeway.</td>\n",
              "      <td id=\"T_7d6bf_row17_col4\" class=\"data row17 col4\" >1</td>\n",
              "    </tr>\n",
              "    <tr>\n",
              "      <th id=\"T_7d6bf_level0_row18\" class=\"row_heading level0 row18\" >18</th>\n",
              "      <td id=\"T_7d6bf_row18_col0\" class=\"data row18 col0\" >Pig Latin looks just like English, but if an English word starts with a vowel you add -yay at the end of the word (ice...</td>\n",
              "      <td id=\"T_7d6bf_row18_col1\" class=\"data row18 col1\" >[]</td>\n",
              "      <td id=\"T_7d6bf_row18_col2\" class=\"data row18 col2\" >['Tom and Mary did all they could do to help.']</td>\n",
              "      <td id=\"T_7d6bf_row18_col3\" class=\"data row18 col3\" >Tom and Mary did all they could do to help.</td>\n",
              "      <td id=\"T_7d6bf_row18_col4\" class=\"data row18 col4\" >1</td>\n",
              "    </tr>\n",
              "    <tr>\n",
              "      <th id=\"T_7d6bf_level0_row19\" class=\"row_heading level0 row19\" >19</th>\n",
              "      <td id=\"T_7d6bf_row19_col0\" class=\"data row19 col0\" >Pig Latin looks just like English, but if an English word starts with a vowel you add -yay at the end of the word (ice...</td>\n",
              "      <td id=\"T_7d6bf_row19_col1\" class=\"data row19 col1\" >[]</td>\n",
              "      <td id=\"T_7d6bf_row19_col2\" class=\"data row19 col2\" >['Ethay ottombay ashay allenfay outyay ofyay ethay arketmay.']</td>\n",
              "      <td id=\"T_7d6bf_row19_col3\" class=\"data row19 col3\" >Ethay ottombay ashay allenfay outyay ofyay ethay arketmay.</td>\n",
              "      <td id=\"T_7d6bf_row19_col4\" class=\"data row19 col4\" >1</td>\n",
              "    </tr>\n",
              "  </tbody>\n",
              "</table>\n"
            ],
            "text/plain": [
              "<pandas.io.formats.style.Styler object at 0x7ec8e9276290>"
            ]
          },
          "metadata": {},
          "output_type": "display_data"
        },
        {
          "data": {
            "text/html": [
              "\n",
              "                <div style='\n",
              "                    text-align: center;\n",
              "                    font-size: 16px;\n",
              "                    font-weight: bold;\n",
              "                    color: #555;\n",
              "                    margin: 10px 0;'>\n",
              "                    ... 180 more rows not displayed ...\n",
              "                </div>\n",
              "                "
            ],
            "text/plain": [
              "<IPython.core.display.HTML object>"
            ]
          },
          "metadata": {},
          "output_type": "display_data"
        }
      ],
      "source": [
        "from dspy.evaluate import Evaluate\n",
        "\n",
        "# Set up the evaluator, which can be re-used in your code.\n",
        "evaluator = Evaluate(devset=valset, num_threads=2, display_progress=True, display_table=20,return_outputs=True)\n",
        "\n",
        "# Launch evaluation.\n",
        "evaluation_score, outputs = evaluator(optimized_cot, metric=wsd_metric)"
      ]
    },
    {
      "cell_type": "code",
      "execution_count": 307,
      "metadata": {
        "colab": {
          "base_uri": "https://localhost:8080/"
        },
        "id": "UO-HcLAy4FFR",
        "outputId": "6a56eabb-9bcb-42cf-e069-4d9ce17c64ce"
      },
      "outputs": [
        {
          "data": {
            "text/plain": [
              "95.5"
            ]
          },
          "execution_count": 307,
          "metadata": {},
          "output_type": "execute_result"
        }
      ],
      "source": [
        "evaluation_score"
      ]
    },
    {
      "cell_type": "code",
      "execution_count": 308,
      "metadata": {
        "id": "SVYESECCVm-x"
      },
      "outputs": [],
      "source": [
        "outputs = pd.DataFrame(outputs)"
      ]
    },
    {
      "cell_type": "code",
      "execution_count": 309,
      "metadata": {
        "id": "fvt4dbmehps_"
      },
      "outputs": [],
      "source": [
        "outputs.columns = ['problem','response','result']"
      ]
    },
    {
      "cell_type": "code",
      "execution_count": 310,
      "metadata": {
        "colab": {
          "base_uri": "https://localhost:8080/"
        },
        "id": "PDXfPXcFzclC",
        "outputId": "05847fa3-c39b-4610-aa4d-df5f0c6e630c"
      },
      "outputs": [
        {
          "data": {
            "text/plain": [
              "Example({'question': 'Pig Latin looks just like English, but if an English word starts with a vowel you add -yay at the end of the word (ice -> iceyay); if it starts with consonants, you move them to end of the word and add -ay (prank -> ankpray); if it is capitalized, the Pig Latin word is capitalized as well (Maggie -> Aggiemay). Translate English into Pig Latin.\\n (English) Do you really want to wait for Tom?\\n (Pig Latin)', 'options': [], 'answer': ['Oday ouyay eallyray antway otay aitway orfay Omtay?']}) (input_keys={'question', 'options'})"
            ]
          },
          "execution_count": 310,
          "metadata": {},
          "output_type": "execute_result"
        }
      ],
      "source": [
        "outputs.iloc[95,0]"
      ]
    },
    {
      "cell_type": "code",
      "execution_count": 311,
      "metadata": {
        "id": "kEjaqXrMhEmE"
      },
      "outputs": [],
      "source": [
        "outputs.to_json('language_games_GPT_4o_3_shot_results.json',orient='records')"
      ]
    },
    {
      "cell_type": "code",
      "execution_count": null,
      "metadata": {
        "id": "eCkI3DYJ8WhL"
      },
      "outputs": [],
      "source": []
    }
  ],
  "metadata": {
    "colab": {
      "provenance": []
    },
    "kernelspec": {
      "display_name": "Python 3",
      "name": "python3"
    },
    "language_info": {
      "name": "python"
    }
  },
  "nbformat": 4,
  "nbformat_minor": 0
}
