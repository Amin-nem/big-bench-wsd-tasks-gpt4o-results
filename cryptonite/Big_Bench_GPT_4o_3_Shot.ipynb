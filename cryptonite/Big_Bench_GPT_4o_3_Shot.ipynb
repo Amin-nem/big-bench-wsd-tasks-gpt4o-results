{
  "cells": [
    {
      "cell_type": "markdown",
      "metadata": {
        "id": "DZDG0GdGD0v9"
      },
      "source": [
        "# Big Bench"
      ]
    },
    {
      "cell_type": "code",
      "execution_count": null,
      "metadata": {
        "id": "vV0Uy2SFbMTL"
      },
      "outputs": [],
      "source": [
        "!pip install \"bigbench @ https://storage.googleapis.com/public_research_data/bigbench/bigbench-0.0.1.tar.gz\" -q"
      ]
    },
    {
      "cell_type": "code",
      "execution_count": null,
      "metadata": {
        "id": "Lg-fT6-UN42_"
      },
      "outputs": [],
      "source": [
        "!pip install dspy datasets python-Levenshtein -q"
      ]
    },
    {
      "cell_type": "code",
      "execution_count": 98,
      "metadata": {
        "id": "CAK829NqNIAn"
      },
      "outputs": [],
      "source": [
        "import os\n",
        "import pandas as pd\n",
        "from datasets import load_dataset\n",
        "import dspy\n",
        "import Levenshtein\n",
        "import random\n",
        "from openai import OpenAI\n",
        "client = OpenAI()"
      ]
    },
    {
      "cell_type": "code",
      "execution_count": 314,
      "metadata": {
        "colab": {
          "base_uri": "https://localhost:8080/",
          "height": 130,
          "referenced_widgets": [
            "47dc0312aa6a4360b33e36b43bb1ba9c",
            "d439691a95784d17827f1ef01a9df36f",
            "ac07b92fa1d742f28a623a5e978aceef",
            "f548768df68d4abcb6b92a192869105d",
            "7e2b56421ba74a14bbed8d5ca091d734",
            "72b91ee1ee004ea6b4012e085138d527",
            "b98a219ba9d44c7c9a9c606fc08a6c78",
            "a0333d9af3f04d13a815dcb5578f9d82",
            "a96296cac23341ecb21b5789214f8ba9",
            "0eb2ac70d27a4ef58a8426e4500eb4f8",
            "fc0e78c583b340e0a685516ff4c44990",
            "a2b4bd1779404a3285b04c371b160da0",
            "4f7e6fe8de574e11bf43f4bd2d63afb6",
            "ccbd5da2dc654c629737b53114a9185d",
            "00d81810a6f64ca4bfaa082ebef739c0",
            "d63fa7c577784ec8af4ea7a3d0205336",
            "b76663cf4aad41a5baf7a22837150232",
            "1e9d8547b27b425a90bed4687207ab73",
            "8afef50bcc5e4b058d36e5bbe42941b6",
            "21b8ed0cc81a478f888d8046098a2478",
            "f995c64219134afca048ba1d8d408b08",
            "4a0c30da6ee249d3a4965ed493217da1",
            "8167313206db42e381ffd18605ca2dcd",
            "836ef66ec92f409e96966e0169d695a2",
            "d02dd84c55394ae7b86cb80c639dba73",
            "c55355369eed49c1b04d95b99fc7a29d",
            "8e0ee474fa24488db48fb0cd84bfac5e",
            "23ccdd34e8a64cab89a6c14869461443",
            "62c141c514f648c0abb07dda22fd95ea",
            "cd21db94e41849ad954e1c187aed82c7",
            "ca939e95f76b49958186e85b72af60ef",
            "92875d475982484dbbfd0cdff708c75b",
            "083653c42fba4c9e9be2350e2122a693"
          ]
        },
        "id": "PdNcxlQQN2iw",
        "outputId": "b7fe3052-704f-4472-a6fd-d99439c0b84b"
      },
      "outputs": [
        {
          "data": {
            "application/vnd.jupyter.widget-view+json": {
              "model_id": "47dc0312aa6a4360b33e36b43bb1ba9c",
              "version_major": 2,
              "version_minor": 0
            },
            "text/plain": [
              "Generating default split:   0%|          | 0/26157 [00:00<?, ? examples/s]"
            ]
          },
          "metadata": {},
          "output_type": "display_data"
        },
        {
          "data": {
            "application/vnd.jupyter.widget-view+json": {
              "model_id": "a2b4bd1779404a3285b04c371b160da0",
              "version_major": 2,
              "version_minor": 0
            },
            "text/plain": [
              "Generating train split:   0%|          | 0/20926 [00:00<?, ? examples/s]"
            ]
          },
          "metadata": {},
          "output_type": "display_data"
        },
        {
          "data": {
            "application/vnd.jupyter.widget-view+json": {
              "model_id": "8167313206db42e381ffd18605ca2dcd",
              "version_major": 2,
              "version_minor": 0
            },
            "text/plain": [
              "Generating validation split:   0%|          | 0/5231 [00:00<?, ? examples/s]"
            ]
          },
          "metadata": {},
          "output_type": "display_data"
        },
        {
          "name": "stdout",
          "output_type": "stream",
          "text": [
            "There are 26157 examples.\n"
          ]
        }
      ],
      "source": [
        "ds = load_dataset(\"google/bigbench\", \"cryptonite\")[\"default\"]\n",
        "examples = [dspy.Example({\"question\": r[\"inputs\"], \"options\": r[\"multiple_choice_targets\"], \"answer\":r['targets']}).with_inputs(\"question\",\"options\") for r in ds]\n",
        "print(f\"There are {len(examples)} examples.\")\n",
        "trainset = random.sample(examples, 3)\n",
        "valset = random.sample([i for i in examples if i not in trainset],200)"
      ]
    },
    {
      "cell_type": "code",
      "execution_count": 315,
      "metadata": {
        "colab": {
          "base_uri": "https://localhost:8080/"
        },
        "id": "t4x2Rc3DZ9tv",
        "outputId": "4f65ffed-821c-441b-fc22-6ca3aa3b93fa"
      },
      "outputs": [
        {
          "data": {
            "text/plain": [
              "Example({'question': 'Cryptic crossword clue: overact, twirling new sari, greeting hindu sage (9)\\nAnswer:', 'options': [], 'answer': ['maharishi']}) (input_keys={'question', 'options'})"
            ]
          },
          "execution_count": 315,
          "metadata": {},
          "output_type": "execute_result"
        }
      ],
      "source": [
        "examples[74]"
      ]
    },
    {
      "cell_type": "code",
      "execution_count": 316,
      "metadata": {
        "id": "xaiERTcWOd4A"
      },
      "outputs": [],
      "source": [
        "lm = dspy.OpenAI(model=\"gpt-4o-2024-05-13\")\n",
        "dspy.settings.configure(lm=lm)"
      ]
    },
    {
      "cell_type": "code",
      "execution_count": 317,
      "metadata": {
        "id": "fSxGY8NCRtPA"
      },
      "outputs": [],
      "source": [
        "def custom_format_handler(value):\n",
        "    if isinstance(value, list):\n",
        "        return ' | '.join(map(str, value))\n",
        "        #return value[-1]\n",
        "    return value"
      ]
    },
    {
      "cell_type": "code",
      "execution_count": 318,
      "metadata": {
        "id": "rUZCKnIgPjdW"
      },
      "outputs": [],
      "source": [
        "class CoTSignature(dspy.Signature):\n",
        "    \"\"\"Play a language game. Only produce the answer.\"\"\"\n",
        "    question = dspy.InputField()\n",
        "    #options = dspy.InputField(format=custom_format_handler)\n",
        "    answer = dspy.OutputField(format=custom_format_handler)"
      ]
    },
    {
      "cell_type": "code",
      "execution_count": 319,
      "metadata": {
        "id": "qcS1FZ4f6zX5"
      },
      "outputs": [],
      "source": [
        "simple_predict = dspy.Predict(CoTSignature)"
      ]
    },
    {
      "cell_type": "code",
      "execution_count": 320,
      "metadata": {
        "id": "z28WUE-JQM7D"
      },
      "outputs": [],
      "source": [
        "class CoT(dspy.Module):\n",
        "    def __init__(self):\n",
        "        super().__init__()\n",
        "        self.signature = CoTSignature\n",
        "        self.predictor = dspy.ChainOfThought(self.signature)\n",
        "    def forward(self, question, options):\n",
        "      result = self.predictor(lm=lm,question=question, options=options)\n",
        "      return dspy.Prediction(answer=result.answer)"
      ]
    },
    {
      "cell_type": "code",
      "execution_count": 321,
      "metadata": {
        "colab": {
          "base_uri": "https://localhost:8080/"
        },
        "id": "wGPRr5b9QvPq",
        "outputId": "5691b321-fcb1-4dc9-c3a3-0c2ad19a3419"
      },
      "outputs": [
        {
          "name": "stdout",
          "output_type": "stream",
          "text": [
            "Sense: RISHIS\n"
          ]
        }
      ],
      "source": [
        "cot_module = CoT()\n",
        "test_q = examples[74]\n",
        "prediction = cot_module.forward(question=test_q.question, options=test_q.options)\n",
        "print(f\"Sense: {prediction.answer}\")"
      ]
    },
    {
      "cell_type": "code",
      "execution_count": 322,
      "metadata": {
        "colab": {
          "base_uri": "https://localhost:8080/"
        },
        "id": "76NYq151KQ63",
        "outputId": "25adba1f-2605-436d-89e5-cd88325e2850"
      },
      "outputs": [
        {
          "data": {
            "text/plain": [
              "Prediction(\n",
              "    answer='Question: Cryptic crossword clue: overact, twirling new sari, greeting hindu sage (9) Answer:\\nAnswer: Avatarist'\n",
              ")"
            ]
          },
          "execution_count": 322,
          "metadata": {},
          "output_type": "execute_result"
        }
      ],
      "source": [
        "simple_predict(question=test_q.question, options=test_q.options)"
      ]
    },
    {
      "cell_type": "code",
      "execution_count": 323,
      "metadata": {
        "id": "z5HfYBewQ_YN"
      },
      "outputs": [],
      "source": [
        "def wsd_metric(example, pred, trace=None, threshold=0.90):\n",
        "    \"\"\"Metric function for word sense disambiguation with Levenshtein distance.\"\"\"\n",
        "    gold_sense = example.answer[0]\n",
        "    predicted_sense = pred.answer\n",
        "\n",
        "    # Calculate Levenshtein similarity\n",
        "    similarity = Levenshtein.ratio(gold_sense.lower(), predicted_sense.lower())\n",
        "\n",
        "    # Check if similarity exceeds the threshold\n",
        "    return int(similarity >= threshold)\n"
      ]
    },
    {
      "cell_type": "code",
      "execution_count": 324,
      "metadata": {
        "colab": {
          "base_uri": "https://localhost:8080/"
        },
        "id": "LLsLpt9kT2wa",
        "outputId": "df45fdcd-c01e-41d6-a26e-3ced6c5d7875"
      },
      "outputs": [
        {
          "name": "stderr",
          "output_type": "stream",
          "text": [
            "  0%|          | 0/3 [00:00<?, ?it/s]"
          ]
        },
        {
          "name": "stdout",
          "output_type": "stream",
          "text": [
            "Bootstrapped 0 full traces after 1 examples in round 0.\n"
          ]
        },
        {
          "name": "stderr",
          "output_type": "stream",
          "text": [
            "\n"
          ]
        }
      ],
      "source": [
        "from dspy.teleprompt import BootstrapFewShot\n",
        "\n",
        "# Set up the optimizer: we want to \"bootstrap\" (i.e., self-generate) 4-shot examples of our CoT program.\n",
        "config = dict(max_bootstrapped_demos=0, max_labeled_demos=3)\n",
        "\n",
        "# Optimize! Use the `gsm8k_metric` here. In general, the metric is going to tell the optimizer how well it's doing.\n",
        "teleprompter = BootstrapFewShot(metric=wsd_metric, **config)\n",
        "optimized_cot = teleprompter.compile(CoT(), trainset=trainset)"
      ]
    },
    {
      "cell_type": "code",
      "execution_count": 325,
      "metadata": {
        "colab": {
          "base_uri": "https://localhost:8080/"
        },
        "id": "uxd0UMPiY6GP",
        "outputId": "1d443325-8860-42bd-a78e-dd41817b14b9"
      },
      "outputs": [
        {
          "data": {
            "text/plain": [
              "Prediction(\n",
              "    answer='rishis'\n",
              ")"
            ]
          },
          "execution_count": 325,
          "metadata": {},
          "output_type": "execute_result"
        }
      ],
      "source": [
        "optimized_cot.forward(question=test_q.question, options=test_q.options)"
      ]
    },
    {
      "cell_type": "code",
      "execution_count": 326,
      "metadata": {
        "colab": {
          "base_uri": "https://localhost:8080/"
        },
        "id": "PWKWBap1YIzG",
        "outputId": "55a70a07-748e-47b0-8f75-cc9e46b17eae"
      },
      "outputs": [
        {
          "name": "stdout",
          "output_type": "stream",
          "text": [
            "\n",
            "\n",
            "\n",
            "\n",
            "Play a language game. Only produce the answer.\n",
            "\n",
            "---\n",
            "\n",
            "Follow the following format.\n",
            "\n",
            "Question: ${question}\n",
            "Reasoning: Let's think step by step in order to ${produce the answer}. We ...\n",
            "Answer: ${answer}\n",
            "\n",
            "---\n",
            "\n",
            "Question: Cryptic crossword clue: raise belting bottom of bad waif? not in liberal establishment (5,6) Answer:\n",
            "Answer: broad church\n",
            "\n",
            "---\n",
            "\n",
            "Question: Cryptic crossword clue: trumps higher, with amazing fervour, and rising with sudden emphasis (9) Answer:\n",
            "Answer: overruffs\n",
            "\n",
            "---\n",
            "\n",
            "Question: Cryptic crossword clue: does view oddly cut off blossom? (7) Answer:\n",
            "Answer: develop\n",
            "\n",
            "---\n",
            "\n",
            "Question: Cryptic crossword clue: overact, twirling new sari, greeting hindu sage (9) Answer:\n",
            "Reasoning: Let's think step by step in order to\u001b[32m produce the answer. We need to identify the definition and wordplay in the clue. The definition is likely \"Hindu sage.\" The wordplay involves an anagram (indicated by \"twirling\") of \"new sari\" plus a greeting. \"New sari\" anagrammed gives us \"RISHI\" and adding a common greeting \"HI\" gives us \"RISHIHI.\" However, the correct spelling for the Hindu sage is \"RISHI.\" Therefore, the answer is \"RISHIS.\"\n",
            "\n",
            "Answer: rishis\u001b[0m\n",
            "\n",
            "\n",
            "\n"
          ]
        }
      ],
      "source": [
        "lm.inspect_history(1)"
      ]
    },
    {
      "cell_type": "code",
      "execution_count": 327,
      "metadata": {
        "colab": {
          "base_uri": "https://localhost:8080/"
        },
        "id": "K0CnZf5gXeR6",
        "outputId": "01ed0dbb-6c2f-4379-f233-f3de5d736d70"
      },
      "outputs": [
        {
          "data": {
            "text/plain": [
              "['maharishi']"
            ]
          },
          "execution_count": 327,
          "metadata": {},
          "output_type": "execute_result"
        }
      ],
      "source": [
        "examples[74]['answer']"
      ]
    },
    {
      "cell_type": "code",
      "execution_count": 328,
      "metadata": {
        "colab": {
          "base_uri": "https://localhost:8080/",
          "height": 1000
        },
        "id": "K9PuuYKNSSSs",
        "outputId": "a1723898-fc24-4a13-f2f5-4da26888ff77"
      },
      "outputs": [
        {
          "name": "stderr",
          "output_type": "stream",
          "text": [
            "Average Metric: 63 / 200  (31.5): 100%|██████████| 200/200 [03:37<00:00,  1.09s/it]"
          ]
        },
        {
          "name": "stdout",
          "output_type": "stream",
          "text": [
            "Average Metric: 63 / 200  (31.5%)\n"
          ]
        },
        {
          "name": "stderr",
          "output_type": "stream",
          "text": [
            "\n"
          ]
        },
        {
          "data": {
            "text/html": [
              "<style type=\"text/css\">\n",
              "#T_49962 th {\n",
              "  text-align: left;\n",
              "}\n",
              "#T_49962 td {\n",
              "  text-align: left;\n",
              "}\n",
              "#T_49962_row0_col0, #T_49962_row0_col1, #T_49962_row0_col2, #T_49962_row0_col3, #T_49962_row0_col4, #T_49962_row1_col0, #T_49962_row1_col1, #T_49962_row1_col2, #T_49962_row1_col3, #T_49962_row1_col4, #T_49962_row2_col0, #T_49962_row2_col1, #T_49962_row2_col2, #T_49962_row2_col3, #T_49962_row2_col4, #T_49962_row3_col0, #T_49962_row3_col1, #T_49962_row3_col2, #T_49962_row3_col3, #T_49962_row3_col4, #T_49962_row4_col0, #T_49962_row4_col1, #T_49962_row4_col2, #T_49962_row4_col3, #T_49962_row4_col4, #T_49962_row5_col0, #T_49962_row5_col1, #T_49962_row5_col2, #T_49962_row5_col3, #T_49962_row5_col4, #T_49962_row6_col0, #T_49962_row6_col1, #T_49962_row6_col2, #T_49962_row6_col3, #T_49962_row6_col4, #T_49962_row7_col0, #T_49962_row7_col1, #T_49962_row7_col2, #T_49962_row7_col3, #T_49962_row7_col4, #T_49962_row8_col0, #T_49962_row8_col1, #T_49962_row8_col2, #T_49962_row8_col3, #T_49962_row8_col4, #T_49962_row9_col0, #T_49962_row9_col1, #T_49962_row9_col2, #T_49962_row9_col3, #T_49962_row9_col4, #T_49962_row10_col0, #T_49962_row10_col1, #T_49962_row10_col2, #T_49962_row10_col3, #T_49962_row10_col4, #T_49962_row11_col0, #T_49962_row11_col1, #T_49962_row11_col2, #T_49962_row11_col3, #T_49962_row11_col4, #T_49962_row12_col0, #T_49962_row12_col1, #T_49962_row12_col2, #T_49962_row12_col3, #T_49962_row12_col4, #T_49962_row13_col0, #T_49962_row13_col1, #T_49962_row13_col2, #T_49962_row13_col3, #T_49962_row13_col4, #T_49962_row14_col0, #T_49962_row14_col1, #T_49962_row14_col2, #T_49962_row14_col3, #T_49962_row14_col4, #T_49962_row15_col0, #T_49962_row15_col1, #T_49962_row15_col2, #T_49962_row15_col3, #T_49962_row15_col4, #T_49962_row16_col0, #T_49962_row16_col1, #T_49962_row16_col2, #T_49962_row16_col3, #T_49962_row16_col4, #T_49962_row17_col0, #T_49962_row17_col1, #T_49962_row17_col2, #T_49962_row17_col3, #T_49962_row17_col4, #T_49962_row18_col0, #T_49962_row18_col1, #T_49962_row18_col2, #T_49962_row18_col3, #T_49962_row18_col4, #T_49962_row19_col0, #T_49962_row19_col1, #T_49962_row19_col2, #T_49962_row19_col3, #T_49962_row19_col4 {\n",
              "  text-align: left;\n",
              "  white-space: pre-wrap;\n",
              "  word-wrap: break-word;\n",
              "  max-width: 400px;\n",
              "}\n",
              "</style>\n",
              "<table id=\"T_49962\" class=\"dataframe\">\n",
              "  <thead>\n",
              "    <tr>\n",
              "      <th class=\"blank level0\" >&nbsp;</th>\n",
              "      <th id=\"T_49962_level0_col0\" class=\"col_heading level0 col0\" >question</th>\n",
              "      <th id=\"T_49962_level0_col1\" class=\"col_heading level0 col1\" >options</th>\n",
              "      <th id=\"T_49962_level0_col2\" class=\"col_heading level0 col2\" >example_answer</th>\n",
              "      <th id=\"T_49962_level0_col3\" class=\"col_heading level0 col3\" >pred_answer</th>\n",
              "      <th id=\"T_49962_level0_col4\" class=\"col_heading level0 col4\" >wsd_metric</th>\n",
              "    </tr>\n",
              "  </thead>\n",
              "  <tbody>\n",
              "    <tr>\n",
              "      <th id=\"T_49962_level0_row0\" class=\"row_heading level0 row0\" >0</th>\n",
              "      <td id=\"T_49962_row0_col0\" class=\"data row0 col0\" >Cryptic crossword clue: channel flowing over a gold coin once (5)\n",
              "Answer:</td>\n",
              "      <td id=\"T_49962_row0_col1\" class=\"data row0 col1\" >[]</td>\n",
              "      <td id=\"T_49962_row0_col2\" class=\"data row0 col2\" >['ducat']</td>\n",
              "      <td id=\"T_49962_row0_col3\" class=\"data row0 col3\" >rival</td>\n",
              "      <td id=\"T_49962_row0_col4\" class=\"data row0 col4\" >0</td>\n",
              "    </tr>\n",
              "    <tr>\n",
              "      <th id=\"T_49962_level0_row1\" class=\"row_heading level0 row1\" >1</th>\n",
              "      <td id=\"T_49962_row1_col0\" class=\"data row1 col0\" >Cryptic crossword clue: smart, deleting line in permit? the opposite (4,5)\n",
              "Answer:</td>\n",
              "      <td id=\"T_49962_row1_col1\" class=\"data row1 col1\" >[]</td>\n",
              "      <td id=\"T_49962_row1_col2\" class=\"data row1 col2\" >['vice versa']</td>\n",
              "      <td id=\"T_49962_row1_col3\" class=\"data row1 col3\" >Answer: play dumb</td>\n",
              "      <td id=\"T_49962_row1_col4\" class=\"data row1 col4\" >0</td>\n",
              "    </tr>\n",
              "    <tr>\n",
              "      <th id=\"T_49962_level0_row2\" class=\"row_heading level0 row2\" >2</th>\n",
              "      <td id=\"T_49962_row2_col0\" class=\"data row2 col0\" >Cryptic crossword clue: urges simple reforms covering university -- and succeeded (8)\n",
              "Answer:</td>\n",
              "      <td id=\"T_49962_row2_col1\" class=\"data row2 col1\" >[]</td>\n",
              "      <td id=\"T_49962_row2_col2\" class=\"data row2 col2\" >['impulses']</td>\n",
              "      <td id=\"T_49962_row2_col3\" class=\"data row2 col3\" >impulses</td>\n",
              "      <td id=\"T_49962_row2_col4\" class=\"data row2 col4\" >1</td>\n",
              "    </tr>\n",
              "    <tr>\n",
              "      <th id=\"T_49962_level0_row3\" class=\"row_heading level0 row3\" >3</th>\n",
              "      <td id=\"T_49962_row3_col0\" class=\"data row3 col0\" >Cryptic crossword clue: not a good place for harold, as things turned out (8)\n",
              "Answer:</td>\n",
              "      <td id=\"T_49962_row3_col1\" class=\"data row3 col1\" >[]</td>\n",
              "      <td id=\"T_49962_row3_col2\" class=\"data row3 col2\" >['hastings']</td>\n",
              "      <td id=\"T_49962_row3_col3\" class=\"data row3 col3\" >Hastings</td>\n",
              "      <td id=\"T_49962_row3_col4\" class=\"data row3 col4\" >1</td>\n",
              "    </tr>\n",
              "    <tr>\n",
              "      <th id=\"T_49962_level0_row4\" class=\"row_heading level0 row4\" >4</th>\n",
              "      <td id=\"T_49962_row4_col0\" class=\"data row4 col0\" >Cryptic crossword clue: b & b abroad admits soak, making false claim (10)\n",
              "Answer:</td>\n",
              "      <td id=\"T_49962_row4_col1\" class=\"data row4 col1\" >[]</td>\n",
              "      <td id=\"T_49962_row4_col2\" class=\"data row4 col2\" >['pretension']</td>\n",
              "      <td id=\"T_49962_row4_col3\" class=\"data row4 col3\" >braggadocio</td>\n",
              "      <td id=\"T_49962_row4_col4\" class=\"data row4 col4\" >0</td>\n",
              "    </tr>\n",
              "    <tr>\n",
              "      <th id=\"T_49962_level0_row5\" class=\"row_heading level0 row5\" >5</th>\n",
              "      <td id=\"T_49962_row5_col0\" class=\"data row5 col0\" >Cryptic crossword clue: mother of lorraine or nancy lake (4)\n",
              "Answer:</td>\n",
              "      <td id=\"T_49962_row5_col1\" class=\"data row5 col1\" >[]</td>\n",
              "      <td id=\"T_49962_row5_col2\" class=\"data row5 col2\" >['mere']</td>\n",
              "      <td id=\"T_49962_row5_col3\" class=\"data row5 col3\" >Anne</td>\n",
              "      <td id=\"T_49962_row5_col4\" class=\"data row5 col4\" >0</td>\n",
              "    </tr>\n",
              "    <tr>\n",
              "      <th id=\"T_49962_level0_row6\" class=\"row_heading level0 row6\" >6</th>\n",
              "      <td id=\"T_49962_row6_col0\" class=\"data row6 col0\" >Cryptic crossword clue: cover band is after new hit when on the road (5,5)\n",
              "Answer:</td>\n",
              "      <td id=\"T_49962_row6_col1\" class=\"data row6 col1\" >[]</td>\n",
              "      <td id=\"T_49962_row6_col2\" class=\"data row6 col2\" >['third party']</td>\n",
              "      <td id=\"T_49962_row6_col3\" class=\"data row6 col3\" >cover version</td>\n",
              "      <td id=\"T_49962_row6_col4\" class=\"data row6 col4\" >0</td>\n",
              "    </tr>\n",
              "    <tr>\n",
              "      <th id=\"T_49962_level0_row7\" class=\"row_heading level0 row7\" >7</th>\n",
              "      <td id=\"T_49962_row7_col0\" class=\"data row7 col0\" >Cryptic crossword clue: heading for ditch, pal knocked from top of horse -- faller in effect? (6)\n",
              "Answer:</td>\n",
              "      <td id=\"T_49962_row7_col1\" class=\"data row7 col1\" >[]</td>\n",
              "      <td id=\"T_49962_row7_col2\" class=\"data row7 col2\" >['domino']</td>\n",
              "      <td id=\"T_49962_row7_col3\" class=\"data row7 col3\" >delphi</td>\n",
              "      <td id=\"T_49962_row7_col4\" class=\"data row7 col4\" >0</td>\n",
              "    </tr>\n",
              "    <tr>\n",
              "      <th id=\"T_49962_level0_row8\" class=\"row_heading level0 row8\" >8</th>\n",
              "      <td id=\"T_49962_row8_col0\" class=\"data row8 col0\" >Cryptic crossword clue: source of oil full of energy? (5)\n",
              "Answer:</td>\n",
              "      <td id=\"T_49962_row8_col1\" class=\"data row8 col1\" >[]</td>\n",
              "      <td id=\"T_49962_row8_col2\" class=\"data row8 col2\" >['olive']</td>\n",
              "      <td id=\"T_49962_row8_col3\" class=\"data row8 col3\" >olive</td>\n",
              "      <td id=\"T_49962_row8_col4\" class=\"data row8 col4\" >1</td>\n",
              "    </tr>\n",
              "    <tr>\n",
              "      <th id=\"T_49962_level0_row9\" class=\"row_heading level0 row9\" >9</th>\n",
              "      <td id=\"T_49962_row9_col0\" class=\"data row9 col0\" >Cryptic crossword clue: maintains a rising pressure (7)\n",
              "Answer:</td>\n",
              "      <td id=\"T_49962_row9_col1\" class=\"data row9 col1\" >[]</td>\n",
              "      <td id=\"T_49962_row9_col2\" class=\"data row9 col2\" >['asserts']</td>\n",
              "      <td id=\"T_49962_row9_col3\" class=\"data row9 col3\" >asserts</td>\n",
              "      <td id=\"T_49962_row9_col4\" class=\"data row9 col4\" >1</td>\n",
              "    </tr>\n",
              "    <tr>\n",
              "      <th id=\"T_49962_level0_row10\" class=\"row_heading level0 row10\" >10</th>\n",
              "      <td id=\"T_49962_row10_col0\" class=\"data row10 col0\" >Cryptic crossword clue: ineptly confuse us with a tail rhyme (12)\n",
              "Answer:</td>\n",
              "      <td id=\"T_49962_row10_col1\" class=\"data row10 col1\" >[]</td>\n",
              "      <td id=\"T_49962_row10_col2\" class=\"data row10 col2\" >['amateurishly']</td>\n",
              "      <td id=\"T_49962_row10_col3\" class=\"data row10 col3\" >misarticulate</td>\n",
              "      <td id=\"T_49962_row10_col4\" class=\"data row10 col4\" >0</td>\n",
              "    </tr>\n",
              "    <tr>\n",
              "      <th id=\"T_49962_level0_row11\" class=\"row_heading level0 row11\" >11</th>\n",
              "      <td id=\"T_49962_row11_col0\" class=\"data row11 col0\" >Cryptic crossword clue: moving two men on board to discard fish (8)\n",
              "Answer:</td>\n",
              "      <td id=\"T_49962_row11_col1\" class=\"data row11 col1\" >[]</td>\n",
              "      <td id=\"T_49962_row11_col2\" class=\"data row11 col2\" >['castling']</td>\n",
              "      <td id=\"T_49962_row11_col3\" class=\"data row11 col3\" >remove</td>\n",
              "      <td id=\"T_49962_row11_col4\" class=\"data row11 col4\" >0</td>\n",
              "    </tr>\n",
              "    <tr>\n",
              "      <th id=\"T_49962_level0_row12\" class=\"row_heading level0 row12\" >12</th>\n",
              "      <td id=\"T_49962_row12_col0\" class=\"data row12 col0\" >Cryptic crossword clue: by most of the panel, journalist is seen as guilty of an offence (8)\n",
              "Answer:</td>\n",
              "      <td id=\"T_49962_row12_col1\" class=\"data row12 col1\" >[]</td>\n",
              "      <td id=\"T_49962_row12_col2\" class=\"data row12 col2\" >['perjured']</td>\n",
              "      <td id=\"T_49962_row12_col3\" class=\"data row12 col3\" >culprit</td>\n",
              "      <td id=\"T_49962_row12_col4\" class=\"data row12 col4\" >0</td>\n",
              "    </tr>\n",
              "    <tr>\n",
              "      <th id=\"T_49962_level0_row13\" class=\"row_heading level0 row13\" >13</th>\n",
              "      <td id=\"T_49962_row13_col0\" class=\"data row13 col0\" >Cryptic crossword clue: skill getting pitta due for distribution (8)\n",
              "Answer:</td>\n",
              "      <td id=\"T_49962_row13_col1\" class=\"data row13 col1\" >[]</td>\n",
              "      <td id=\"T_49962_row13_col2\" class=\"data row13 col2\" >['aptitude']</td>\n",
              "      <td id=\"T_49962_row13_col3\" class=\"data row13 col3\" >aptitude</td>\n",
              "      <td id=\"T_49962_row13_col4\" class=\"data row13 col4\" >1</td>\n",
              "    </tr>\n",
              "    <tr>\n",
              "      <th id=\"T_49962_level0_row14\" class=\"row_heading level0 row14\" >14</th>\n",
              "      <td id=\"T_49962_row14_col0\" class=\"data row14 col0\" >Cryptic crossword clue: fast-moving sea journey round island point (3,4)\n",
              "Answer:</td>\n",
              "      <td id=\"T_49962_row14_col1\" class=\"data row14 col1\" >[]</td>\n",
              "      <td id=\"T_49962_row14_col2\" class=\"data row14 col2\" >['rip tide']</td>\n",
              "      <td id=\"T_49962_row14_col3\" class=\"data row14 col3\" >rip tide</td>\n",
              "      <td id=\"T_49962_row14_col4\" class=\"data row14 col4\" >1</td>\n",
              "    </tr>\n",
              "    <tr>\n",
              "      <th id=\"T_49962_level0_row15\" class=\"row_heading level0 row15\" >15</th>\n",
              "      <td id=\"T_49962_row15_col0\" class=\"data row15 col0\" >Cryptic crossword clue: simple body of water (4)\n",
              "Answer:</td>\n",
              "      <td id=\"T_49962_row15_col1\" class=\"data row15 col1\" >[]</td>\n",
              "      <td id=\"T_49962_row15_col2\" class=\"data row15 col2\" >['mere']</td>\n",
              "      <td id=\"T_49962_row15_col3\" class=\"data row15 col3\" >mere</td>\n",
              "      <td id=\"T_49962_row15_col4\" class=\"data row15 col4\" >1</td>\n",
              "    </tr>\n",
              "    <tr>\n",
              "      <th id=\"T_49962_level0_row16\" class=\"row_heading level0 row16\" >16</th>\n",
              "      <td id=\"T_49962_row16_col0\" class=\"data row16 col0\" >Cryptic crossword clue: depressed having no trumps in contract (6)\n",
              "Answer:</td>\n",
              "      <td id=\"T_49962_row16_col1\" class=\"data row16 col1\" >[]</td>\n",
              "      <td id=\"T_49962_row16_col2\" class=\"data row16 col2\" >['dented']</td>\n",
              "      <td id=\"T_49962_row16_col3\" class=\"data row16 col3\" >morose</td>\n",
              "      <td id=\"T_49962_row16_col4\" class=\"data row16 col4\" >0</td>\n",
              "    </tr>\n",
              "    <tr>\n",
              "      <th id=\"T_49962_level0_row17\" class=\"row_heading level0 row17\" >17</th>\n",
              "      <td id=\"T_49962_row17_col0\" class=\"data row17 col0\" >Cryptic crossword clue: stunned, seeing cowries pawned (5,7)\n",
              "Answer:</td>\n",
              "      <td id=\"T_49962_row17_col1\" class=\"data row17 col1\" >[]</td>\n",
              "      <td id=\"T_49962_row17_col2\" class=\"data row17 col2\" >['shell shocked']</td>\n",
              "      <td id=\"T_49962_row17_col3\" class=\"data row17 col3\" >shell shocked</td>\n",
              "      <td id=\"T_49962_row17_col4\" class=\"data row17 col4\" >1</td>\n",
              "    </tr>\n",
              "    <tr>\n",
              "      <th id=\"T_49962_level0_row18\" class=\"row_heading level0 row18\" >18</th>\n",
              "      <td id=\"T_49962_row18_col0\" class=\"data row18 col0\" >Cryptic crossword clue: rough cases fine on old watch (7)\n",
              "Answer:</td>\n",
              "      <td id=\"T_49962_row18_col1\" class=\"data row18 col1\" >[]</td>\n",
              "      <td id=\"T_49962_row18_col2\" class=\"data row18 col2\" >['lookout']</td>\n",
              "      <td id=\"T_49962_row18_col3\" class=\"data row18 col3\" >scoffed</td>\n",
              "      <td id=\"T_49962_row18_col4\" class=\"data row18 col4\" >0</td>\n",
              "    </tr>\n",
              "    <tr>\n",
              "      <th id=\"T_49962_level0_row19\" class=\"row_heading level0 row19\" >19</th>\n",
              "      <td id=\"T_49962_row19_col0\" class=\"data row19 col0\" >Cryptic crossword clue: succession of notes transposed in opera gig (8)\n",
              "Answer:</td>\n",
              "      <td id=\"T_49962_row19_col1\" class=\"data row19 col1\" >[]</td>\n",
              "      <td id=\"T_49962_row19_col2\" class=\"data row19 col2\" >['arpeggio']</td>\n",
              "      <td id=\"T_49962_row19_col3\" class=\"data row19 col3\" >scalping</td>\n",
              "      <td id=\"T_49962_row19_col4\" class=\"data row19 col4\" >0</td>\n",
              "    </tr>\n",
              "  </tbody>\n",
              "</table>\n"
            ],
            "text/plain": [
              "<pandas.io.formats.style.Styler object at 0x7ec8e61876a0>"
            ]
          },
          "metadata": {},
          "output_type": "display_data"
        },
        {
          "data": {
            "text/html": [
              "\n",
              "                <div style='\n",
              "                    text-align: center;\n",
              "                    font-size: 16px;\n",
              "                    font-weight: bold;\n",
              "                    color: #555;\n",
              "                    margin: 10px 0;'>\n",
              "                    ... 180 more rows not displayed ...\n",
              "                </div>\n",
              "                "
            ],
            "text/plain": [
              "<IPython.core.display.HTML object>"
            ]
          },
          "metadata": {},
          "output_type": "display_data"
        }
      ],
      "source": [
        "from dspy.evaluate import Evaluate\n",
        "\n",
        "# Set up the evaluator, which can be re-used in your code.\n",
        "evaluator = Evaluate(devset=valset, num_threads=2, display_progress=True, display_table=20,return_outputs=True)\n",
        "\n",
        "# Launch evaluation.\n",
        "evaluation_score, outputs = evaluator(optimized_cot, metric=wsd_metric)"
      ]
    },
    {
      "cell_type": "code",
      "execution_count": 329,
      "metadata": {
        "colab": {
          "base_uri": "https://localhost:8080/"
        },
        "id": "UO-HcLAy4FFR",
        "outputId": "338ad462-245d-4eef-bf61-d6436c311188"
      },
      "outputs": [
        {
          "data": {
            "text/plain": [
              "31.5"
            ]
          },
          "execution_count": 329,
          "metadata": {},
          "output_type": "execute_result"
        }
      ],
      "source": [
        "evaluation_score"
      ]
    },
    {
      "cell_type": "code",
      "execution_count": 330,
      "metadata": {
        "id": "SVYESECCVm-x"
      },
      "outputs": [],
      "source": [
        "outputs = pd.DataFrame(outputs)"
      ]
    },
    {
      "cell_type": "code",
      "execution_count": 331,
      "metadata": {
        "id": "fvt4dbmehps_"
      },
      "outputs": [],
      "source": [
        "outputs.columns = ['problem','response','result']"
      ]
    },
    {
      "cell_type": "code",
      "execution_count": 332,
      "metadata": {
        "colab": {
          "base_uri": "https://localhost:8080/"
        },
        "id": "PDXfPXcFzclC",
        "outputId": "2d7aecad-24b0-47e4-9ffa-ad474b82957d"
      },
      "outputs": [
        {
          "data": {
            "text/plain": [
              "Example({'question': 'Cryptic crossword clue: gruff ace grabbed by hack maybe (6)\\nAnswer:', 'options': [], 'answer': ['hoarse']}) (input_keys={'question', 'options'})"
            ]
          },
          "execution_count": 332,
          "metadata": {},
          "output_type": "execute_result"
        }
      ],
      "source": [
        "outputs.iloc[95,0]"
      ]
    },
    {
      "cell_type": "code",
      "execution_count": 333,
      "metadata": {
        "id": "kEjaqXrMhEmE"
      },
      "outputs": [],
      "source": [
        "outputs.to_json('cryptonite_GPT_4o_3_shot_results.json',orient='records')"
      ]
    },
    {
      "cell_type": "code",
      "execution_count": null,
      "metadata": {
        "id": "eCkI3DYJ8WhL"
      },
      "outputs": [],
      "source": []
    }
  ],
  "metadata": {
    "colab": {
      "provenance": []
    },
    "kernelspec": {
      "display_name": "Python 3",
      "name": "python3"
    },
    "language_info": {
      "name": "python"
    },
    "widgets": {
      "application/vnd.jupyter.widget-state+json": {
        "00d81810a6f64ca4bfaa082ebef739c0": {
          "model_module": "@jupyter-widgets/controls",
          "model_module_version": "1.5.0",
          "model_name": "HTMLModel",
          "state": {
            "_dom_classes": [],
            "_model_module": "@jupyter-widgets/controls",
            "_model_module_version": "1.5.0",
            "_model_name": "HTMLModel",
            "_view_count": null,
            "_view_module": "@jupyter-widgets/controls",
            "_view_module_version": "1.5.0",
            "_view_name": "HTMLView",
            "description": "",
            "description_tooltip": null,
            "layout": "IPY_MODEL_f995c64219134afca048ba1d8d408b08",
            "placeholder": "​",
            "style": "IPY_MODEL_4a0c30da6ee249d3a4965ed493217da1",
            "value": " 20926/20926 [00:32&lt;00:00, 726.68 examples/s]"
          }
        },
        "083653c42fba4c9e9be2350e2122a693": {
          "model_module": "@jupyter-widgets/controls",
          "model_module_version": "1.5.0",
          "model_name": "DescriptionStyleModel",
          "state": {
            "_model_module": "@jupyter-widgets/controls",
            "_model_module_version": "1.5.0",
            "_model_name": "DescriptionStyleModel",
            "_view_count": null,
            "_view_module": "@jupyter-widgets/base",
            "_view_module_version": "1.2.0",
            "_view_name": "StyleView",
            "description_width": ""
          }
        },
        "0eb2ac70d27a4ef58a8426e4500eb4f8": {
          "model_module": "@jupyter-widgets/base",
          "model_module_version": "1.2.0",
          "model_name": "LayoutModel",
          "state": {
            "_model_module": "@jupyter-widgets/base",
            "_model_module_version": "1.2.0",
            "_model_name": "LayoutModel",
            "_view_count": null,
            "_view_module": "@jupyter-widgets/base",
            "_view_module_version": "1.2.0",
            "_view_name": "LayoutView",
            "align_content": null,
            "align_items": null,
            "align_self": null,
            "border": null,
            "bottom": null,
            "display": null,
            "flex": null,
            "flex_flow": null,
            "grid_area": null,
            "grid_auto_columns": null,
            "grid_auto_flow": null,
            "grid_auto_rows": null,
            "grid_column": null,
            "grid_gap": null,
            "grid_row": null,
            "grid_template_areas": null,
            "grid_template_columns": null,
            "grid_template_rows": null,
            "height": null,
            "justify_content": null,
            "justify_items": null,
            "left": null,
            "margin": null,
            "max_height": null,
            "max_width": null,
            "min_height": null,
            "min_width": null,
            "object_fit": null,
            "object_position": null,
            "order": null,
            "overflow": null,
            "overflow_x": null,
            "overflow_y": null,
            "padding": null,
            "right": null,
            "top": null,
            "visibility": null,
            "width": null
          }
        },
        "1e9d8547b27b425a90bed4687207ab73": {
          "model_module": "@jupyter-widgets/controls",
          "model_module_version": "1.5.0",
          "model_name": "DescriptionStyleModel",
          "state": {
            "_model_module": "@jupyter-widgets/controls",
            "_model_module_version": "1.5.0",
            "_model_name": "DescriptionStyleModel",
            "_view_count": null,
            "_view_module": "@jupyter-widgets/base",
            "_view_module_version": "1.2.0",
            "_view_name": "StyleView",
            "description_width": ""
          }
        },
        "21b8ed0cc81a478f888d8046098a2478": {
          "model_module": "@jupyter-widgets/controls",
          "model_module_version": "1.5.0",
          "model_name": "ProgressStyleModel",
          "state": {
            "_model_module": "@jupyter-widgets/controls",
            "_model_module_version": "1.5.0",
            "_model_name": "ProgressStyleModel",
            "_view_count": null,
            "_view_module": "@jupyter-widgets/base",
            "_view_module_version": "1.2.0",
            "_view_name": "StyleView",
            "bar_color": null,
            "description_width": ""
          }
        },
        "23ccdd34e8a64cab89a6c14869461443": {
          "model_module": "@jupyter-widgets/base",
          "model_module_version": "1.2.0",
          "model_name": "LayoutModel",
          "state": {
            "_model_module": "@jupyter-widgets/base",
            "_model_module_version": "1.2.0",
            "_model_name": "LayoutModel",
            "_view_count": null,
            "_view_module": "@jupyter-widgets/base",
            "_view_module_version": "1.2.0",
            "_view_name": "LayoutView",
            "align_content": null,
            "align_items": null,
            "align_self": null,
            "border": null,
            "bottom": null,
            "display": null,
            "flex": null,
            "flex_flow": null,
            "grid_area": null,
            "grid_auto_columns": null,
            "grid_auto_flow": null,
            "grid_auto_rows": null,
            "grid_column": null,
            "grid_gap": null,
            "grid_row": null,
            "grid_template_areas": null,
            "grid_template_columns": null,
            "grid_template_rows": null,
            "height": null,
            "justify_content": null,
            "justify_items": null,
            "left": null,
            "margin": null,
            "max_height": null,
            "max_width": null,
            "min_height": null,
            "min_width": null,
            "object_fit": null,
            "object_position": null,
            "order": null,
            "overflow": null,
            "overflow_x": null,
            "overflow_y": null,
            "padding": null,
            "right": null,
            "top": null,
            "visibility": null,
            "width": null
          }
        },
        "47dc0312aa6a4360b33e36b43bb1ba9c": {
          "model_module": "@jupyter-widgets/controls",
          "model_module_version": "1.5.0",
          "model_name": "HBoxModel",
          "state": {
            "_dom_classes": [],
            "_model_module": "@jupyter-widgets/controls",
            "_model_module_version": "1.5.0",
            "_model_name": "HBoxModel",
            "_view_count": null,
            "_view_module": "@jupyter-widgets/controls",
            "_view_module_version": "1.5.0",
            "_view_name": "HBoxView",
            "box_style": "",
            "children": [
              "IPY_MODEL_d439691a95784d17827f1ef01a9df36f",
              "IPY_MODEL_ac07b92fa1d742f28a623a5e978aceef",
              "IPY_MODEL_f548768df68d4abcb6b92a192869105d"
            ],
            "layout": "IPY_MODEL_7e2b56421ba74a14bbed8d5ca091d734"
          }
        },
        "4a0c30da6ee249d3a4965ed493217da1": {
          "model_module": "@jupyter-widgets/controls",
          "model_module_version": "1.5.0",
          "model_name": "DescriptionStyleModel",
          "state": {
            "_model_module": "@jupyter-widgets/controls",
            "_model_module_version": "1.5.0",
            "_model_name": "DescriptionStyleModel",
            "_view_count": null,
            "_view_module": "@jupyter-widgets/base",
            "_view_module_version": "1.2.0",
            "_view_name": "StyleView",
            "description_width": ""
          }
        },
        "4f7e6fe8de574e11bf43f4bd2d63afb6": {
          "model_module": "@jupyter-widgets/controls",
          "model_module_version": "1.5.0",
          "model_name": "HTMLModel",
          "state": {
            "_dom_classes": [],
            "_model_module": "@jupyter-widgets/controls",
            "_model_module_version": "1.5.0",
            "_model_name": "HTMLModel",
            "_view_count": null,
            "_view_module": "@jupyter-widgets/controls",
            "_view_module_version": "1.5.0",
            "_view_name": "HTMLView",
            "description": "",
            "description_tooltip": null,
            "layout": "IPY_MODEL_b76663cf4aad41a5baf7a22837150232",
            "placeholder": "​",
            "style": "IPY_MODEL_1e9d8547b27b425a90bed4687207ab73",
            "value": "Generating train split: 100%"
          }
        },
        "62c141c514f648c0abb07dda22fd95ea": {
          "model_module": "@jupyter-widgets/controls",
          "model_module_version": "1.5.0",
          "model_name": "DescriptionStyleModel",
          "state": {
            "_model_module": "@jupyter-widgets/controls",
            "_model_module_version": "1.5.0",
            "_model_name": "DescriptionStyleModel",
            "_view_count": null,
            "_view_module": "@jupyter-widgets/base",
            "_view_module_version": "1.2.0",
            "_view_name": "StyleView",
            "description_width": ""
          }
        },
        "72b91ee1ee004ea6b4012e085138d527": {
          "model_module": "@jupyter-widgets/base",
          "model_module_version": "1.2.0",
          "model_name": "LayoutModel",
          "state": {
            "_model_module": "@jupyter-widgets/base",
            "_model_module_version": "1.2.0",
            "_model_name": "LayoutModel",
            "_view_count": null,
            "_view_module": "@jupyter-widgets/base",
            "_view_module_version": "1.2.0",
            "_view_name": "LayoutView",
            "align_content": null,
            "align_items": null,
            "align_self": null,
            "border": null,
            "bottom": null,
            "display": null,
            "flex": null,
            "flex_flow": null,
            "grid_area": null,
            "grid_auto_columns": null,
            "grid_auto_flow": null,
            "grid_auto_rows": null,
            "grid_column": null,
            "grid_gap": null,
            "grid_row": null,
            "grid_template_areas": null,
            "grid_template_columns": null,
            "grid_template_rows": null,
            "height": null,
            "justify_content": null,
            "justify_items": null,
            "left": null,
            "margin": null,
            "max_height": null,
            "max_width": null,
            "min_height": null,
            "min_width": null,
            "object_fit": null,
            "object_position": null,
            "order": null,
            "overflow": null,
            "overflow_x": null,
            "overflow_y": null,
            "padding": null,
            "right": null,
            "top": null,
            "visibility": null,
            "width": null
          }
        },
        "7e2b56421ba74a14bbed8d5ca091d734": {
          "model_module": "@jupyter-widgets/base",
          "model_module_version": "1.2.0",
          "model_name": "LayoutModel",
          "state": {
            "_model_module": "@jupyter-widgets/base",
            "_model_module_version": "1.2.0",
            "_model_name": "LayoutModel",
            "_view_count": null,
            "_view_module": "@jupyter-widgets/base",
            "_view_module_version": "1.2.0",
            "_view_name": "LayoutView",
            "align_content": null,
            "align_items": null,
            "align_self": null,
            "border": null,
            "bottom": null,
            "display": null,
            "flex": null,
            "flex_flow": null,
            "grid_area": null,
            "grid_auto_columns": null,
            "grid_auto_flow": null,
            "grid_auto_rows": null,
            "grid_column": null,
            "grid_gap": null,
            "grid_row": null,
            "grid_template_areas": null,
            "grid_template_columns": null,
            "grid_template_rows": null,
            "height": null,
            "justify_content": null,
            "justify_items": null,
            "left": null,
            "margin": null,
            "max_height": null,
            "max_width": null,
            "min_height": null,
            "min_width": null,
            "object_fit": null,
            "object_position": null,
            "order": null,
            "overflow": null,
            "overflow_x": null,
            "overflow_y": null,
            "padding": null,
            "right": null,
            "top": null,
            "visibility": null,
            "width": null
          }
        },
        "8167313206db42e381ffd18605ca2dcd": {
          "model_module": "@jupyter-widgets/controls",
          "model_module_version": "1.5.0",
          "model_name": "HBoxModel",
          "state": {
            "_dom_classes": [],
            "_model_module": "@jupyter-widgets/controls",
            "_model_module_version": "1.5.0",
            "_model_name": "HBoxModel",
            "_view_count": null,
            "_view_module": "@jupyter-widgets/controls",
            "_view_module_version": "1.5.0",
            "_view_name": "HBoxView",
            "box_style": "",
            "children": [
              "IPY_MODEL_836ef66ec92f409e96966e0169d695a2",
              "IPY_MODEL_d02dd84c55394ae7b86cb80c639dba73",
              "IPY_MODEL_c55355369eed49c1b04d95b99fc7a29d"
            ],
            "layout": "IPY_MODEL_8e0ee474fa24488db48fb0cd84bfac5e"
          }
        },
        "836ef66ec92f409e96966e0169d695a2": {
          "model_module": "@jupyter-widgets/controls",
          "model_module_version": "1.5.0",
          "model_name": "HTMLModel",
          "state": {
            "_dom_classes": [],
            "_model_module": "@jupyter-widgets/controls",
            "_model_module_version": "1.5.0",
            "_model_name": "HTMLModel",
            "_view_count": null,
            "_view_module": "@jupyter-widgets/controls",
            "_view_module_version": "1.5.0",
            "_view_name": "HTMLView",
            "description": "",
            "description_tooltip": null,
            "layout": "IPY_MODEL_23ccdd34e8a64cab89a6c14869461443",
            "placeholder": "​",
            "style": "IPY_MODEL_62c141c514f648c0abb07dda22fd95ea",
            "value": "Generating validation split: 100%"
          }
        },
        "8afef50bcc5e4b058d36e5bbe42941b6": {
          "model_module": "@jupyter-widgets/base",
          "model_module_version": "1.2.0",
          "model_name": "LayoutModel",
          "state": {
            "_model_module": "@jupyter-widgets/base",
            "_model_module_version": "1.2.0",
            "_model_name": "LayoutModel",
            "_view_count": null,
            "_view_module": "@jupyter-widgets/base",
            "_view_module_version": "1.2.0",
            "_view_name": "LayoutView",
            "align_content": null,
            "align_items": null,
            "align_self": null,
            "border": null,
            "bottom": null,
            "display": null,
            "flex": null,
            "flex_flow": null,
            "grid_area": null,
            "grid_auto_columns": null,
            "grid_auto_flow": null,
            "grid_auto_rows": null,
            "grid_column": null,
            "grid_gap": null,
            "grid_row": null,
            "grid_template_areas": null,
            "grid_template_columns": null,
            "grid_template_rows": null,
            "height": null,
            "justify_content": null,
            "justify_items": null,
            "left": null,
            "margin": null,
            "max_height": null,
            "max_width": null,
            "min_height": null,
            "min_width": null,
            "object_fit": null,
            "object_position": null,
            "order": null,
            "overflow": null,
            "overflow_x": null,
            "overflow_y": null,
            "padding": null,
            "right": null,
            "top": null,
            "visibility": null,
            "width": null
          }
        },
        "8e0ee474fa24488db48fb0cd84bfac5e": {
          "model_module": "@jupyter-widgets/base",
          "model_module_version": "1.2.0",
          "model_name": "LayoutModel",
          "state": {
            "_model_module": "@jupyter-widgets/base",
            "_model_module_version": "1.2.0",
            "_model_name": "LayoutModel",
            "_view_count": null,
            "_view_module": "@jupyter-widgets/base",
            "_view_module_version": "1.2.0",
            "_view_name": "LayoutView",
            "align_content": null,
            "align_items": null,
            "align_self": null,
            "border": null,
            "bottom": null,
            "display": null,
            "flex": null,
            "flex_flow": null,
            "grid_area": null,
            "grid_auto_columns": null,
            "grid_auto_flow": null,
            "grid_auto_rows": null,
            "grid_column": null,
            "grid_gap": null,
            "grid_row": null,
            "grid_template_areas": null,
            "grid_template_columns": null,
            "grid_template_rows": null,
            "height": null,
            "justify_content": null,
            "justify_items": null,
            "left": null,
            "margin": null,
            "max_height": null,
            "max_width": null,
            "min_height": null,
            "min_width": null,
            "object_fit": null,
            "object_position": null,
            "order": null,
            "overflow": null,
            "overflow_x": null,
            "overflow_y": null,
            "padding": null,
            "right": null,
            "top": null,
            "visibility": null,
            "width": null
          }
        },
        "92875d475982484dbbfd0cdff708c75b": {
          "model_module": "@jupyter-widgets/base",
          "model_module_version": "1.2.0",
          "model_name": "LayoutModel",
          "state": {
            "_model_module": "@jupyter-widgets/base",
            "_model_module_version": "1.2.0",
            "_model_name": "LayoutModel",
            "_view_count": null,
            "_view_module": "@jupyter-widgets/base",
            "_view_module_version": "1.2.0",
            "_view_name": "LayoutView",
            "align_content": null,
            "align_items": null,
            "align_self": null,
            "border": null,
            "bottom": null,
            "display": null,
            "flex": null,
            "flex_flow": null,
            "grid_area": null,
            "grid_auto_columns": null,
            "grid_auto_flow": null,
            "grid_auto_rows": null,
            "grid_column": null,
            "grid_gap": null,
            "grid_row": null,
            "grid_template_areas": null,
            "grid_template_columns": null,
            "grid_template_rows": null,
            "height": null,
            "justify_content": null,
            "justify_items": null,
            "left": null,
            "margin": null,
            "max_height": null,
            "max_width": null,
            "min_height": null,
            "min_width": null,
            "object_fit": null,
            "object_position": null,
            "order": null,
            "overflow": null,
            "overflow_x": null,
            "overflow_y": null,
            "padding": null,
            "right": null,
            "top": null,
            "visibility": null,
            "width": null
          }
        },
        "a0333d9af3f04d13a815dcb5578f9d82": {
          "model_module": "@jupyter-widgets/base",
          "model_module_version": "1.2.0",
          "model_name": "LayoutModel",
          "state": {
            "_model_module": "@jupyter-widgets/base",
            "_model_module_version": "1.2.0",
            "_model_name": "LayoutModel",
            "_view_count": null,
            "_view_module": "@jupyter-widgets/base",
            "_view_module_version": "1.2.0",
            "_view_name": "LayoutView",
            "align_content": null,
            "align_items": null,
            "align_self": null,
            "border": null,
            "bottom": null,
            "display": null,
            "flex": null,
            "flex_flow": null,
            "grid_area": null,
            "grid_auto_columns": null,
            "grid_auto_flow": null,
            "grid_auto_rows": null,
            "grid_column": null,
            "grid_gap": null,
            "grid_row": null,
            "grid_template_areas": null,
            "grid_template_columns": null,
            "grid_template_rows": null,
            "height": null,
            "justify_content": null,
            "justify_items": null,
            "left": null,
            "margin": null,
            "max_height": null,
            "max_width": null,
            "min_height": null,
            "min_width": null,
            "object_fit": null,
            "object_position": null,
            "order": null,
            "overflow": null,
            "overflow_x": null,
            "overflow_y": null,
            "padding": null,
            "right": null,
            "top": null,
            "visibility": null,
            "width": null
          }
        },
        "a2b4bd1779404a3285b04c371b160da0": {
          "model_module": "@jupyter-widgets/controls",
          "model_module_version": "1.5.0",
          "model_name": "HBoxModel",
          "state": {
            "_dom_classes": [],
            "_model_module": "@jupyter-widgets/controls",
            "_model_module_version": "1.5.0",
            "_model_name": "HBoxModel",
            "_view_count": null,
            "_view_module": "@jupyter-widgets/controls",
            "_view_module_version": "1.5.0",
            "_view_name": "HBoxView",
            "box_style": "",
            "children": [
              "IPY_MODEL_4f7e6fe8de574e11bf43f4bd2d63afb6",
              "IPY_MODEL_ccbd5da2dc654c629737b53114a9185d",
              "IPY_MODEL_00d81810a6f64ca4bfaa082ebef739c0"
            ],
            "layout": "IPY_MODEL_d63fa7c577784ec8af4ea7a3d0205336"
          }
        },
        "a96296cac23341ecb21b5789214f8ba9": {
          "model_module": "@jupyter-widgets/controls",
          "model_module_version": "1.5.0",
          "model_name": "ProgressStyleModel",
          "state": {
            "_model_module": "@jupyter-widgets/controls",
            "_model_module_version": "1.5.0",
            "_model_name": "ProgressStyleModel",
            "_view_count": null,
            "_view_module": "@jupyter-widgets/base",
            "_view_module_version": "1.2.0",
            "_view_name": "StyleView",
            "bar_color": null,
            "description_width": ""
          }
        },
        "ac07b92fa1d742f28a623a5e978aceef": {
          "model_module": "@jupyter-widgets/controls",
          "model_module_version": "1.5.0",
          "model_name": "FloatProgressModel",
          "state": {
            "_dom_classes": [],
            "_model_module": "@jupyter-widgets/controls",
            "_model_module_version": "1.5.0",
            "_model_name": "FloatProgressModel",
            "_view_count": null,
            "_view_module": "@jupyter-widgets/controls",
            "_view_module_version": "1.5.0",
            "_view_name": "ProgressView",
            "bar_style": "success",
            "description": "",
            "description_tooltip": null,
            "layout": "IPY_MODEL_a0333d9af3f04d13a815dcb5578f9d82",
            "max": 26157,
            "min": 0,
            "orientation": "horizontal",
            "style": "IPY_MODEL_a96296cac23341ecb21b5789214f8ba9",
            "value": 26157
          }
        },
        "b76663cf4aad41a5baf7a22837150232": {
          "model_module": "@jupyter-widgets/base",
          "model_module_version": "1.2.0",
          "model_name": "LayoutModel",
          "state": {
            "_model_module": "@jupyter-widgets/base",
            "_model_module_version": "1.2.0",
            "_model_name": "LayoutModel",
            "_view_count": null,
            "_view_module": "@jupyter-widgets/base",
            "_view_module_version": "1.2.0",
            "_view_name": "LayoutView",
            "align_content": null,
            "align_items": null,
            "align_self": null,
            "border": null,
            "bottom": null,
            "display": null,
            "flex": null,
            "flex_flow": null,
            "grid_area": null,
            "grid_auto_columns": null,
            "grid_auto_flow": null,
            "grid_auto_rows": null,
            "grid_column": null,
            "grid_gap": null,
            "grid_row": null,
            "grid_template_areas": null,
            "grid_template_columns": null,
            "grid_template_rows": null,
            "height": null,
            "justify_content": null,
            "justify_items": null,
            "left": null,
            "margin": null,
            "max_height": null,
            "max_width": null,
            "min_height": null,
            "min_width": null,
            "object_fit": null,
            "object_position": null,
            "order": null,
            "overflow": null,
            "overflow_x": null,
            "overflow_y": null,
            "padding": null,
            "right": null,
            "top": null,
            "visibility": null,
            "width": null
          }
        },
        "b98a219ba9d44c7c9a9c606fc08a6c78": {
          "model_module": "@jupyter-widgets/controls",
          "model_module_version": "1.5.0",
          "model_name": "DescriptionStyleModel",
          "state": {
            "_model_module": "@jupyter-widgets/controls",
            "_model_module_version": "1.5.0",
            "_model_name": "DescriptionStyleModel",
            "_view_count": null,
            "_view_module": "@jupyter-widgets/base",
            "_view_module_version": "1.2.0",
            "_view_name": "StyleView",
            "description_width": ""
          }
        },
        "c55355369eed49c1b04d95b99fc7a29d": {
          "model_module": "@jupyter-widgets/controls",
          "model_module_version": "1.5.0",
          "model_name": "HTMLModel",
          "state": {
            "_dom_classes": [],
            "_model_module": "@jupyter-widgets/controls",
            "_model_module_version": "1.5.0",
            "_model_name": "HTMLModel",
            "_view_count": null,
            "_view_module": "@jupyter-widgets/controls",
            "_view_module_version": "1.5.0",
            "_view_name": "HTMLView",
            "description": "",
            "description_tooltip": null,
            "layout": "IPY_MODEL_92875d475982484dbbfd0cdff708c75b",
            "placeholder": "​",
            "style": "IPY_MODEL_083653c42fba4c9e9be2350e2122a693",
            "value": " 5231/5231 [00:09&lt;00:00, 698.15 examples/s]"
          }
        },
        "ca939e95f76b49958186e85b72af60ef": {
          "model_module": "@jupyter-widgets/controls",
          "model_module_version": "1.5.0",
          "model_name": "ProgressStyleModel",
          "state": {
            "_model_module": "@jupyter-widgets/controls",
            "_model_module_version": "1.5.0",
            "_model_name": "ProgressStyleModel",
            "_view_count": null,
            "_view_module": "@jupyter-widgets/base",
            "_view_module_version": "1.2.0",
            "_view_name": "StyleView",
            "bar_color": null,
            "description_width": ""
          }
        },
        "ccbd5da2dc654c629737b53114a9185d": {
          "model_module": "@jupyter-widgets/controls",
          "model_module_version": "1.5.0",
          "model_name": "FloatProgressModel",
          "state": {
            "_dom_classes": [],
            "_model_module": "@jupyter-widgets/controls",
            "_model_module_version": "1.5.0",
            "_model_name": "FloatProgressModel",
            "_view_count": null,
            "_view_module": "@jupyter-widgets/controls",
            "_view_module_version": "1.5.0",
            "_view_name": "ProgressView",
            "bar_style": "success",
            "description": "",
            "description_tooltip": null,
            "layout": "IPY_MODEL_8afef50bcc5e4b058d36e5bbe42941b6",
            "max": 20926,
            "min": 0,
            "orientation": "horizontal",
            "style": "IPY_MODEL_21b8ed0cc81a478f888d8046098a2478",
            "value": 20926
          }
        },
        "cd21db94e41849ad954e1c187aed82c7": {
          "model_module": "@jupyter-widgets/base",
          "model_module_version": "1.2.0",
          "model_name": "LayoutModel",
          "state": {
            "_model_module": "@jupyter-widgets/base",
            "_model_module_version": "1.2.0",
            "_model_name": "LayoutModel",
            "_view_count": null,
            "_view_module": "@jupyter-widgets/base",
            "_view_module_version": "1.2.0",
            "_view_name": "LayoutView",
            "align_content": null,
            "align_items": null,
            "align_self": null,
            "border": null,
            "bottom": null,
            "display": null,
            "flex": null,
            "flex_flow": null,
            "grid_area": null,
            "grid_auto_columns": null,
            "grid_auto_flow": null,
            "grid_auto_rows": null,
            "grid_column": null,
            "grid_gap": null,
            "grid_row": null,
            "grid_template_areas": null,
            "grid_template_columns": null,
            "grid_template_rows": null,
            "height": null,
            "justify_content": null,
            "justify_items": null,
            "left": null,
            "margin": null,
            "max_height": null,
            "max_width": null,
            "min_height": null,
            "min_width": null,
            "object_fit": null,
            "object_position": null,
            "order": null,
            "overflow": null,
            "overflow_x": null,
            "overflow_y": null,
            "padding": null,
            "right": null,
            "top": null,
            "visibility": null,
            "width": null
          }
        },
        "d02dd84c55394ae7b86cb80c639dba73": {
          "model_module": "@jupyter-widgets/controls",
          "model_module_version": "1.5.0",
          "model_name": "FloatProgressModel",
          "state": {
            "_dom_classes": [],
            "_model_module": "@jupyter-widgets/controls",
            "_model_module_version": "1.5.0",
            "_model_name": "FloatProgressModel",
            "_view_count": null,
            "_view_module": "@jupyter-widgets/controls",
            "_view_module_version": "1.5.0",
            "_view_name": "ProgressView",
            "bar_style": "success",
            "description": "",
            "description_tooltip": null,
            "layout": "IPY_MODEL_cd21db94e41849ad954e1c187aed82c7",
            "max": 5231,
            "min": 0,
            "orientation": "horizontal",
            "style": "IPY_MODEL_ca939e95f76b49958186e85b72af60ef",
            "value": 5231
          }
        },
        "d439691a95784d17827f1ef01a9df36f": {
          "model_module": "@jupyter-widgets/controls",
          "model_module_version": "1.5.0",
          "model_name": "HTMLModel",
          "state": {
            "_dom_classes": [],
            "_model_module": "@jupyter-widgets/controls",
            "_model_module_version": "1.5.0",
            "_model_name": "HTMLModel",
            "_view_count": null,
            "_view_module": "@jupyter-widgets/controls",
            "_view_module_version": "1.5.0",
            "_view_name": "HTMLView",
            "description": "",
            "description_tooltip": null,
            "layout": "IPY_MODEL_72b91ee1ee004ea6b4012e085138d527",
            "placeholder": "​",
            "style": "IPY_MODEL_b98a219ba9d44c7c9a9c606fc08a6c78",
            "value": "Generating default split: 100%"
          }
        },
        "d63fa7c577784ec8af4ea7a3d0205336": {
          "model_module": "@jupyter-widgets/base",
          "model_module_version": "1.2.0",
          "model_name": "LayoutModel",
          "state": {
            "_model_module": "@jupyter-widgets/base",
            "_model_module_version": "1.2.0",
            "_model_name": "LayoutModel",
            "_view_count": null,
            "_view_module": "@jupyter-widgets/base",
            "_view_module_version": "1.2.0",
            "_view_name": "LayoutView",
            "align_content": null,
            "align_items": null,
            "align_self": null,
            "border": null,
            "bottom": null,
            "display": null,
            "flex": null,
            "flex_flow": null,
            "grid_area": null,
            "grid_auto_columns": null,
            "grid_auto_flow": null,
            "grid_auto_rows": null,
            "grid_column": null,
            "grid_gap": null,
            "grid_row": null,
            "grid_template_areas": null,
            "grid_template_columns": null,
            "grid_template_rows": null,
            "height": null,
            "justify_content": null,
            "justify_items": null,
            "left": null,
            "margin": null,
            "max_height": null,
            "max_width": null,
            "min_height": null,
            "min_width": null,
            "object_fit": null,
            "object_position": null,
            "order": null,
            "overflow": null,
            "overflow_x": null,
            "overflow_y": null,
            "padding": null,
            "right": null,
            "top": null,
            "visibility": null,
            "width": null
          }
        },
        "f548768df68d4abcb6b92a192869105d": {
          "model_module": "@jupyter-widgets/controls",
          "model_module_version": "1.5.0",
          "model_name": "HTMLModel",
          "state": {
            "_dom_classes": [],
            "_model_module": "@jupyter-widgets/controls",
            "_model_module_version": "1.5.0",
            "_model_name": "HTMLModel",
            "_view_count": null,
            "_view_module": "@jupyter-widgets/controls",
            "_view_module_version": "1.5.0",
            "_view_name": "HTMLView",
            "description": "",
            "description_tooltip": null,
            "layout": "IPY_MODEL_0eb2ac70d27a4ef58a8426e4500eb4f8",
            "placeholder": "​",
            "style": "IPY_MODEL_fc0e78c583b340e0a685516ff4c44990",
            "value": " 26157/26157 [00:47&lt;00:00, 699.17 examples/s]"
          }
        },
        "f995c64219134afca048ba1d8d408b08": {
          "model_module": "@jupyter-widgets/base",
          "model_module_version": "1.2.0",
          "model_name": "LayoutModel",
          "state": {
            "_model_module": "@jupyter-widgets/base",
            "_model_module_version": "1.2.0",
            "_model_name": "LayoutModel",
            "_view_count": null,
            "_view_module": "@jupyter-widgets/base",
            "_view_module_version": "1.2.0",
            "_view_name": "LayoutView",
            "align_content": null,
            "align_items": null,
            "align_self": null,
            "border": null,
            "bottom": null,
            "display": null,
            "flex": null,
            "flex_flow": null,
            "grid_area": null,
            "grid_auto_columns": null,
            "grid_auto_flow": null,
            "grid_auto_rows": null,
            "grid_column": null,
            "grid_gap": null,
            "grid_row": null,
            "grid_template_areas": null,
            "grid_template_columns": null,
            "grid_template_rows": null,
            "height": null,
            "justify_content": null,
            "justify_items": null,
            "left": null,
            "margin": null,
            "max_height": null,
            "max_width": null,
            "min_height": null,
            "min_width": null,
            "object_fit": null,
            "object_position": null,
            "order": null,
            "overflow": null,
            "overflow_x": null,
            "overflow_y": null,
            "padding": null,
            "right": null,
            "top": null,
            "visibility": null,
            "width": null
          }
        },
        "fc0e78c583b340e0a685516ff4c44990": {
          "model_module": "@jupyter-widgets/controls",
          "model_module_version": "1.5.0",
          "model_name": "DescriptionStyleModel",
          "state": {
            "_model_module": "@jupyter-widgets/controls",
            "_model_module_version": "1.5.0",
            "_model_name": "DescriptionStyleModel",
            "_view_count": null,
            "_view_module": "@jupyter-widgets/base",
            "_view_module_version": "1.2.0",
            "_view_name": "StyleView",
            "description_width": ""
          }
        }
      }
    }
  },
  "nbformat": 4,
  "nbformat_minor": 0
}
